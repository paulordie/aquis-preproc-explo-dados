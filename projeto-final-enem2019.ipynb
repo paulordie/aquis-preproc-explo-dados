{
 "cells": [
  {
   "cell_type": "markdown",
   "metadata": {},
   "source": [
    "# Principais Pontos da Especificação do Trabalho"
   ]
  },
  {
   "cell_type": "markdown",
   "metadata": {},
   "source": [
    "1. **Definir questões que sejam interessantes para um negócio e que para ser respondidas precisem da Ciência dos Dados. O negócio pode ser qualquer área de atuação.**\n",
    "\n",
    "\n",
    "2. **Fazer a coleta de dados das fontes de dados disponíveis (pode ser uma fonte ou várias). Avaliando se têm dados para responder as questões identificadas no ponto anterior. Deve avaliar a qualidade dos dados a partir das dimensões de qualidade**\n",
    "\n",
    "\n",
    "3. **Aplicar métodos de pré-processamento de dados estudados.**\n",
    "\n",
    "\n",
    "4. **Explorar seus dados, para responder algumas das questões definidas no ponto 1. Outras questões poderão ser só respondidas depois de usar métodos de ML.**"
   ]
  },
  {
   "cell_type": "markdown",
   "metadata": {},
   "source": [
    "# Equipe"
   ]
  },
  {
   "cell_type": "markdown",
   "metadata": {},
   "source": [
    "* **Everton - edss.cid20@uea.edu.br**\n",
    "\n",
    "* **Maisa   - mvt.cid20@uea.edu.br**\n",
    "\n",
    "* **Paulo   - pcdrc.cid20@uea.edu.br**\n",
    "\n",
    "* **Tiago  - tvdm.cid20@uea.edu.br**"
   ]
  },
  {
   "cell_type": "markdown",
   "metadata": {},
   "source": [
    "# Instalação de Pacotes"
   ]
  },
  {
   "cell_type": "code",
   "execution_count": 7,
   "metadata": {},
   "outputs": [
    {
     "name": "stdout",
     "output_type": "stream",
     "text": [
      "Defaulting to user installation because normal site-packages is not writeable\n",
      "Requirement already satisfied: folium in /home/indtusuario/.local/lib/python3.8/site-packages (0.12.1)\n",
      "Requirement already satisfied: requests in /home/indtusuario/anaconda3/lib/python3.8/site-packages (from folium) (2.24.0)\n",
      "Requirement already satisfied: numpy in /home/indtusuario/anaconda3/lib/python3.8/site-packages (from folium) (1.19.2)\n",
      "Requirement already satisfied: branca>=0.3.0 in /home/indtusuario/.local/lib/python3.8/site-packages (from folium) (0.4.2)\n",
      "Requirement already satisfied: jinja2>=2.9 in /home/indtusuario/anaconda3/lib/python3.8/site-packages (from folium) (2.11.2)\n",
      "Requirement already satisfied: certifi>=2017.4.17 in /home/indtusuario/anaconda3/lib/python3.8/site-packages (from requests->folium) (2020.6.20)\n",
      "Requirement already satisfied: idna<3,>=2.5 in /home/indtusuario/anaconda3/lib/python3.8/site-packages (from requests->folium) (2.10)\n",
      "Requirement already satisfied: chardet<4,>=3.0.2 in /home/indtusuario/anaconda3/lib/python3.8/site-packages (from requests->folium) (3.0.4)\n",
      "Requirement already satisfied: urllib3!=1.25.0,!=1.25.1,<1.26,>=1.21.1 in /home/indtusuario/anaconda3/lib/python3.8/site-packages (from requests->folium) (1.25.11)\n",
      "Requirement already satisfied: MarkupSafe>=0.23 in /home/indtusuario/anaconda3/lib/python3.8/site-packages (from jinja2>=2.9->folium) (1.1.1)\n"
     ]
    }
   ],
   "source": [
    "!pip install folium"
   ]
  },
  {
   "cell_type": "markdown",
   "metadata": {},
   "source": [
    "# Importação de bibliotecas"
   ]
  },
  {
   "cell_type": "code",
   "execution_count": 54,
   "metadata": {},
   "outputs": [],
   "source": [
    "import pandas as pd\n",
    "from scipy import stats\n",
    "#import folium\n",
    "#from folium import plugins\n",
    "import matplotlib.pyplot as plt\n",
    "import numpy as np \n",
    "import seaborn as sns\n",
    "import statsmodels.api as sm\n",
    "from statsmodels.formula.api import ols\n",
    "\n",
    "import statistics as st\n",
    "import statsmodels.stats.proportion as smp\n",
    "from scipy.stats import norm"
   ]
  },
  {
   "cell_type": "markdown",
   "metadata": {},
   "source": [
    "# Questões"
   ]
  },
  {
   "cell_type": "markdown",
   "metadata": {},
   "source": [
    "* Como está o desempenho dos alunos **brasileiros**, segundo o ENEM 2019? Média das notas do brasil e média por região?\n",
    "\n",
    "* Será que o nível de aprendizado em escolas públicas se difere quanto as zonas de **Manaus**(Norte, Sul, Leste, Oeste, Centro)?\n",
    "\n",
    "* A renda familiar influencia nas notas dos alunos de **Manaus**?\n",
    "\n",
    "* O nível de escolaridade da mãe influencia nas notas dos alunos de **Manaus**?"
   ]
  },
  {
   "cell_type": "markdown",
   "metadata": {},
   "source": [
    "# Coleta dos Dados"
   ]
  },
  {
   "cell_type": "markdown",
   "metadata": {},
   "source": [
    "## Fonte 1: \n",
    "\n",
    "INSTITUTO NACIONAL DE ESTUDOS E PESQUISAS EDUCACIONAIS ANÍSIO TEIXEIRA. Microdados do Enem 2019. Brasília: Inep, 2019. Disponível em: https://www.gov.br/inep/pt-br/acesso-a-informacao/dados-abertos/microdados/enem. Acessado em 21/02/2021."
   ]
  },
  {
   "cell_type": "code",
   "execution_count": 3,
   "metadata": {},
   "outputs": [],
   "source": [
    "microdados_enem2019 = pd.read_csv('microdados_enem_2019/DADOS/MICRODADOS_ENEM_2019.csv',sep=';',encoding='ISO-8859-1')"
   ]
  },
  {
   "cell_type": "code",
   "execution_count": 3,
   "metadata": {},
   "outputs": [
    {
     "data": {
      "text/html": [
       "<div>\n",
       "<style scoped>\n",
       "    .dataframe tbody tr th:only-of-type {\n",
       "        vertical-align: middle;\n",
       "    }\n",
       "\n",
       "    .dataframe tbody tr th {\n",
       "        vertical-align: top;\n",
       "    }\n",
       "\n",
       "    .dataframe thead th {\n",
       "        text-align: right;\n",
       "    }\n",
       "</style>\n",
       "<table border=\"1\" class=\"dataframe\">\n",
       "  <thead>\n",
       "    <tr style=\"text-align: right;\">\n",
       "      <th></th>\n",
       "      <th>NU_INSCRICAO</th>\n",
       "      <th>NU_ANO</th>\n",
       "      <th>CO_MUNICIPIO_RESIDENCIA</th>\n",
       "      <th>NO_MUNICIPIO_RESIDENCIA</th>\n",
       "      <th>CO_UF_RESIDENCIA</th>\n",
       "      <th>SG_UF_RESIDENCIA</th>\n",
       "      <th>NU_IDADE</th>\n",
       "      <th>TP_SEXO</th>\n",
       "      <th>TP_ESTADO_CIVIL</th>\n",
       "      <th>TP_COR_RACA</th>\n",
       "      <th>...</th>\n",
       "      <th>Q016</th>\n",
       "      <th>Q017</th>\n",
       "      <th>Q018</th>\n",
       "      <th>Q019</th>\n",
       "      <th>Q020</th>\n",
       "      <th>Q021</th>\n",
       "      <th>Q022</th>\n",
       "      <th>Q023</th>\n",
       "      <th>Q024</th>\n",
       "      <th>Q025</th>\n",
       "    </tr>\n",
       "  </thead>\n",
       "  <tbody>\n",
       "    <tr>\n",
       "      <th>0</th>\n",
       "      <td>190001004627</td>\n",
       "      <td>2019</td>\n",
       "      <td>1506807</td>\n",
       "      <td>Santarém</td>\n",
       "      <td>15</td>\n",
       "      <td>PA</td>\n",
       "      <td>21</td>\n",
       "      <td>M</td>\n",
       "      <td>1</td>\n",
       "      <td>3</td>\n",
       "      <td>...</td>\n",
       "      <td>A</td>\n",
       "      <td>A</td>\n",
       "      <td>A</td>\n",
       "      <td>C</td>\n",
       "      <td>B</td>\n",
       "      <td>A</td>\n",
       "      <td>D</td>\n",
       "      <td>A</td>\n",
       "      <td>B</td>\n",
       "      <td>A</td>\n",
       "    </tr>\n",
       "    <tr>\n",
       "      <th>1</th>\n",
       "      <td>190001004628</td>\n",
       "      <td>2019</td>\n",
       "      <td>1504059</td>\n",
       "      <td>Mãe do Rio</td>\n",
       "      <td>15</td>\n",
       "      <td>PA</td>\n",
       "      <td>16</td>\n",
       "      <td>F</td>\n",
       "      <td>1</td>\n",
       "      <td>3</td>\n",
       "      <td>...</td>\n",
       "      <td>A</td>\n",
       "      <td>A</td>\n",
       "      <td>A</td>\n",
       "      <td>B</td>\n",
       "      <td>B</td>\n",
       "      <td>A</td>\n",
       "      <td>B</td>\n",
       "      <td>A</td>\n",
       "      <td>A</td>\n",
       "      <td>A</td>\n",
       "    </tr>\n",
       "    <tr>\n",
       "      <th>2</th>\n",
       "      <td>190001004629</td>\n",
       "      <td>2019</td>\n",
       "      <td>1505502</td>\n",
       "      <td>Paragominas</td>\n",
       "      <td>15</td>\n",
       "      <td>PA</td>\n",
       "      <td>18</td>\n",
       "      <td>F</td>\n",
       "      <td>1</td>\n",
       "      <td>1</td>\n",
       "      <td>...</td>\n",
       "      <td>B</td>\n",
       "      <td>A</td>\n",
       "      <td>A</td>\n",
       "      <td>D</td>\n",
       "      <td>B</td>\n",
       "      <td>B</td>\n",
       "      <td>D</td>\n",
       "      <td>A</td>\n",
       "      <td>C</td>\n",
       "      <td>B</td>\n",
       "    </tr>\n",
       "    <tr>\n",
       "      <th>3</th>\n",
       "      <td>190001004630</td>\n",
       "      <td>2019</td>\n",
       "      <td>1507706</td>\n",
       "      <td>São Sebastião da Boa Vista</td>\n",
       "      <td>15</td>\n",
       "      <td>PA</td>\n",
       "      <td>23</td>\n",
       "      <td>M</td>\n",
       "      <td>0</td>\n",
       "      <td>3</td>\n",
       "      <td>...</td>\n",
       "      <td>A</td>\n",
       "      <td>A</td>\n",
       "      <td>A</td>\n",
       "      <td>C</td>\n",
       "      <td>A</td>\n",
       "      <td>A</td>\n",
       "      <td>D</td>\n",
       "      <td>A</td>\n",
       "      <td>A</td>\n",
       "      <td>A</td>\n",
       "    </tr>\n",
       "    <tr>\n",
       "      <th>4</th>\n",
       "      <td>190001004631</td>\n",
       "      <td>2019</td>\n",
       "      <td>1503903</td>\n",
       "      <td>Juruti</td>\n",
       "      <td>15</td>\n",
       "      <td>PA</td>\n",
       "      <td>23</td>\n",
       "      <td>M</td>\n",
       "      <td>1</td>\n",
       "      <td>3</td>\n",
       "      <td>...</td>\n",
       "      <td>A</td>\n",
       "      <td>A</td>\n",
       "      <td>A</td>\n",
       "      <td>B</td>\n",
       "      <td>A</td>\n",
       "      <td>A</td>\n",
       "      <td>D</td>\n",
       "      <td>A</td>\n",
       "      <td>A</td>\n",
       "      <td>A</td>\n",
       "    </tr>\n",
       "  </tbody>\n",
       "</table>\n",
       "<p>5 rows × 136 columns</p>\n",
       "</div>"
      ],
      "text/plain": [
       "   NU_INSCRICAO  NU_ANO  CO_MUNICIPIO_RESIDENCIA     NO_MUNICIPIO_RESIDENCIA  \\\n",
       "0  190001004627    2019                  1506807                    Santarém   \n",
       "1  190001004628    2019                  1504059                  Mãe do Rio   \n",
       "2  190001004629    2019                  1505502                 Paragominas   \n",
       "3  190001004630    2019                  1507706  São Sebastião da Boa Vista   \n",
       "4  190001004631    2019                  1503903                      Juruti   \n",
       "\n",
       "   CO_UF_RESIDENCIA SG_UF_RESIDENCIA  NU_IDADE TP_SEXO  TP_ESTADO_CIVIL  \\\n",
       "0                15               PA        21       M                1   \n",
       "1                15               PA        16       F                1   \n",
       "2                15               PA        18       F                1   \n",
       "3                15               PA        23       M                0   \n",
       "4                15               PA        23       M                1   \n",
       "\n",
       "   TP_COR_RACA  ...  Q016  Q017 Q018  Q019 Q020  Q021  Q022  Q023  Q024  Q025  \n",
       "0            3  ...     A     A    A     C    B     A     D     A     B     A  \n",
       "1            3  ...     A     A    A     B    B     A     B     A     A     A  \n",
       "2            1  ...     B     A    A     D    B     B     D     A     C     B  \n",
       "3            3  ...     A     A    A     C    A     A     D     A     A     A  \n",
       "4            3  ...     A     A    A     B    A     A     D     A     A     A  \n",
       "\n",
       "[5 rows x 136 columns]"
      ]
     },
     "execution_count": 3,
     "metadata": {},
     "output_type": "execute_result"
    }
   ],
   "source": [
    "microdados_enem2019.head()"
   ]
  },
  {
   "cell_type": "code",
   "execution_count": 4,
   "metadata": {},
   "outputs": [
    {
     "name": "stdout",
     "output_type": "stream",
     "text": [
      "5095270\n"
     ]
    }
   ],
   "source": [
    "print(len(microdados_enem2019))"
   ]
  },
  {
   "cell_type": "markdown",
   "metadata": {},
   "source": [
    "## Fonte 2: \n",
    "\n",
    "INSTITUTO NACIONAL DE ESTUDOS E PESQUISAS EDUCACIONAIS ANÍSIO TEIXEIRA. Catálogo de Escolas. Brasília: Inep, 2019. Disponível em: https://www.gov.br/inep/pt-br/acesso-a-informacao/dados-abertos/inep-data/catalogo-de-escolas. Acessado em 21/02/2021."
   ]
  },
  {
   "cell_type": "code",
   "execution_count": 5,
   "metadata": {},
   "outputs": [],
   "source": [
    "escolas = pd.read_csv('escolas.csv',sep=';',encoding='utf-8')"
   ]
  },
  {
   "cell_type": "code",
   "execution_count": 7,
   "metadata": {},
   "outputs": [
    {
     "data": {
      "text/html": [
       "<div>\n",
       "<style scoped>\n",
       "    .dataframe tbody tr th:only-of-type {\n",
       "        vertical-align: middle;\n",
       "    }\n",
       "\n",
       "    .dataframe tbody tr th {\n",
       "        vertical-align: top;\n",
       "    }\n",
       "\n",
       "    .dataframe thead th {\n",
       "        text-align: right;\n",
       "    }\n",
       "</style>\n",
       "<table border=\"1\" class=\"dataframe\">\n",
       "  <thead>\n",
       "    <tr style=\"text-align: right;\">\n",
       "      <th></th>\n",
       "      <th>Restrição de Atendimento</th>\n",
       "      <th>Escola</th>\n",
       "      <th>Código INEP</th>\n",
       "      <th>UF</th>\n",
       "      <th>Município</th>\n",
       "      <th>Localização</th>\n",
       "      <th>Localidade Diferenciada</th>\n",
       "      <th>Categoria Administrativa</th>\n",
       "      <th>Endereço</th>\n",
       "      <th>Telefone</th>\n",
       "      <th>Dependência Administrativa</th>\n",
       "      <th>Categoria Escola Privada</th>\n",
       "      <th>Conveniada Poder Público</th>\n",
       "      <th>Regulamentação pelo Conselho de Educação</th>\n",
       "      <th>Porte da Escola</th>\n",
       "      <th>Etapas e Modalidade de Ensino Oferecidas</th>\n",
       "      <th>Outras Ofertas Educacionais</th>\n",
       "      <th>Latitude</th>\n",
       "      <th>Longitude</th>\n",
       "    </tr>\n",
       "  </thead>\n",
       "  <tbody>\n",
       "    <tr>\n",
       "      <th>0</th>\n",
       "      <td>ESCOLA ATENDE EXCLUSIVAMENTE ALUNOS COM DEFICI...</td>\n",
       "      <td>EEEE ABNAEL MACHADO DE LIMA - CENE</td>\n",
       "      <td>11000023</td>\n",
       "      <td>RO</td>\n",
       "      <td>Porto Velho</td>\n",
       "      <td>Urbana</td>\n",
       "      <td>A escola não está em área de localização difer...</td>\n",
       "      <td>Pública</td>\n",
       "      <td>AVENIDA AMAZONAS, 6492 ZONA LESTE. TIRADENTES....</td>\n",
       "      <td>(69) 992083054</td>\n",
       "      <td>Estadual</td>\n",
       "      <td>Não Informado</td>\n",
       "      <td>Não</td>\n",
       "      <td>Não</td>\n",
       "      <td>Entre 51 e 200 matrículas de escolarização</td>\n",
       "      <td>Ensino Fundamental</td>\n",
       "      <td>Atendimento Educacional Especializado</td>\n",
       "      <td>-8.758459</td>\n",
       "      <td>-63.854011</td>\n",
       "    </tr>\n",
       "    <tr>\n",
       "      <th>1</th>\n",
       "      <td>ESCOLA EM FUNCIONAMENTO E SEM RESTRIÇÃO DE ATE...</td>\n",
       "      <td>EMEIEF PEQUENOS TALENTOS</td>\n",
       "      <td>11000040</td>\n",
       "      <td>RO</td>\n",
       "      <td>Porto Velho</td>\n",
       "      <td>Urbana</td>\n",
       "      <td>A escola não está em área de localização difer...</td>\n",
       "      <td>Pública</td>\n",
       "      <td>RUA CAETANO, 3256 PREDIO. CALADINHO. 76808-108...</td>\n",
       "      <td>(69) 32135237</td>\n",
       "      <td>Municipal</td>\n",
       "      <td>Não Informado</td>\n",
       "      <td>Não</td>\n",
       "      <td>Sim</td>\n",
       "      <td>Entre 201 e 500 matrículas de escolarização</td>\n",
       "      <td>Educação Infantil</td>\n",
       "      <td>NaN</td>\n",
       "      <td>-8.793730</td>\n",
       "      <td>-63.883919</td>\n",
       "    </tr>\n",
       "    <tr>\n",
       "      <th>2</th>\n",
       "      <td>ESCOLA EM FUNCIONAMENTO E SEM RESTRIÇÃO DE ATE...</td>\n",
       "      <td>CENTRO DE ENSINO CLASSE A</td>\n",
       "      <td>11000058</td>\n",
       "      <td>RO</td>\n",
       "      <td>Porto Velho</td>\n",
       "      <td>Urbana</td>\n",
       "      <td>A escola não está em área de localização difer...</td>\n",
       "      <td>Privada</td>\n",
       "      <td>AVENIDA CARLOS GOMES, 1135 CENTRO. 76801-123 P...</td>\n",
       "      <td>(69) 32244473</td>\n",
       "      <td>Privada</td>\n",
       "      <td>Particular</td>\n",
       "      <td>Não</td>\n",
       "      <td>Sim</td>\n",
       "      <td>Mais de 1000 matrículas de escolarização</td>\n",
       "      <td>Educação Infantil, Ensino Fundamental, Ensino ...</td>\n",
       "      <td>NaN</td>\n",
       "      <td>-8.760734</td>\n",
       "      <td>-63.901986</td>\n",
       "    </tr>\n",
       "    <tr>\n",
       "      <th>3</th>\n",
       "      <td>ESCOLA EM FUNCIONAMENTO E SEM RESTRIÇÃO DE ATE...</td>\n",
       "      <td>CENTRO EDUCACIONAL PRESBITERIANO 15 DE NOVEMBRO</td>\n",
       "      <td>11000082</td>\n",
       "      <td>RO</td>\n",
       "      <td>Porto Velho</td>\n",
       "      <td>Urbana</td>\n",
       "      <td>A escola não está em área de localização difer...</td>\n",
       "      <td>Privada</td>\n",
       "      <td>RUA ALMIRANTE BARROSO, 1483 SANTA BARBARA. 768...</td>\n",
       "      <td>(69) 32245636</td>\n",
       "      <td>Privada</td>\n",
       "      <td>Particular</td>\n",
       "      <td>Não</td>\n",
       "      <td>Sim</td>\n",
       "      <td>Entre 51 e 200 matrículas de escolarização</td>\n",
       "      <td>Educação Infantil, Ensino Fundamental</td>\n",
       "      <td>NaN</td>\n",
       "      <td>-8.765205</td>\n",
       "      <td>-63.896177</td>\n",
       "    </tr>\n",
       "    <tr>\n",
       "      <th>4</th>\n",
       "      <td>ESCOLA EM FUNCIONAMENTO E SEM RESTRIÇÃO DE ATE...</td>\n",
       "      <td>CENTRO EDUC CORA CORALINA</td>\n",
       "      <td>11000104</td>\n",
       "      <td>RO</td>\n",
       "      <td>Porto Velho</td>\n",
       "      <td>Urbana</td>\n",
       "      <td>A escola não está em área de localização difer...</td>\n",
       "      <td>Privada</td>\n",
       "      <td>RUA MEXICO, 1056 NOVA PORTO VELHO. 76820-190 P...</td>\n",
       "      <td>(69) 32252616</td>\n",
       "      <td>Privada</td>\n",
       "      <td>Particular</td>\n",
       "      <td>Não</td>\n",
       "      <td>Sim</td>\n",
       "      <td>Entre 501 e 1000 matrículas de escolarização</td>\n",
       "      <td>Educação Infantil, Ensino Fundamental</td>\n",
       "      <td>NaN</td>\n",
       "      <td>-8.768632</td>\n",
       "      <td>-63.875471</td>\n",
       "    </tr>\n",
       "  </tbody>\n",
       "</table>\n",
       "</div>"
      ],
      "text/plain": [
       "                            Restrição de Atendimento  \\\n",
       "0  ESCOLA ATENDE EXCLUSIVAMENTE ALUNOS COM DEFICI...   \n",
       "1  ESCOLA EM FUNCIONAMENTO E SEM RESTRIÇÃO DE ATE...   \n",
       "2  ESCOLA EM FUNCIONAMENTO E SEM RESTRIÇÃO DE ATE...   \n",
       "3  ESCOLA EM FUNCIONAMENTO E SEM RESTRIÇÃO DE ATE...   \n",
       "4  ESCOLA EM FUNCIONAMENTO E SEM RESTRIÇÃO DE ATE...   \n",
       "\n",
       "                                            Escola  Código INEP  UF  \\\n",
       "0               EEEE ABNAEL MACHADO DE LIMA - CENE     11000023  RO   \n",
       "1                         EMEIEF PEQUENOS TALENTOS     11000040  RO   \n",
       "2                        CENTRO DE ENSINO CLASSE A     11000058  RO   \n",
       "3  CENTRO EDUCACIONAL PRESBITERIANO 15 DE NOVEMBRO     11000082  RO   \n",
       "4                        CENTRO EDUC CORA CORALINA     11000104  RO   \n",
       "\n",
       "     Município Localização                            Localidade Diferenciada  \\\n",
       "0  Porto Velho      Urbana  A escola não está em área de localização difer...   \n",
       "1  Porto Velho      Urbana  A escola não está em área de localização difer...   \n",
       "2  Porto Velho      Urbana  A escola não está em área de localização difer...   \n",
       "3  Porto Velho      Urbana  A escola não está em área de localização difer...   \n",
       "4  Porto Velho      Urbana  A escola não está em área de localização difer...   \n",
       "\n",
       "  Categoria Administrativa                                           Endereço  \\\n",
       "0                  Pública  AVENIDA AMAZONAS, 6492 ZONA LESTE. TIRADENTES....   \n",
       "1                  Pública  RUA CAETANO, 3256 PREDIO. CALADINHO. 76808-108...   \n",
       "2                  Privada  AVENIDA CARLOS GOMES, 1135 CENTRO. 76801-123 P...   \n",
       "3                  Privada  RUA ALMIRANTE BARROSO, 1483 SANTA BARBARA. 768...   \n",
       "4                  Privada  RUA MEXICO, 1056 NOVA PORTO VELHO. 76820-190 P...   \n",
       "\n",
       "         Telefone Dependência Administrativa Categoria Escola Privada  \\\n",
       "0  (69) 992083054                   Estadual            Não Informado   \n",
       "1   (69) 32135237                  Municipal            Não Informado   \n",
       "2   (69) 32244473                    Privada               Particular   \n",
       "3   (69) 32245636                    Privada               Particular   \n",
       "4   (69) 32252616                    Privada               Particular   \n",
       "\n",
       "  Conveniada Poder Público Regulamentação pelo Conselho de Educação  \\\n",
       "0                      Não                                      Não   \n",
       "1                      Não                                      Sim   \n",
       "2                      Não                                      Sim   \n",
       "3                      Não                                      Sim   \n",
       "4                      Não                                      Sim   \n",
       "\n",
       "                                Porte da Escola  \\\n",
       "0    Entre 51 e 200 matrículas de escolarização   \n",
       "1   Entre 201 e 500 matrículas de escolarização   \n",
       "2      Mais de 1000 matrículas de escolarização   \n",
       "3    Entre 51 e 200 matrículas de escolarização   \n",
       "4  Entre 501 e 1000 matrículas de escolarização   \n",
       "\n",
       "            Etapas e Modalidade de Ensino Oferecidas  \\\n",
       "0                                 Ensino Fundamental   \n",
       "1                                  Educação Infantil   \n",
       "2  Educação Infantil, Ensino Fundamental, Ensino ...   \n",
       "3              Educação Infantil, Ensino Fundamental   \n",
       "4              Educação Infantil, Ensino Fundamental   \n",
       "\n",
       "             Outras Ofertas Educacionais  Latitude  Longitude  \n",
       "0  Atendimento Educacional Especializado -8.758459 -63.854011  \n",
       "1                                    NaN -8.793730 -63.883919  \n",
       "2                                    NaN -8.760734 -63.901986  \n",
       "3                                    NaN -8.765205 -63.896177  \n",
       "4                                    NaN -8.768632 -63.875471  "
      ]
     },
     "execution_count": 7,
     "metadata": {},
     "output_type": "execute_result"
    }
   ],
   "source": [
    "escolas.head()"
   ]
  },
  {
   "cell_type": "code",
   "execution_count": 6,
   "metadata": {},
   "outputs": [
    {
     "name": "stdout",
     "output_type": "stream",
     "text": [
      "222936\n"
     ]
    }
   ],
   "source": [
    "print(len(escolas))"
   ]
  },
  {
   "cell_type": "markdown",
   "metadata": {},
   "source": [
    "## Fonte 3:\n",
    "\n",
    "Catálogo de Bairros e Zonas de Manaus - Wikipedia - https://pt.wikipedia.org/wiki/Lista_de_bairros_de_Manaus"
   ]
  },
  {
   "cell_type": "code",
   "execution_count": 14,
   "metadata": {},
   "outputs": [
    {
     "data": {
      "text/html": [
       "<div>\n",
       "<style scoped>\n",
       "    .dataframe tbody tr th:only-of-type {\n",
       "        vertical-align: middle;\n",
       "    }\n",
       "\n",
       "    .dataframe tbody tr th {\n",
       "        vertical-align: top;\n",
       "    }\n",
       "\n",
       "    .dataframe thead th {\n",
       "        text-align: right;\n",
       "    }\n",
       "</style>\n",
       "<table border=\"1\" class=\"dataframe\">\n",
       "  <thead>\n",
       "    <tr style=\"text-align: right;\">\n",
       "      <th></th>\n",
       "      <th>Bairro</th>\n",
       "      <th>Zona administrativa</th>\n",
       "      <th>Área (ha)</th>\n",
       "      <th>População (estimativa 2017)</th>\n",
       "      <th>Densidade Demográfica (hab./km²)</th>\n",
       "      <th>Domicílios particulares</th>\n",
       "    </tr>\n",
       "  </thead>\n",
       "  <tbody>\n",
       "    <tr>\n",
       "      <th>0</th>\n",
       "      <td>Adrianópolis</td>\n",
       "      <td>Centro-Sul</td>\n",
       "      <td>248,45</td>\n",
       "      <td>10 459</td>\n",
       "      <td>3 560,88</td>\n",
       "      <td>3 224</td>\n",
       "    </tr>\n",
       "    <tr>\n",
       "      <th>1</th>\n",
       "      <td>Aleixo</td>\n",
       "      <td>Centro-Sul</td>\n",
       "      <td>618,34</td>\n",
       "      <td>24 417</td>\n",
       "      <td>3 340,40</td>\n",
       "      <td>6 101</td>\n",
       "    </tr>\n",
       "    <tr>\n",
       "      <th>2</th>\n",
       "      <td>Alvorada</td>\n",
       "      <td>Centro-Oeste</td>\n",
       "      <td>553,18</td>\n",
       "      <td>76 392</td>\n",
       "      <td>11 681,73</td>\n",
       "      <td>18 193</td>\n",
       "    </tr>\n",
       "    <tr>\n",
       "      <th>3</th>\n",
       "      <td>Armando Mendes</td>\n",
       "      <td>Leste</td>\n",
       "      <td>307,65</td>\n",
       "      <td>33 441</td>\n",
       "      <td>9 194,86</td>\n",
       "      <td>7 402</td>\n",
       "    </tr>\n",
       "    <tr>\n",
       "      <th>4</th>\n",
       "      <td>Betânia</td>\n",
       "      <td>Sul</td>\n",
       "      <td>52,51</td>\n",
       "      <td>12 940</td>\n",
       "      <td>20 845,55</td>\n",
       "      <td>3 119</td>\n",
       "    </tr>\n",
       "  </tbody>\n",
       "</table>\n",
       "</div>"
      ],
      "text/plain": [
       "           Bairro Zona administrativa Área (ha) População (estimativa 2017)  \\\n",
       "0    Adrianópolis          Centro-Sul    248,45                      10 459   \n",
       "1          Aleixo          Centro-Sul    618,34                      24 417   \n",
       "2        Alvorada        Centro-Oeste    553,18                      76 392   \n",
       "3  Armando Mendes               Leste    307,65                      33 441   \n",
       "4         Betânia                 Sul     52,51                      12 940   \n",
       "\n",
       "  Densidade Demográfica (hab./km²) Domicílios particulares  \n",
       "0                         3 560,88                   3 224  \n",
       "1                         3 340,40                   6 101  \n",
       "2                        11 681,73                  18 193  \n",
       "3                         9 194,86                   7 402  \n",
       "4                        20 845,55                   3 119  "
      ]
     },
     "execution_count": 14,
     "metadata": {},
     "output_type": "execute_result"
    }
   ],
   "source": [
    "df_bairro_zona = pd.read_csv('bairros_manaus_x_zona.csv', sep=',')\n",
    "df_bairro_zona.head()"
   ]
  },
  {
   "cell_type": "code",
   "execution_count": 9,
   "metadata": {},
   "outputs": [],
   "source": [
    "# Mostar o head()"
   ]
  },
  {
   "cell_type": "markdown",
   "metadata": {},
   "source": [
    "# Pré-processamento dos Dados"
   ]
  },
  {
   "cell_type": "markdown",
   "metadata": {},
   "source": [
    "## Pré-processamento - Brasil"
   ]
  },
  {
   "cell_type": "code",
   "execution_count": 4,
   "metadata": {},
   "outputs": [],
   "source": [
    "#Filtrando somente os registros dos alunos que compareceram pelo oas 2 dias de provas. \n",
    "df_brasil_clean = microdados_enem2019.loc[(microdados_enem2019['TP_PRESENCA_CN'] == 1) \n",
    "                                   & (microdados_enem2019['TP_PRESENCA_CH'] == 1) \n",
    "                                   & (microdados_enem2019['TP_PRESENCA_LC'] == 1) \n",
    "                                   & (microdados_enem2019['TP_PRESENCA_MT'] == 1)]"
   ]
  },
  {
   "cell_type": "code",
   "execution_count": 5,
   "metadata": {},
   "outputs": [
    {
     "data": {
      "text/html": [
       "<div>\n",
       "<style scoped>\n",
       "    .dataframe tbody tr th:only-of-type {\n",
       "        vertical-align: middle;\n",
       "    }\n",
       "\n",
       "    .dataframe tbody tr th {\n",
       "        vertical-align: top;\n",
       "    }\n",
       "\n",
       "    .dataframe thead th {\n",
       "        text-align: right;\n",
       "    }\n",
       "</style>\n",
       "<table border=\"1\" class=\"dataframe\">\n",
       "  <thead>\n",
       "    <tr style=\"text-align: right;\">\n",
       "      <th></th>\n",
       "      <th>NU_INSCRICAO</th>\n",
       "      <th>NU_ANO</th>\n",
       "      <th>CO_MUNICIPIO_RESIDENCIA</th>\n",
       "      <th>NO_MUNICIPIO_RESIDENCIA</th>\n",
       "      <th>CO_UF_RESIDENCIA</th>\n",
       "      <th>SG_UF_RESIDENCIA</th>\n",
       "      <th>NU_IDADE</th>\n",
       "      <th>TP_SEXO</th>\n",
       "      <th>TP_ESTADO_CIVIL</th>\n",
       "      <th>TP_COR_RACA</th>\n",
       "      <th>...</th>\n",
       "      <th>Q016</th>\n",
       "      <th>Q017</th>\n",
       "      <th>Q018</th>\n",
       "      <th>Q019</th>\n",
       "      <th>Q020</th>\n",
       "      <th>Q021</th>\n",
       "      <th>Q022</th>\n",
       "      <th>Q023</th>\n",
       "      <th>Q024</th>\n",
       "      <th>Q025</th>\n",
       "    </tr>\n",
       "  </thead>\n",
       "  <tbody>\n",
       "    <tr>\n",
       "      <th>0</th>\n",
       "      <td>190001004627</td>\n",
       "      <td>2019</td>\n",
       "      <td>1506807</td>\n",
       "      <td>Santarém</td>\n",
       "      <td>15</td>\n",
       "      <td>PA</td>\n",
       "      <td>21</td>\n",
       "      <td>M</td>\n",
       "      <td>1</td>\n",
       "      <td>3</td>\n",
       "      <td>...</td>\n",
       "      <td>A</td>\n",
       "      <td>A</td>\n",
       "      <td>A</td>\n",
       "      <td>C</td>\n",
       "      <td>B</td>\n",
       "      <td>A</td>\n",
       "      <td>D</td>\n",
       "      <td>A</td>\n",
       "      <td>B</td>\n",
       "      <td>A</td>\n",
       "    </tr>\n",
       "    <tr>\n",
       "      <th>1</th>\n",
       "      <td>190001004628</td>\n",
       "      <td>2019</td>\n",
       "      <td>1504059</td>\n",
       "      <td>Mãe do Rio</td>\n",
       "      <td>15</td>\n",
       "      <td>PA</td>\n",
       "      <td>16</td>\n",
       "      <td>F</td>\n",
       "      <td>1</td>\n",
       "      <td>3</td>\n",
       "      <td>...</td>\n",
       "      <td>A</td>\n",
       "      <td>A</td>\n",
       "      <td>A</td>\n",
       "      <td>B</td>\n",
       "      <td>B</td>\n",
       "      <td>A</td>\n",
       "      <td>B</td>\n",
       "      <td>A</td>\n",
       "      <td>A</td>\n",
       "      <td>A</td>\n",
       "    </tr>\n",
       "    <tr>\n",
       "      <th>2</th>\n",
       "      <td>190001004629</td>\n",
       "      <td>2019</td>\n",
       "      <td>1505502</td>\n",
       "      <td>Paragominas</td>\n",
       "      <td>15</td>\n",
       "      <td>PA</td>\n",
       "      <td>18</td>\n",
       "      <td>F</td>\n",
       "      <td>1</td>\n",
       "      <td>1</td>\n",
       "      <td>...</td>\n",
       "      <td>B</td>\n",
       "      <td>A</td>\n",
       "      <td>A</td>\n",
       "      <td>D</td>\n",
       "      <td>B</td>\n",
       "      <td>B</td>\n",
       "      <td>D</td>\n",
       "      <td>A</td>\n",
       "      <td>C</td>\n",
       "      <td>B</td>\n",
       "    </tr>\n",
       "    <tr>\n",
       "      <th>5</th>\n",
       "      <td>190001004632</td>\n",
       "      <td>2019</td>\n",
       "      <td>1500800</td>\n",
       "      <td>Ananindeua</td>\n",
       "      <td>15</td>\n",
       "      <td>PA</td>\n",
       "      <td>31</td>\n",
       "      <td>M</td>\n",
       "      <td>1</td>\n",
       "      <td>1</td>\n",
       "      <td>...</td>\n",
       "      <td>A</td>\n",
       "      <td>A</td>\n",
       "      <td>A</td>\n",
       "      <td>B</td>\n",
       "      <td>A</td>\n",
       "      <td>A</td>\n",
       "      <td>D</td>\n",
       "      <td>A</td>\n",
       "      <td>A</td>\n",
       "      <td>A</td>\n",
       "    </tr>\n",
       "    <tr>\n",
       "      <th>6</th>\n",
       "      <td>190001004633</td>\n",
       "      <td>2019</td>\n",
       "      <td>1504208</td>\n",
       "      <td>Marabá</td>\n",
       "      <td>15</td>\n",
       "      <td>PA</td>\n",
       "      <td>30</td>\n",
       "      <td>F</td>\n",
       "      <td>2</td>\n",
       "      <td>3</td>\n",
       "      <td>...</td>\n",
       "      <td>A</td>\n",
       "      <td>A</td>\n",
       "      <td>A</td>\n",
       "      <td>B</td>\n",
       "      <td>A</td>\n",
       "      <td>A</td>\n",
       "      <td>B</td>\n",
       "      <td>A</td>\n",
       "      <td>A</td>\n",
       "      <td>B</td>\n",
       "    </tr>\n",
       "    <tr>\n",
       "      <th>...</th>\n",
       "      <td>...</td>\n",
       "      <td>...</td>\n",
       "      <td>...</td>\n",
       "      <td>...</td>\n",
       "      <td>...</td>\n",
       "      <td>...</td>\n",
       "      <td>...</td>\n",
       "      <td>...</td>\n",
       "      <td>...</td>\n",
       "      <td>...</td>\n",
       "      <td>...</td>\n",
       "      <td>...</td>\n",
       "      <td>...</td>\n",
       "      <td>...</td>\n",
       "      <td>...</td>\n",
       "      <td>...</td>\n",
       "      <td>...</td>\n",
       "      <td>...</td>\n",
       "      <td>...</td>\n",
       "      <td>...</td>\n",
       "      <td>...</td>\n",
       "    </tr>\n",
       "    <tr>\n",
       "      <th>5095261</th>\n",
       "      <td>190006129585</td>\n",
       "      <td>2019</td>\n",
       "      <td>2927408</td>\n",
       "      <td>Salvador</td>\n",
       "      <td>29</td>\n",
       "      <td>BA</td>\n",
       "      <td>27</td>\n",
       "      <td>F</td>\n",
       "      <td>0</td>\n",
       "      <td>2</td>\n",
       "      <td>...</td>\n",
       "      <td>A</td>\n",
       "      <td>A</td>\n",
       "      <td>A</td>\n",
       "      <td>B</td>\n",
       "      <td>A</td>\n",
       "      <td>B</td>\n",
       "      <td>C</td>\n",
       "      <td>A</td>\n",
       "      <td>B</td>\n",
       "      <td>B</td>\n",
       "    </tr>\n",
       "    <tr>\n",
       "      <th>5095262</th>\n",
       "      <td>190006129586</td>\n",
       "      <td>2019</td>\n",
       "      <td>2928604</td>\n",
       "      <td>Santo Amaro</td>\n",
       "      <td>29</td>\n",
       "      <td>BA</td>\n",
       "      <td>22</td>\n",
       "      <td>F</td>\n",
       "      <td>2</td>\n",
       "      <td>2</td>\n",
       "      <td>...</td>\n",
       "      <td>A</td>\n",
       "      <td>A</td>\n",
       "      <td>A</td>\n",
       "      <td>B</td>\n",
       "      <td>B</td>\n",
       "      <td>A</td>\n",
       "      <td>E</td>\n",
       "      <td>B</td>\n",
       "      <td>B</td>\n",
       "      <td>B</td>\n",
       "    </tr>\n",
       "    <tr>\n",
       "      <th>5095263</th>\n",
       "      <td>190006129587</td>\n",
       "      <td>2019</td>\n",
       "      <td>2906808</td>\n",
       "      <td>Cansanção</td>\n",
       "      <td>29</td>\n",
       "      <td>BA</td>\n",
       "      <td>32</td>\n",
       "      <td>M</td>\n",
       "      <td>0</td>\n",
       "      <td>3</td>\n",
       "      <td>...</td>\n",
       "      <td>B</td>\n",
       "      <td>A</td>\n",
       "      <td>A</td>\n",
       "      <td>B</td>\n",
       "      <td>B</td>\n",
       "      <td>A</td>\n",
       "      <td>C</td>\n",
       "      <td>A</td>\n",
       "      <td>B</td>\n",
       "      <td>B</td>\n",
       "    </tr>\n",
       "    <tr>\n",
       "      <th>5095268</th>\n",
       "      <td>190006129592</td>\n",
       "      <td>2019</td>\n",
       "      <td>2927408</td>\n",
       "      <td>Salvador</td>\n",
       "      <td>29</td>\n",
       "      <td>BA</td>\n",
       "      <td>16</td>\n",
       "      <td>M</td>\n",
       "      <td>1</td>\n",
       "      <td>1</td>\n",
       "      <td>...</td>\n",
       "      <td>B</td>\n",
       "      <td>A</td>\n",
       "      <td>A</td>\n",
       "      <td>B</td>\n",
       "      <td>B</td>\n",
       "      <td>A</td>\n",
       "      <td>C</td>\n",
       "      <td>A</td>\n",
       "      <td>B</td>\n",
       "      <td>B</td>\n",
       "    </tr>\n",
       "    <tr>\n",
       "      <th>5095269</th>\n",
       "      <td>190006129593</td>\n",
       "      <td>2019</td>\n",
       "      <td>2914802</td>\n",
       "      <td>Itabuna</td>\n",
       "      <td>29</td>\n",
       "      <td>BA</td>\n",
       "      <td>25</td>\n",
       "      <td>F</td>\n",
       "      <td>1</td>\n",
       "      <td>2</td>\n",
       "      <td>...</td>\n",
       "      <td>B</td>\n",
       "      <td>A</td>\n",
       "      <td>B</td>\n",
       "      <td>B</td>\n",
       "      <td>B</td>\n",
       "      <td>A</td>\n",
       "      <td>B</td>\n",
       "      <td>A</td>\n",
       "      <td>B</td>\n",
       "      <td>B</td>\n",
       "    </tr>\n",
       "  </tbody>\n",
       "</table>\n",
       "<p>3702008 rows × 136 columns</p>\n",
       "</div>"
      ],
      "text/plain": [
       "         NU_INSCRICAO  NU_ANO  CO_MUNICIPIO_RESIDENCIA  \\\n",
       "0        190001004627    2019                  1506807   \n",
       "1        190001004628    2019                  1504059   \n",
       "2        190001004629    2019                  1505502   \n",
       "5        190001004632    2019                  1500800   \n",
       "6        190001004633    2019                  1504208   \n",
       "...               ...     ...                      ...   \n",
       "5095261  190006129585    2019                  2927408   \n",
       "5095262  190006129586    2019                  2928604   \n",
       "5095263  190006129587    2019                  2906808   \n",
       "5095268  190006129592    2019                  2927408   \n",
       "5095269  190006129593    2019                  2914802   \n",
       "\n",
       "        NO_MUNICIPIO_RESIDENCIA  CO_UF_RESIDENCIA SG_UF_RESIDENCIA  NU_IDADE  \\\n",
       "0                      Santarém                15               PA        21   \n",
       "1                    Mãe do Rio                15               PA        16   \n",
       "2                   Paragominas                15               PA        18   \n",
       "5                    Ananindeua                15               PA        31   \n",
       "6                        Marabá                15               PA        30   \n",
       "...                         ...               ...              ...       ...   \n",
       "5095261                Salvador                29               BA        27   \n",
       "5095262             Santo Amaro                29               BA        22   \n",
       "5095263               Cansanção                29               BA        32   \n",
       "5095268                Salvador                29               BA        16   \n",
       "5095269                 Itabuna                29               BA        25   \n",
       "\n",
       "        TP_SEXO  TP_ESTADO_CIVIL  TP_COR_RACA  ...  Q016  Q017 Q018  Q019  \\\n",
       "0             M                1            3  ...     A     A    A     C   \n",
       "1             F                1            3  ...     A     A    A     B   \n",
       "2             F                1            1  ...     B     A    A     D   \n",
       "5             M                1            1  ...     A     A    A     B   \n",
       "6             F                2            3  ...     A     A    A     B   \n",
       "...         ...              ...          ...  ...   ...   ...  ...   ...   \n",
       "5095261       F                0            2  ...     A     A    A     B   \n",
       "5095262       F                2            2  ...     A     A    A     B   \n",
       "5095263       M                0            3  ...     B     A    A     B   \n",
       "5095268       M                1            1  ...     B     A    A     B   \n",
       "5095269       F                1            2  ...     B     A    B     B   \n",
       "\n",
       "        Q020  Q021  Q022  Q023  Q024  Q025  \n",
       "0          B     A     D     A     B     A  \n",
       "1          B     A     B     A     A     A  \n",
       "2          B     B     D     A     C     B  \n",
       "5          A     A     D     A     A     A  \n",
       "6          A     A     B     A     A     B  \n",
       "...      ...   ...   ...   ...   ...   ...  \n",
       "5095261    A     B     C     A     B     B  \n",
       "5095262    B     A     E     B     B     B  \n",
       "5095263    B     A     C     A     B     B  \n",
       "5095268    B     A     C     A     B     B  \n",
       "5095269    B     A     B     A     B     B  \n",
       "\n",
       "[3702008 rows x 136 columns]"
      ]
     },
     "execution_count": 5,
     "metadata": {},
     "output_type": "execute_result"
    }
   ],
   "source": [
    "df_brasil_clean"
   ]
  },
  {
   "cell_type": "code",
   "execution_count": 6,
   "metadata": {},
   "outputs": [
    {
     "data": {
      "text/plain": [
       "SG_UF_RESIDENCIA\n",
       "SP    581184\n",
       "MG    393097\n",
       "BA    289229\n",
       "RJ    244340\n",
       "CE    221918\n",
       "PA    207807\n",
       "PE    202753\n",
       "MA    164049\n",
       "RS    156058\n",
       "PR    150462\n",
       "GO    123721\n",
       "PB    114046\n",
       "PI     94239\n",
       "RN     90383\n",
       "SC     79135\n",
       "AM     74486\n",
       "ES     72368\n",
       "AL     68750\n",
       "DF     66709\n",
       "MT     60471\n",
       "SE     57886\n",
       "MS     48751\n",
       "RO     40880\n",
       "TO     33802\n",
       "AP     29552\n",
       "AC     27133\n",
       "RR      8799\n",
       "Name: NU_INSCRICAO, dtype: int64"
      ]
     },
     "execution_count": 6,
     "metadata": {},
     "output_type": "execute_result"
    }
   ],
   "source": [
    "df_brasil_clean.groupby('SG_UF_RESIDENCIA')['NU_INSCRICAO'].count().sort_values(ascending=False)"
   ]
  },
  {
   "cell_type": "code",
   "execution_count": 7,
   "metadata": {},
   "outputs": [],
   "source": [
    "# Retirando registros que CO_ESCOLA é NaN\n",
    "df_brasil_clean = df_brasil_clean.dropna(subset=['CO_ESCOLA']).reset_index(drop=True)"
   ]
  },
  {
   "cell_type": "code",
   "execution_count": 8,
   "metadata": {},
   "outputs": [
    {
     "data": {
      "text/html": [
       "<div>\n",
       "<style scoped>\n",
       "    .dataframe tbody tr th:only-of-type {\n",
       "        vertical-align: middle;\n",
       "    }\n",
       "\n",
       "    .dataframe tbody tr th {\n",
       "        vertical-align: top;\n",
       "    }\n",
       "\n",
       "    .dataframe thead th {\n",
       "        text-align: right;\n",
       "    }\n",
       "</style>\n",
       "<table border=\"1\" class=\"dataframe\">\n",
       "  <thead>\n",
       "    <tr style=\"text-align: right;\">\n",
       "      <th></th>\n",
       "      <th>NU_INSCRICAO</th>\n",
       "      <th>NU_ANO</th>\n",
       "      <th>CO_MUNICIPIO_RESIDENCIA</th>\n",
       "      <th>NO_MUNICIPIO_RESIDENCIA</th>\n",
       "      <th>CO_UF_RESIDENCIA</th>\n",
       "      <th>SG_UF_RESIDENCIA</th>\n",
       "      <th>NU_IDADE</th>\n",
       "      <th>TP_SEXO</th>\n",
       "      <th>TP_ESTADO_CIVIL</th>\n",
       "      <th>TP_COR_RACA</th>\n",
       "      <th>...</th>\n",
       "      <th>Q016</th>\n",
       "      <th>Q017</th>\n",
       "      <th>Q018</th>\n",
       "      <th>Q019</th>\n",
       "      <th>Q020</th>\n",
       "      <th>Q021</th>\n",
       "      <th>Q022</th>\n",
       "      <th>Q023</th>\n",
       "      <th>Q024</th>\n",
       "      <th>Q025</th>\n",
       "    </tr>\n",
       "  </thead>\n",
       "  <tbody>\n",
       "    <tr>\n",
       "      <th>0</th>\n",
       "      <td>190001004629</td>\n",
       "      <td>2019</td>\n",
       "      <td>1505502</td>\n",
       "      <td>Paragominas</td>\n",
       "      <td>15</td>\n",
       "      <td>PA</td>\n",
       "      <td>18</td>\n",
       "      <td>F</td>\n",
       "      <td>1</td>\n",
       "      <td>1</td>\n",
       "      <td>...</td>\n",
       "      <td>B</td>\n",
       "      <td>A</td>\n",
       "      <td>A</td>\n",
       "      <td>D</td>\n",
       "      <td>B</td>\n",
       "      <td>B</td>\n",
       "      <td>D</td>\n",
       "      <td>A</td>\n",
       "      <td>C</td>\n",
       "      <td>B</td>\n",
       "    </tr>\n",
       "    <tr>\n",
       "      <th>1</th>\n",
       "      <td>190001004634</td>\n",
       "      <td>2019</td>\n",
       "      <td>1501402</td>\n",
       "      <td>Belém</td>\n",
       "      <td>15</td>\n",
       "      <td>PA</td>\n",
       "      <td>26</td>\n",
       "      <td>F</td>\n",
       "      <td>0</td>\n",
       "      <td>3</td>\n",
       "      <td>...</td>\n",
       "      <td>A</td>\n",
       "      <td>A</td>\n",
       "      <td>A</td>\n",
       "      <td>B</td>\n",
       "      <td>A</td>\n",
       "      <td>A</td>\n",
       "      <td>B</td>\n",
       "      <td>A</td>\n",
       "      <td>A</td>\n",
       "      <td>A</td>\n",
       "    </tr>\n",
       "    <tr>\n",
       "      <th>2</th>\n",
       "      <td>190001004642</td>\n",
       "      <td>2019</td>\n",
       "      <td>1502400</td>\n",
       "      <td>Castanhal</td>\n",
       "      <td>15</td>\n",
       "      <td>PA</td>\n",
       "      <td>17</td>\n",
       "      <td>F</td>\n",
       "      <td>1</td>\n",
       "      <td>3</td>\n",
       "      <td>...</td>\n",
       "      <td>A</td>\n",
       "      <td>A</td>\n",
       "      <td>A</td>\n",
       "      <td>B</td>\n",
       "      <td>B</td>\n",
       "      <td>A</td>\n",
       "      <td>D</td>\n",
       "      <td>A</td>\n",
       "      <td>A</td>\n",
       "      <td>A</td>\n",
       "    </tr>\n",
       "    <tr>\n",
       "      <th>3</th>\n",
       "      <td>190001004643</td>\n",
       "      <td>2019</td>\n",
       "      <td>1501402</td>\n",
       "      <td>Belém</td>\n",
       "      <td>15</td>\n",
       "      <td>PA</td>\n",
       "      <td>17</td>\n",
       "      <td>F</td>\n",
       "      <td>1</td>\n",
       "      <td>3</td>\n",
       "      <td>...</td>\n",
       "      <td>A</td>\n",
       "      <td>A</td>\n",
       "      <td>A</td>\n",
       "      <td>D</td>\n",
       "      <td>A</td>\n",
       "      <td>A</td>\n",
       "      <td>C</td>\n",
       "      <td>A</td>\n",
       "      <td>A</td>\n",
       "      <td>A</td>\n",
       "    </tr>\n",
       "    <tr>\n",
       "      <th>4</th>\n",
       "      <td>190001004651</td>\n",
       "      <td>2019</td>\n",
       "      <td>1505502</td>\n",
       "      <td>Paragominas</td>\n",
       "      <td>15</td>\n",
       "      <td>PA</td>\n",
       "      <td>18</td>\n",
       "      <td>F</td>\n",
       "      <td>1</td>\n",
       "      <td>3</td>\n",
       "      <td>...</td>\n",
       "      <td>B</td>\n",
       "      <td>A</td>\n",
       "      <td>A</td>\n",
       "      <td>B</td>\n",
       "      <td>A</td>\n",
       "      <td>A</td>\n",
       "      <td>D</td>\n",
       "      <td>A</td>\n",
       "      <td>A</td>\n",
       "      <td>B</td>\n",
       "    </tr>\n",
       "    <tr>\n",
       "      <th>...</th>\n",
       "      <td>...</td>\n",
       "      <td>...</td>\n",
       "      <td>...</td>\n",
       "      <td>...</td>\n",
       "      <td>...</td>\n",
       "      <td>...</td>\n",
       "      <td>...</td>\n",
       "      <td>...</td>\n",
       "      <td>...</td>\n",
       "      <td>...</td>\n",
       "      <td>...</td>\n",
       "      <td>...</td>\n",
       "      <td>...</td>\n",
       "      <td>...</td>\n",
       "      <td>...</td>\n",
       "      <td>...</td>\n",
       "      <td>...</td>\n",
       "      <td>...</td>\n",
       "      <td>...</td>\n",
       "      <td>...</td>\n",
       "      <td>...</td>\n",
       "    </tr>\n",
       "    <tr>\n",
       "      <th>953908</th>\n",
       "      <td>190006120165</td>\n",
       "      <td>2019</td>\n",
       "      <td>3136207</td>\n",
       "      <td>João Monlevade</td>\n",
       "      <td>31</td>\n",
       "      <td>MG</td>\n",
       "      <td>17</td>\n",
       "      <td>F</td>\n",
       "      <td>1</td>\n",
       "      <td>1</td>\n",
       "      <td>...</td>\n",
       "      <td>A</td>\n",
       "      <td>A</td>\n",
       "      <td>A</td>\n",
       "      <td>B</td>\n",
       "      <td>A</td>\n",
       "      <td>A</td>\n",
       "      <td>B</td>\n",
       "      <td>B</td>\n",
       "      <td>B</td>\n",
       "      <td>B</td>\n",
       "    </tr>\n",
       "    <tr>\n",
       "      <th>953909</th>\n",
       "      <td>190006120169</td>\n",
       "      <td>2019</td>\n",
       "      <td>3169406</td>\n",
       "      <td>Três Pontas</td>\n",
       "      <td>31</td>\n",
       "      <td>MG</td>\n",
       "      <td>18</td>\n",
       "      <td>F</td>\n",
       "      <td>1</td>\n",
       "      <td>1</td>\n",
       "      <td>...</td>\n",
       "      <td>B</td>\n",
       "      <td>A</td>\n",
       "      <td>A</td>\n",
       "      <td>C</td>\n",
       "      <td>B</td>\n",
       "      <td>B</td>\n",
       "      <td>D</td>\n",
       "      <td>B</td>\n",
       "      <td>B</td>\n",
       "      <td>B</td>\n",
       "    </tr>\n",
       "    <tr>\n",
       "      <th>953910</th>\n",
       "      <td>190006120174</td>\n",
       "      <td>2019</td>\n",
       "      <td>3131901</td>\n",
       "      <td>Itabirito</td>\n",
       "      <td>31</td>\n",
       "      <td>MG</td>\n",
       "      <td>18</td>\n",
       "      <td>F</td>\n",
       "      <td>1</td>\n",
       "      <td>2</td>\n",
       "      <td>...</td>\n",
       "      <td>A</td>\n",
       "      <td>A</td>\n",
       "      <td>B</td>\n",
       "      <td>E</td>\n",
       "      <td>B</td>\n",
       "      <td>B</td>\n",
       "      <td>E</td>\n",
       "      <td>B</td>\n",
       "      <td>C</td>\n",
       "      <td>B</td>\n",
       "    </tr>\n",
       "    <tr>\n",
       "      <th>953911</th>\n",
       "      <td>190006120176</td>\n",
       "      <td>2019</td>\n",
       "      <td>3170206</td>\n",
       "      <td>Uberlândia</td>\n",
       "      <td>31</td>\n",
       "      <td>MG</td>\n",
       "      <td>18</td>\n",
       "      <td>F</td>\n",
       "      <td>1</td>\n",
       "      <td>3</td>\n",
       "      <td>...</td>\n",
       "      <td>A</td>\n",
       "      <td>A</td>\n",
       "      <td>A</td>\n",
       "      <td>B</td>\n",
       "      <td>A</td>\n",
       "      <td>A</td>\n",
       "      <td>E</td>\n",
       "      <td>A</td>\n",
       "      <td>B</td>\n",
       "      <td>B</td>\n",
       "    </tr>\n",
       "    <tr>\n",
       "      <th>953912</th>\n",
       "      <td>190006120177</td>\n",
       "      <td>2019</td>\n",
       "      <td>3162708</td>\n",
       "      <td>São João do Paraíso</td>\n",
       "      <td>31</td>\n",
       "      <td>MG</td>\n",
       "      <td>17</td>\n",
       "      <td>F</td>\n",
       "      <td>1</td>\n",
       "      <td>3</td>\n",
       "      <td>...</td>\n",
       "      <td>A</td>\n",
       "      <td>A</td>\n",
       "      <td>A</td>\n",
       "      <td>B</td>\n",
       "      <td>A</td>\n",
       "      <td>A</td>\n",
       "      <td>E</td>\n",
       "      <td>A</td>\n",
       "      <td>B</td>\n",
       "      <td>B</td>\n",
       "    </tr>\n",
       "  </tbody>\n",
       "</table>\n",
       "<p>953913 rows × 136 columns</p>\n",
       "</div>"
      ],
      "text/plain": [
       "        NU_INSCRICAO  NU_ANO  CO_MUNICIPIO_RESIDENCIA NO_MUNICIPIO_RESIDENCIA  \\\n",
       "0       190001004629    2019                  1505502             Paragominas   \n",
       "1       190001004634    2019                  1501402                   Belém   \n",
       "2       190001004642    2019                  1502400               Castanhal   \n",
       "3       190001004643    2019                  1501402                   Belém   \n",
       "4       190001004651    2019                  1505502             Paragominas   \n",
       "...              ...     ...                      ...                     ...   \n",
       "953908  190006120165    2019                  3136207          João Monlevade   \n",
       "953909  190006120169    2019                  3169406             Três Pontas   \n",
       "953910  190006120174    2019                  3131901               Itabirito   \n",
       "953911  190006120176    2019                  3170206              Uberlândia   \n",
       "953912  190006120177    2019                  3162708     São João do Paraíso   \n",
       "\n",
       "        CO_UF_RESIDENCIA SG_UF_RESIDENCIA  NU_IDADE TP_SEXO  TP_ESTADO_CIVIL  \\\n",
       "0                     15               PA        18       F                1   \n",
       "1                     15               PA        26       F                0   \n",
       "2                     15               PA        17       F                1   \n",
       "3                     15               PA        17       F                1   \n",
       "4                     15               PA        18       F                1   \n",
       "...                  ...              ...       ...     ...              ...   \n",
       "953908                31               MG        17       F                1   \n",
       "953909                31               MG        18       F                1   \n",
       "953910                31               MG        18       F                1   \n",
       "953911                31               MG        18       F                1   \n",
       "953912                31               MG        17       F                1   \n",
       "\n",
       "        TP_COR_RACA  ...  Q016  Q017 Q018  Q019 Q020  Q021  Q022  Q023  Q024  \\\n",
       "0                 1  ...     B     A    A     D    B     B     D     A     C   \n",
       "1                 3  ...     A     A    A     B    A     A     B     A     A   \n",
       "2                 3  ...     A     A    A     B    B     A     D     A     A   \n",
       "3                 3  ...     A     A    A     D    A     A     C     A     A   \n",
       "4                 3  ...     B     A    A     B    A     A     D     A     A   \n",
       "...             ...  ...   ...   ...  ...   ...  ...   ...   ...   ...   ...   \n",
       "953908            1  ...     A     A    A     B    A     A     B     B     B   \n",
       "953909            1  ...     B     A    A     C    B     B     D     B     B   \n",
       "953910            2  ...     A     A    B     E    B     B     E     B     C   \n",
       "953911            3  ...     A     A    A     B    A     A     E     A     B   \n",
       "953912            3  ...     A     A    A     B    A     A     E     A     B   \n",
       "\n",
       "        Q025  \n",
       "0          B  \n",
       "1          A  \n",
       "2          A  \n",
       "3          A  \n",
       "4          B  \n",
       "...      ...  \n",
       "953908     B  \n",
       "953909     B  \n",
       "953910     B  \n",
       "953911     B  \n",
       "953912     B  \n",
       "\n",
       "[953913 rows x 136 columns]"
      ]
     },
     "execution_count": 8,
     "metadata": {},
     "output_type": "execute_result"
    }
   ],
   "source": [
    "df_brasil_clean_copy = df_brasil_clean.copy() #Copia para usar na análise de Manaus\n",
    "df_brasil_clean\n"
   ]
  },
  {
   "cell_type": "code",
   "execution_count": 19,
   "metadata": {},
   "outputs": [
    {
     "data": {
      "text/plain": [
       "SG_UF_RESIDENCIA\n",
       "SP    176899\n",
       "MG     92115\n",
       "CE     88161\n",
       "RJ     61694\n",
       "BA     59692\n",
       "PE     50772\n",
       "PR     42423\n",
       "PA     40240\n",
       "RS     39110\n",
       "MA     36710\n",
       "GO     31037\n",
       "SC     28252\n",
       "PB     23726\n",
       "ES     21759\n",
       "PI     20981\n",
       "AM     20158\n",
       "DF     18124\n",
       "RN     18093\n",
       "MT     15021\n",
       "AL     14973\n",
       "MS     13186\n",
       "SE     11738\n",
       "RO      9741\n",
       "TO      7767\n",
       "AP      5209\n",
       "AC      4580\n",
       "RR      1752\n",
       "Name: NU_INSCRICAO, dtype: int64"
      ]
     },
     "execution_count": 19,
     "metadata": {},
     "output_type": "execute_result"
    }
   ],
   "source": [
    "df_brasil_clean.groupby('SG_UF_RESIDENCIA')['NU_INSCRICAO'].count().sort_values(ascending=False)"
   ]
  },
  {
   "cell_type": "code",
   "execution_count": null,
   "metadata": {},
   "outputs": [],
   "source": [
    "# Diminuindo Dimensionalidade\n",
    "df_brasil_clean = df_brasil_clean.drop(columns=\n",
    " ['NU_ANO',\n",
    " 'CO_MUNICIPIO_RESIDENCIA',\n",
    " 'NO_MUNICIPIO_RESIDENCIA',\n",
    " 'CO_UF_RESIDENCIA',\n",
    " 'SG_UF_RESIDENCIA',\n",
    " 'NU_IDADE',\n",
    " 'TP_ESTADO_CIVIL',\n",
    " 'TP_COR_RACA',\n",
    " 'TP_NACIONALIDADE',\n",
    " 'CO_MUNICIPIO_NASCIMENTO',\n",
    " 'NO_MUNICIPIO_NASCIMENTO',\n",
    " 'CO_UF_NASCIMENTO',\n",
    " 'SG_UF_NASCIMENTO',\n",
    " 'TP_ST_CONCLUSAO',\n",
    " 'TP_ANO_CONCLUIU',\n",
    " 'TP_ENSINO',\n",
    " 'IN_TREINEIRO',\n",
    " 'TP_DEPENDENCIA_ADM_ESC',\n",
    " 'TP_LOCALIZACAO_ESC',\n",
    " 'TP_SIT_FUNC_ESC',\n",
    " 'IN_BAIXA_VISAO',\n",
    " 'IN_CEGUEIRA',\n",
    " 'IN_SURDEZ',\n",
    " 'IN_DEFICIENCIA_AUDITIVA',\n",
    " 'IN_SURDO_CEGUEIRA',\n",
    " 'IN_DEFICIENCIA_FISICA',\n",
    " 'IN_DEFICIENCIA_MENTAL',\n",
    " 'IN_DEFICIT_ATENCAO',\n",
    " 'IN_DISLEXIA',\n",
    " 'IN_DISCALCULIA',\n",
    " 'IN_AUTISMO',\n",
    " 'IN_VISAO_MONOCULAR',\n",
    " 'IN_OUTRA_DEF',\n",
    " 'IN_GESTANTE',\n",
    " 'IN_LACTANTE',\n",
    " 'IN_IDOSO',\n",
    " 'IN_ESTUDA_CLASSE_HOSPITALAR',\n",
    " 'IN_SEM_RECURSO',\n",
    " 'IN_BRAILLE',\n",
    " 'IN_AMPLIADA_24',\n",
    " 'IN_AMPLIADA_18',\n",
    " 'IN_LEDOR',\n",
    " 'IN_ACESSO',\n",
    " 'IN_TRANSCRICAO',\n",
    " 'IN_LIBRAS',\n",
    " 'IN_TEMPO_ADICIONAL',\n",
    " 'IN_LEITURA_LABIAL',\n",
    " 'IN_MESA_CADEIRA_RODAS',\n",
    " 'IN_MESA_CADEIRA_SEPARADA',\n",
    " 'IN_APOIO_PERNA',\n",
    " 'IN_GUIA_INTERPRETE',\n",
    " 'IN_COMPUTADOR',\n",
    " 'IN_CADEIRA_ESPECIAL',\n",
    " 'IN_CADEIRA_CANHOTO',\n",
    " 'IN_CADEIRA_ACOLCHOADA',\n",
    " 'IN_PROVA_DEITADO',\n",
    " 'IN_MOBILIARIO_OBESO',\n",
    " 'IN_LAMINA_OVERLAY',\n",
    " 'IN_PROTETOR_AURICULAR',\n",
    " 'IN_MEDIDOR_GLICOSE',\n",
    " 'IN_MAQUINA_BRAILE',\n",
    " 'IN_SOROBAN',\n",
    " 'IN_MARCA_PASSO',\n",
    " 'IN_SONDA',\n",
    " 'IN_MEDICAMENTOS',\n",
    " 'IN_SALA_INDIVIDUAL',\n",
    " 'IN_SALA_ESPECIAL',\n",
    " 'IN_SALA_ACOMPANHANTE',\n",
    " 'IN_MOBILIARIO_ESPECIFICO',\n",
    " 'IN_MATERIAL_ESPECIFICO',\n",
    " 'IN_NOME_SOCIAL',\n",
    " 'CO_UF_ESC',\n",
    " 'CO_MUNICIPIO_PROVA',\n",
    " 'NO_MUNICIPIO_PROVA',\n",
    " 'CO_UF_PROVA',\n",
    " 'SG_UF_PROVA',\n",
    " 'TP_PRESENCA_CN',\n",
    " 'TP_PRESENCA_CH',\n",
    " 'TP_PRESENCA_LC',\n",
    " 'TP_PRESENCA_MT',\n",
    " 'CO_PROVA_CN',\n",
    " 'CO_PROVA_CH',\n",
    " 'CO_PROVA_LC',\n",
    " 'CO_PROVA_MT',\n",
    " 'TX_RESPOSTAS_CN',\n",
    " 'TX_RESPOSTAS_CH',\n",
    " 'TX_RESPOSTAS_LC',\n",
    " 'TX_RESPOSTAS_MT',\n",
    " 'TP_LINGUA',\n",
    " 'TX_GABARITO_CN',\n",
    " 'TX_GABARITO_CH',\n",
    " 'TX_GABARITO_LC',\n",
    " 'TX_GABARITO_MT',\n",
    " 'TP_STATUS_REDACAO',\n",
    " 'NU_NOTA_COMP1',\n",
    " 'NU_NOTA_COMP2',\n",
    " 'NU_NOTA_COMP3',\n",
    " 'NU_NOTA_COMP4',\n",
    " 'NU_NOTA_COMP5',\n",
    " 'Q001',\n",
    " 'Q002',\n",
    " 'Q003',\n",
    " 'Q004',\n",
    " 'Q005',\n",
    " 'Q006',\n",
    " 'Q007',\n",
    " 'Q008',\n",
    " 'Q009',\n",
    " 'Q010',\n",
    " 'Q011',\n",
    " 'Q012',\n",
    " 'Q013',\n",
    " 'Q014',\n",
    " 'Q015',\n",
    " 'Q016',\n",
    " 'Q017',\n",
    " 'Q018',\n",
    " 'Q019',\n",
    " 'Q020',\n",
    " 'Q021',\n",
    " 'Q022',\n",
    " 'Q023',\n",
    " 'Q024',\n",
    " 'Q025']).reset_index(drop=True)"
   ]
  },
  {
   "cell_type": "code",
   "execution_count": null,
   "metadata": {},
   "outputs": [],
   "source": [
    "df_brasil_clean"
   ]
  },
  {
   "cell_type": "code",
   "execution_count": 15,
   "metadata": {},
   "outputs": [],
   "source": [
    "# Transformando campo CO_MUNICIPIO_ESC de Inteiro para String\n",
    "# 1º dígito: Região; \n",
    "# 1º e 2º dígitos: UF;\n",
    "# 3º, 4º, 5º e 6º dígitos: Município;\n",
    "# 7º dígito: dígito verificador.\n",
    "\n",
    "df_brasil_clean['CO_MUNICIPIO_ESC'] = df_brasil_clean['CO_MUNICIPIO_ESC'].apply(str)"
   ]
  },
  {
   "cell_type": "markdown",
   "metadata": {},
   "source": [
    "## Pré-processamento - Manaus"
   ]
  },
  {
   "cell_type": "code",
   "execution_count": 9,
   "metadata": {},
   "outputs": [
    {
     "data": {
      "text/html": [
       "<div>\n",
       "<style scoped>\n",
       "    .dataframe tbody tr th:only-of-type {\n",
       "        vertical-align: middle;\n",
       "    }\n",
       "\n",
       "    .dataframe tbody tr th {\n",
       "        vertical-align: top;\n",
       "    }\n",
       "\n",
       "    .dataframe thead th {\n",
       "        text-align: right;\n",
       "    }\n",
       "</style>\n",
       "<table border=\"1\" class=\"dataframe\">\n",
       "  <thead>\n",
       "    <tr style=\"text-align: right;\">\n",
       "      <th></th>\n",
       "      <th>NU_INSCRICAO</th>\n",
       "      <th>NO_MUNICIPIO_ESC</th>\n",
       "      <th>NU_NOTA_CN</th>\n",
       "      <th>NU_NOTA_CH</th>\n",
       "      <th>NU_NOTA_LC</th>\n",
       "      <th>NU_NOTA_MT</th>\n",
       "      <th>NU_NOTA_REDACAO</th>\n",
       "      <th>Q006</th>\n",
       "    </tr>\n",
       "  </thead>\n",
       "  <tbody>\n",
       "    <tr>\n",
       "      <th>61</th>\n",
       "      <td>190001005023</td>\n",
       "      <td>Manaus</td>\n",
       "      <td>400.7</td>\n",
       "      <td>350.9</td>\n",
       "      <td>440.7</td>\n",
       "      <td>444.1</td>\n",
       "      <td>420.0</td>\n",
       "      <td>A</td>\n",
       "    </tr>\n",
       "    <tr>\n",
       "      <th>1508</th>\n",
       "      <td>190001013052</td>\n",
       "      <td>Manaus</td>\n",
       "      <td>343.7</td>\n",
       "      <td>456.0</td>\n",
       "      <td>530.1</td>\n",
       "      <td>445.9</td>\n",
       "      <td>400.0</td>\n",
       "      <td>B</td>\n",
       "    </tr>\n",
       "    <tr>\n",
       "      <th>4472</th>\n",
       "      <td>190001027976</td>\n",
       "      <td>Manaus</td>\n",
       "      <td>376.6</td>\n",
       "      <td>457.3</td>\n",
       "      <td>414.8</td>\n",
       "      <td>397.5</td>\n",
       "      <td>400.0</td>\n",
       "      <td>B</td>\n",
       "    </tr>\n",
       "    <tr>\n",
       "      <th>4473</th>\n",
       "      <td>190001027979</td>\n",
       "      <td>Manaus</td>\n",
       "      <td>436.3</td>\n",
       "      <td>495.3</td>\n",
       "      <td>511.4</td>\n",
       "      <td>414.5</td>\n",
       "      <td>560.0</td>\n",
       "      <td>B</td>\n",
       "    </tr>\n",
       "    <tr>\n",
       "      <th>4474</th>\n",
       "      <td>190001027985</td>\n",
       "      <td>Manaus</td>\n",
       "      <td>454.8</td>\n",
       "      <td>371.7</td>\n",
       "      <td>560.2</td>\n",
       "      <td>419.2</td>\n",
       "      <td>340.0</td>\n",
       "      <td>B</td>\n",
       "    </tr>\n",
       "    <tr>\n",
       "      <th>...</th>\n",
       "      <td>...</td>\n",
       "      <td>...</td>\n",
       "      <td>...</td>\n",
       "      <td>...</td>\n",
       "      <td>...</td>\n",
       "      <td>...</td>\n",
       "      <td>...</td>\n",
       "      <td>...</td>\n",
       "    </tr>\n",
       "    <tr>\n",
       "      <th>953789</th>\n",
       "      <td>190006119530</td>\n",
       "      <td>Manaus</td>\n",
       "      <td>550.4</td>\n",
       "      <td>614.1</td>\n",
       "      <td>571.0</td>\n",
       "      <td>808.9</td>\n",
       "      <td>480.0</td>\n",
       "      <td>C</td>\n",
       "    </tr>\n",
       "    <tr>\n",
       "      <th>953790</th>\n",
       "      <td>190006119541</td>\n",
       "      <td>Manaus</td>\n",
       "      <td>480.9</td>\n",
       "      <td>447.2</td>\n",
       "      <td>507.4</td>\n",
       "      <td>397.2</td>\n",
       "      <td>480.0</td>\n",
       "      <td>B</td>\n",
       "    </tr>\n",
       "    <tr>\n",
       "      <th>953792</th>\n",
       "      <td>190006119563</td>\n",
       "      <td>Manaus</td>\n",
       "      <td>576.9</td>\n",
       "      <td>588.9</td>\n",
       "      <td>594.4</td>\n",
       "      <td>671.6</td>\n",
       "      <td>880.0</td>\n",
       "      <td>C</td>\n",
       "    </tr>\n",
       "    <tr>\n",
       "      <th>953793</th>\n",
       "      <td>190006119564</td>\n",
       "      <td>Manaus</td>\n",
       "      <td>593.7</td>\n",
       "      <td>592.4</td>\n",
       "      <td>614.0</td>\n",
       "      <td>642.0</td>\n",
       "      <td>760.0</td>\n",
       "      <td>D</td>\n",
       "    </tr>\n",
       "    <tr>\n",
       "      <th>953794</th>\n",
       "      <td>190006119566</td>\n",
       "      <td>Manaus</td>\n",
       "      <td>367.1</td>\n",
       "      <td>378.5</td>\n",
       "      <td>432.7</td>\n",
       "      <td>376.6</td>\n",
       "      <td>200.0</td>\n",
       "      <td>C</td>\n",
       "    </tr>\n",
       "  </tbody>\n",
       "</table>\n",
       "<p>13139 rows × 8 columns</p>\n",
       "</div>"
      ],
      "text/plain": [
       "        NU_INSCRICAO NO_MUNICIPIO_ESC  NU_NOTA_CN  NU_NOTA_CH  NU_NOTA_LC  \\\n",
       "61      190001005023           Manaus       400.7       350.9       440.7   \n",
       "1508    190001013052           Manaus       343.7       456.0       530.1   \n",
       "4472    190001027976           Manaus       376.6       457.3       414.8   \n",
       "4473    190001027979           Manaus       436.3       495.3       511.4   \n",
       "4474    190001027985           Manaus       454.8       371.7       560.2   \n",
       "...              ...              ...         ...         ...         ...   \n",
       "953789  190006119530           Manaus       550.4       614.1       571.0   \n",
       "953790  190006119541           Manaus       480.9       447.2       507.4   \n",
       "953792  190006119563           Manaus       576.9       588.9       594.4   \n",
       "953793  190006119564           Manaus       593.7       592.4       614.0   \n",
       "953794  190006119566           Manaus       367.1       378.5       432.7   \n",
       "\n",
       "        NU_NOTA_MT  NU_NOTA_REDACAO Q006  \n",
       "61           444.1            420.0    A  \n",
       "1508         445.9            400.0    B  \n",
       "4472         397.5            400.0    B  \n",
       "4473         414.5            560.0    B  \n",
       "4474         419.2            340.0    B  \n",
       "...            ...              ...  ...  \n",
       "953789       808.9            480.0    C  \n",
       "953790       397.2            480.0    B  \n",
       "953792       671.6            880.0    C  \n",
       "953793       642.0            760.0    D  \n",
       "953794       376.6            200.0    C  \n",
       "\n",
       "[13139 rows x 8 columns]"
      ]
     },
     "execution_count": 9,
     "metadata": {},
     "output_type": "execute_result"
    }
   ],
   "source": [
    "# Coloque aqui o pre-processamento para as análises referente a Manaus\n",
    "df_brasil_clean_copy.drop(['NU_ANO', 'CO_MUNICIPIO_RESIDENCIA', 'NO_MUNICIPIO_RESIDENCIA', 'CO_UF_RESIDENCIA', 'SG_UF_RESIDENCIA', 'NU_IDADE', 'TP_SEXO', 'TP_ESTADO_CIVIL', 'TP_COR_RACA', 'TP_NACIONALIDADE', 'CO_MUNICIPIO_NASCIMENTO', 'NO_MUNICIPIO_NASCIMENTO', 'CO_UF_NASCIMENTO', 'SG_UF_NASCIMENTO', 'TP_ST_CONCLUSAO', 'TP_ANO_CONCLUIU', 'TP_ESCOLA', 'TP_ENSINO', 'IN_TREINEIRO', 'CO_ESCOLA', 'CO_MUNICIPIO_ESC','CO_UF_ESC', 'SG_UF_ESC', 'TP_DEPENDENCIA_ADM_ESC', 'TP_LOCALIZACAO_ESC', 'TP_SIT_FUNC_ESC', 'IN_BAIXA_VISAO', 'IN_CEGUEIRA', 'IN_SURDEZ', 'IN_DEFICIENCIA_AUDITIVA', 'IN_SURDO_CEGUEIRA', 'IN_DEFICIENCIA_FISICA', 'IN_DEFICIENCIA_MENTAL', 'IN_DEFICIT_ATENCAO', 'IN_DISLEXIA', 'IN_DISCALCULIA', 'IN_AUTISMO', 'IN_VISAO_MONOCULAR', 'IN_OUTRA_DEF', 'IN_GESTANTE', 'IN_LACTANTE', 'IN_IDOSO', 'IN_ESTUDA_CLASSE_HOSPITALAR', 'IN_SEM_RECURSO', 'IN_BRAILLE', 'IN_AMPLIADA_24', 'IN_AMPLIADA_18', 'IN_LEDOR', 'IN_ACESSO', 'IN_TRANSCRICAO', 'IN_LIBRAS', 'IN_TEMPO_ADICIONAL', 'IN_LEITURA_LABIAL', 'IN_MESA_CADEIRA_RODAS', 'IN_MESA_CADEIRA_SEPARADA', 'IN_APOIO_PERNA', 'IN_GUIA_INTERPRETE', 'IN_COMPUTADOR', 'IN_CADEIRA_ESPECIAL', 'IN_CADEIRA_CANHOTO', 'IN_CADEIRA_ACOLCHOADA', 'IN_PROVA_DEITADO', 'IN_MOBILIARIO_OBESO', 'IN_LAMINA_OVERLAY', 'IN_PROTETOR_AURICULAR', 'IN_MEDIDOR_GLICOSE', 'IN_MAQUINA_BRAILE', 'IN_SOROBAN', 'IN_MARCA_PASSO', 'IN_SONDA', 'IN_MEDICAMENTOS', 'IN_SALA_INDIVIDUAL', 'IN_SALA_ESPECIAL', 'IN_SALA_ACOMPANHANTE', 'IN_MOBILIARIO_ESPECIFICO', 'IN_MATERIAL_ESPECIFICO', 'IN_NOME_SOCIAL', 'CO_MUNICIPIO_PROVA', 'NO_MUNICIPIO_PROVA', 'CO_UF_PROVA', 'SG_UF_PROVA', 'TP_PRESENCA_CN', 'TP_PRESENCA_CH', 'TP_PRESENCA_LC', 'TP_PRESENCA_MT', 'CO_PROVA_CN', 'CO_PROVA_CH', 'CO_PROVA_LC', 'CO_PROVA_MT','TX_RESPOSTAS_CN', 'TX_RESPOSTAS_CH', 'TX_RESPOSTAS_LC', 'TX_RESPOSTAS_MT', 'TP_LINGUA', 'TX_GABARITO_CN', 'TX_GABARITO_CH', 'TX_GABARITO_LC', 'TX_GABARITO_MT','TP_STATUS_REDACAO','NU_NOTA_COMP1','NU_NOTA_COMP2','NU_NOTA_COMP3','NU_NOTA_COMP4','NU_NOTA_COMP5','Q001', 'Q002', 'Q003', 'Q004', 'Q005','Q007', 'Q008', 'Q009', 'Q010', 'Q011', 'Q012', 'Q013', 'Q014', 'Q015', 'Q016', 'Q017', 'Q018', 'Q019', 'Q020', 'Q021', 'Q022', 'Q023', 'Q024', 'Q025'], axis='columns',inplace=True)\n",
    "\n",
    "#####\n",
    "df_manaus = df_brasil_clean_copy[df_brasil_clean_copy['NO_MUNICIPIO_ESC']=='Manaus']\n",
    "df_manaus"
   ]
  },
  {
   "cell_type": "code",
   "execution_count": 13,
   "metadata": {},
   "outputs": [
    {
     "name": "stdout",
     "output_type": "stream",
     "text": [
      "<class 'numpy.ndarray'>\n",
      "<class 'numpy.ndarray'>\n"
     ]
    },
    {
     "name": "stderr",
     "output_type": "stream",
     "text": [
      "/home/pcorrea/anaconda3/lib/python3.7/site-packages/ipykernel_launcher.py:3: SettingWithCopyWarning: \n",
      "A value is trying to be set on a copy of a slice from a DataFrame.\n",
      "Try using .loc[row_indexer,col_indexer] = value instead\n",
      "\n",
      "See the caveats in the documentation: https://pandas.pydata.org/pandas-docs/stable/user_guide/indexing.html#returning-a-view-versus-a-copy\n",
      "  This is separate from the ipykernel package so we can avoid doing imports until\n",
      "/home/pcorrea/anaconda3/lib/python3.7/site-packages/ipykernel_launcher.py:11: SettingWithCopyWarning: \n",
      "A value is trying to be set on a copy of a slice from a DataFrame.\n",
      "Try using .loc[row_indexer,col_indexer] = value instead\n",
      "\n",
      "See the caveats in the documentation: https://pandas.pydata.org/pandas-docs/stable/user_guide/indexing.html#returning-a-view-versus-a-copy\n",
      "  # This is added back by InteractiveShellApp.init_path()\n"
     ]
    }
   ],
   "source": [
    "# Coloque aqui o pre-processamento para as análises referente a Manaus\n",
    "df_manaus_A_B_C = df_manaus.loc[(df_manaus[\"Q006\"]==\"A\") | (df_manaus[\"Q006\"]==\"B\") | (df_manaus[\"Q006\"]==\"C\")]\n",
    "df_manaus_A_B_C[\"NOTA TOTAL\"] = df_manaus_A_B_C.iloc[:,4:10].sum(axis=1)\n",
    "save_A_B_C = []\n",
    "for x in df_manaus_A_B_C[\"NOTA TOTAL\"]:\n",
    "    save_A_B_C.append(x)\n",
    "arr_A_B_C = np.array(save_A_B_C)\n",
    "print(type(arr_A_B_C))\n",
    "\n",
    "df_manaus_acima = df_manaus.loc[(df_manaus[\"Q006\"]==\"D\") | (df_manaus[\"Q006\"]==\"E\") | (df_manaus[\"Q006\"]==\"F\") | (df_manaus[\"Q006\"]==\"G\") | (df_manaus[\"Q006\"]==\"H\") | (df_manaus[\"Q006\"]==\"I\") | (df_manaus[\"Q006\"]==\"F\") | (df_manaus[\"Q006\"]==\"J\") | (df_manaus[\"Q006\"]==\"K\") | (df_manaus[\"Q006\"]==\"L\") | (df_manaus[\"Q006\"]==\"M\") | (df_manaus[\"Q006\"]==\"N\") | (df_manaus[\"Q006\"]==\"O\") | (df_manaus[\"Q006\"]==\"P\") | (df_manaus[\"Q006\"]==\"Q\")]\n",
    "df_manaus_acima[\"SOMA TOTAL\"] = df_manaus_acima.iloc[:,4:10].sum(axis=1)\n",
    "\n",
    "save_acima = []\n",
    "for x in df_manaus_acima[\"SOMA TOTAL\"]:\n",
    "    save_acima.append(x)\n",
    "arr_acima = np.array(save_acima)\n",
    "print(type(arr_acima))"
   ]
  },
  {
   "cell_type": "markdown",
   "metadata": {},
   "source": [
    "# Exploração dos Dados"
   ]
  },
  {
   "cell_type": "markdown",
   "metadata": {},
   "source": [
    "### **Como está o desempenho dos alunos brasileiros, segundo o ENEM 2019? Média das notas do brasil e média por região?**"
   ]
  },
  {
   "cell_type": "code",
   "execution_count": 26,
   "metadata": {},
   "outputs": [],
   "source": [
    "def media(row):\n",
    "    return (row['NU_NOTA_CN'] + row['NU_NOTA_CH'] + row['NU_NOTA_LC'] + row['NU_NOTA_MT'])/4\n",
    "\n",
    "def regiao(row):\n",
    "    if row['CO_MUNICIPIO_ESC'][0] == '1':\n",
    "        return 'NORTE'\n",
    "    elif row['CO_MUNICIPIO_ESC'][0] == '2':\n",
    "        return 'NORDESTE'\n",
    "    elif row['CO_MUNICIPIO_ESC'][0] == '3':\n",
    "        return 'SUDESTE'\n",
    "    elif row['CO_MUNICIPIO_ESC'][0] == '4':\n",
    "        return 'SUL'\n",
    "    elif row['CO_MUNICIPIO_ESC'][0] == '5':\n",
    "        return 'CENTRO-OESTE'\n",
    "    else:\n",
    "        return 'OUTRA'"
   ]
  },
  {
   "cell_type": "code",
   "execution_count": 27,
   "metadata": {},
   "outputs": [],
   "source": [
    "df_brasil_clean['MEDIA_OBJETIVAS'] = df_brasil_clean.apply(media, axis=1)\n",
    "df_brasil_clean['REGIAO'] = df_brasil_clean.apply(regiao, axis=1)"
   ]
  },
  {
   "cell_type": "code",
   "execution_count": 28,
   "metadata": {},
   "outputs": [
    {
     "data": {
      "text/html": [
       "<div>\n",
       "<style scoped>\n",
       "    .dataframe tbody tr th:only-of-type {\n",
       "        vertical-align: middle;\n",
       "    }\n",
       "\n",
       "    .dataframe tbody tr th {\n",
       "        vertical-align: top;\n",
       "    }\n",
       "\n",
       "    .dataframe thead th {\n",
       "        text-align: right;\n",
       "    }\n",
       "</style>\n",
       "<table border=\"1\" class=\"dataframe\">\n",
       "  <thead>\n",
       "    <tr style=\"text-align: right;\">\n",
       "      <th></th>\n",
       "      <th>NU_INSCRICAO</th>\n",
       "      <th>TP_SEXO</th>\n",
       "      <th>TP_ESCOLA</th>\n",
       "      <th>CO_ESCOLA</th>\n",
       "      <th>CO_MUNICIPIO_ESC</th>\n",
       "      <th>NO_MUNICIPIO_ESC</th>\n",
       "      <th>SG_UF_ESC</th>\n",
       "      <th>NU_NOTA_CN</th>\n",
       "      <th>NU_NOTA_CH</th>\n",
       "      <th>NU_NOTA_LC</th>\n",
       "      <th>NU_NOTA_MT</th>\n",
       "      <th>NU_NOTA_REDACAO</th>\n",
       "      <th>MEDIA_OBJETIVAS</th>\n",
       "      <th>REGIAO</th>\n",
       "    </tr>\n",
       "  </thead>\n",
       "  <tbody>\n",
       "    <tr>\n",
       "      <th>0</th>\n",
       "      <td>190001004629</td>\n",
       "      <td>F</td>\n",
       "      <td>3</td>\n",
       "      <td>15230023.0</td>\n",
       "      <td>1505502.0</td>\n",
       "      <td>Paragominas</td>\n",
       "      <td>PA</td>\n",
       "      <td>574.2</td>\n",
       "      <td>538.7</td>\n",
       "      <td>582.6</td>\n",
       "      <td>571.5</td>\n",
       "      <td>640.0</td>\n",
       "      <td>566.750</td>\n",
       "      <td>NORTE</td>\n",
       "    </tr>\n",
       "    <tr>\n",
       "      <th>1</th>\n",
       "      <td>190001004634</td>\n",
       "      <td>F</td>\n",
       "      <td>2</td>\n",
       "      <td>15042626.0</td>\n",
       "      <td>1501402.0</td>\n",
       "      <td>Belém</td>\n",
       "      <td>PA</td>\n",
       "      <td>369.7</td>\n",
       "      <td>398.2</td>\n",
       "      <td>395.6</td>\n",
       "      <td>473.8</td>\n",
       "      <td>480.0</td>\n",
       "      <td>409.325</td>\n",
       "      <td>NORTE</td>\n",
       "    </tr>\n",
       "    <tr>\n",
       "      <th>2</th>\n",
       "      <td>190001004642</td>\n",
       "      <td>F</td>\n",
       "      <td>2</td>\n",
       "      <td>15045560.0</td>\n",
       "      <td>1502400.0</td>\n",
       "      <td>Castanhal</td>\n",
       "      <td>PA</td>\n",
       "      <td>376.4</td>\n",
       "      <td>354.7</td>\n",
       "      <td>525.8</td>\n",
       "      <td>389.4</td>\n",
       "      <td>660.0</td>\n",
       "      <td>411.575</td>\n",
       "      <td>NORTE</td>\n",
       "    </tr>\n",
       "    <tr>\n",
       "      <th>3</th>\n",
       "      <td>190001004643</td>\n",
       "      <td>F</td>\n",
       "      <td>2</td>\n",
       "      <td>15038378.0</td>\n",
       "      <td>1501402.0</td>\n",
       "      <td>Belém</td>\n",
       "      <td>PA</td>\n",
       "      <td>423.0</td>\n",
       "      <td>372.8</td>\n",
       "      <td>488.7</td>\n",
       "      <td>516.5</td>\n",
       "      <td>540.0</td>\n",
       "      <td>450.250</td>\n",
       "      <td>NORTE</td>\n",
       "    </tr>\n",
       "    <tr>\n",
       "      <th>4</th>\n",
       "      <td>190001004651</td>\n",
       "      <td>F</td>\n",
       "      <td>2</td>\n",
       "      <td>15582949.0</td>\n",
       "      <td>1505502.0</td>\n",
       "      <td>Paragominas</td>\n",
       "      <td>PA</td>\n",
       "      <td>412.5</td>\n",
       "      <td>417.2</td>\n",
       "      <td>485.1</td>\n",
       "      <td>446.2</td>\n",
       "      <td>580.0</td>\n",
       "      <td>440.250</td>\n",
       "      <td>NORTE</td>\n",
       "    </tr>\n",
       "    <tr>\n",
       "      <th>...</th>\n",
       "      <td>...</td>\n",
       "      <td>...</td>\n",
       "      <td>...</td>\n",
       "      <td>...</td>\n",
       "      <td>...</td>\n",
       "      <td>...</td>\n",
       "      <td>...</td>\n",
       "      <td>...</td>\n",
       "      <td>...</td>\n",
       "      <td>...</td>\n",
       "      <td>...</td>\n",
       "      <td>...</td>\n",
       "      <td>...</td>\n",
       "      <td>...</td>\n",
       "    </tr>\n",
       "    <tr>\n",
       "      <th>953908</th>\n",
       "      <td>190006120165</td>\n",
       "      <td>F</td>\n",
       "      <td>2</td>\n",
       "      <td>31103527.0</td>\n",
       "      <td>3136207.0</td>\n",
       "      <td>João Monlevade</td>\n",
       "      <td>MG</td>\n",
       "      <td>533.3</td>\n",
       "      <td>485.8</td>\n",
       "      <td>530.2</td>\n",
       "      <td>595.5</td>\n",
       "      <td>540.0</td>\n",
       "      <td>536.200</td>\n",
       "      <td>SUDESTE</td>\n",
       "    </tr>\n",
       "    <tr>\n",
       "      <th>953909</th>\n",
       "      <td>190006120169</td>\n",
       "      <td>F</td>\n",
       "      <td>2</td>\n",
       "      <td>31174688.0</td>\n",
       "      <td>3169406.0</td>\n",
       "      <td>Três Pontas</td>\n",
       "      <td>MG</td>\n",
       "      <td>486.2</td>\n",
       "      <td>543.4</td>\n",
       "      <td>560.3</td>\n",
       "      <td>535.2</td>\n",
       "      <td>740.0</td>\n",
       "      <td>531.275</td>\n",
       "      <td>SUDESTE</td>\n",
       "    </tr>\n",
       "    <tr>\n",
       "      <th>953910</th>\n",
       "      <td>190006120174</td>\n",
       "      <td>F</td>\n",
       "      <td>2</td>\n",
       "      <td>31253227.0</td>\n",
       "      <td>3146107.0</td>\n",
       "      <td>Ouro Preto</td>\n",
       "      <td>MG</td>\n",
       "      <td>500.8</td>\n",
       "      <td>563.2</td>\n",
       "      <td>555.3</td>\n",
       "      <td>442.8</td>\n",
       "      <td>780.0</td>\n",
       "      <td>515.525</td>\n",
       "      <td>SUDESTE</td>\n",
       "    </tr>\n",
       "    <tr>\n",
       "      <th>953911</th>\n",
       "      <td>190006120176</td>\n",
       "      <td>F</td>\n",
       "      <td>2</td>\n",
       "      <td>31009107.0</td>\n",
       "      <td>3170206.0</td>\n",
       "      <td>Uberlândia</td>\n",
       "      <td>MG</td>\n",
       "      <td>491.6</td>\n",
       "      <td>549.3</td>\n",
       "      <td>586.8</td>\n",
       "      <td>633.5</td>\n",
       "      <td>640.0</td>\n",
       "      <td>565.300</td>\n",
       "      <td>SUDESTE</td>\n",
       "    </tr>\n",
       "    <tr>\n",
       "      <th>953912</th>\n",
       "      <td>190006120177</td>\n",
       "      <td>F</td>\n",
       "      <td>2</td>\n",
       "      <td>31233269.0</td>\n",
       "      <td>3157005.0</td>\n",
       "      <td>Salinas</td>\n",
       "      <td>MG</td>\n",
       "      <td>425.7</td>\n",
       "      <td>525.0</td>\n",
       "      <td>511.5</td>\n",
       "      <td>621.8</td>\n",
       "      <td>620.0</td>\n",
       "      <td>521.000</td>\n",
       "      <td>SUDESTE</td>\n",
       "    </tr>\n",
       "  </tbody>\n",
       "</table>\n",
       "<p>953913 rows × 14 columns</p>\n",
       "</div>"
      ],
      "text/plain": [
       "        NU_INSCRICAO TP_SEXO  TP_ESCOLA   CO_ESCOLA CO_MUNICIPIO_ESC  \\\n",
       "0       190001004629       F          3  15230023.0        1505502.0   \n",
       "1       190001004634       F          2  15042626.0        1501402.0   \n",
       "2       190001004642       F          2  15045560.0        1502400.0   \n",
       "3       190001004643       F          2  15038378.0        1501402.0   \n",
       "4       190001004651       F          2  15582949.0        1505502.0   \n",
       "...              ...     ...        ...         ...              ...   \n",
       "953908  190006120165       F          2  31103527.0        3136207.0   \n",
       "953909  190006120169       F          2  31174688.0        3169406.0   \n",
       "953910  190006120174       F          2  31253227.0        3146107.0   \n",
       "953911  190006120176       F          2  31009107.0        3170206.0   \n",
       "953912  190006120177       F          2  31233269.0        3157005.0   \n",
       "\n",
       "       NO_MUNICIPIO_ESC SG_UF_ESC  NU_NOTA_CN  NU_NOTA_CH  NU_NOTA_LC  \\\n",
       "0           Paragominas        PA       574.2       538.7       582.6   \n",
       "1                 Belém        PA       369.7       398.2       395.6   \n",
       "2             Castanhal        PA       376.4       354.7       525.8   \n",
       "3                 Belém        PA       423.0       372.8       488.7   \n",
       "4           Paragominas        PA       412.5       417.2       485.1   \n",
       "...                 ...       ...         ...         ...         ...   \n",
       "953908   João Monlevade        MG       533.3       485.8       530.2   \n",
       "953909      Três Pontas        MG       486.2       543.4       560.3   \n",
       "953910       Ouro Preto        MG       500.8       563.2       555.3   \n",
       "953911       Uberlândia        MG       491.6       549.3       586.8   \n",
       "953912          Salinas        MG       425.7       525.0       511.5   \n",
       "\n",
       "        NU_NOTA_MT  NU_NOTA_REDACAO  MEDIA_OBJETIVAS   REGIAO  \n",
       "0            571.5            640.0          566.750    NORTE  \n",
       "1            473.8            480.0          409.325    NORTE  \n",
       "2            389.4            660.0          411.575    NORTE  \n",
       "3            516.5            540.0          450.250    NORTE  \n",
       "4            446.2            580.0          440.250    NORTE  \n",
       "...            ...              ...              ...      ...  \n",
       "953908       595.5            540.0          536.200  SUDESTE  \n",
       "953909       535.2            740.0          531.275  SUDESTE  \n",
       "953910       442.8            780.0          515.525  SUDESTE  \n",
       "953911       633.5            640.0          565.300  SUDESTE  \n",
       "953912       621.8            620.0          521.000  SUDESTE  \n",
       "\n",
       "[953913 rows x 14 columns]"
      ]
     },
     "execution_count": 28,
     "metadata": {},
     "output_type": "execute_result"
    }
   ],
   "source": [
    "df_brasil_clean"
   ]
  },
  {
   "cell_type": "markdown",
   "metadata": {},
   "source": [
    "**Média das Provas Objetivas - Brasil**"
   ]
  },
  {
   "cell_type": "code",
   "execution_count": 14,
   "metadata": {},
   "outputs": [
    {
     "name": "stdout",
     "output_type": "stream",
     "text": [
      "Média Brasil (Provas Objetivas): 505.61\n"
     ]
    }
   ],
   "source": [
    "media_brasil = df_brasil_clean['MEDIA_OBJETIVAS'].mean()\n",
    "print(\"Média Brasil (Provas Objetivas): %.2f\"%(media_brasil))"
   ]
  },
  {
   "cell_type": "markdown",
   "metadata": {},
   "source": [
    "**Média das Provas Objetivas - Por Região**"
   ]
  },
  {
   "cell_type": "code",
   "execution_count": 15,
   "metadata": {},
   "outputs": [
    {
     "data": {
      "text/plain": [
       "REGIAO\n",
       "SUDESTE         522.865334\n",
       "SUL             522.774008\n",
       "CENTRO-OESTE    509.082057\n",
       "NORDESTE        487.219622\n",
       "NORTE           480.360220\n",
       "Name: MEDIA_OBJETIVAS, dtype: float64"
      ]
     },
     "execution_count": 15,
     "metadata": {},
     "output_type": "execute_result"
    }
   ],
   "source": [
    "medias_por_regiao_obj = df_brasil_clean.groupby('REGIAO')['MEDIA_OBJETIVAS'].mean().sort_values(ascending=False)\n",
    "medias_por_regiao_obj"
   ]
  },
  {
   "cell_type": "code",
   "execution_count": 16,
   "metadata": {},
   "outputs": [
    {
     "data": {
      "text/plain": [
       "<AxesSubplot:title={'center':'Comparação entre médias(Provas Objetivas) por região'}, xlabel='Região', ylabel='Média'>"
      ]
     },
     "execution_count": 16,
     "metadata": {},
     "output_type": "execute_result"
    },
    {
     "data": {
      "image/png": "[encoded data removed]",
      "text/plain": [
       "<Figure size 432x288 with 1 Axes>"
      ]
     },
     "metadata": {
      "needs_background": "light"
     },
     "output_type": "display_data"
    }
   ],
   "source": [
    "medias_por_regiao_obj.plot(kind='bar', title='Comparação entre médias(Provas Objetivas) por região', xlabel='Região',ylabel='Média')"
   ]
  },
  {
   "cell_type": "code",
   "execution_count": 17,
   "metadata": {},
   "outputs": [],
   "source": [
    "quadro_resumo = df_brasil_clean[['REGIAO','MEDIA_OBJETIVAS']].groupby(['REGIAO']).mean().sort_values(by='MEDIA_OBJETIVAS',ascending=False).reset_index()"
   ]
  },
  {
   "cell_type": "code",
   "execution_count": 18,
   "metadata": {},
   "outputs": [
    {
     "name": "stdout",
     "output_type": "stream",
     "text": [
      "522.8653339414684\n"
     ]
    }
   ],
   "source": [
    "maior_media = quadro_resumo.iloc[0]['MEDIA_OBJETIVAS']\n",
    "print(maior_media)"
   ]
  },
  {
   "cell_type": "code",
   "execution_count": 81,
   "metadata": {},
   "outputs": [
    {
     "data": {
      "text/html": [
       "<div>\n",
       "<style scoped>\n",
       "    .dataframe tbody tr th:only-of-type {\n",
       "        vertical-align: middle;\n",
       "    }\n",
       "\n",
       "    .dataframe tbody tr th {\n",
       "        vertical-align: top;\n",
       "    }\n",
       "\n",
       "    .dataframe thead th {\n",
       "        text-align: right;\n",
       "    }\n",
       "</style>\n",
       "<table border=\"1\" class=\"dataframe\">\n",
       "  <thead>\n",
       "    <tr style=\"text-align: right;\">\n",
       "      <th></th>\n",
       "      <th>REGIAO</th>\n",
       "      <th>MEDIA_OBJETIVAS</th>\n",
       "      <th>% em relação a média do Brasil</th>\n",
       "      <th>% em relação a maior média das Regiões</th>\n",
       "    </tr>\n",
       "  </thead>\n",
       "  <tbody>\n",
       "    <tr>\n",
       "      <th>0</th>\n",
       "      <td>SUDESTE</td>\n",
       "      <td>522.865334</td>\n",
       "      <td>3.412756</td>\n",
       "      <td>0.000000</td>\n",
       "    </tr>\n",
       "    <tr>\n",
       "      <th>1</th>\n",
       "      <td>SUL</td>\n",
       "      <td>522.774008</td>\n",
       "      <td>3.394694</td>\n",
       "      <td>-0.017466</td>\n",
       "    </tr>\n",
       "    <tr>\n",
       "      <th>2</th>\n",
       "      <td>CENTRO-OESTE</td>\n",
       "      <td>509.082057</td>\n",
       "      <td>0.686688</td>\n",
       "      <td>-2.636105</td>\n",
       "    </tr>\n",
       "    <tr>\n",
       "      <th>3</th>\n",
       "      <td>NORDESTE</td>\n",
       "      <td>487.219622</td>\n",
       "      <td>-3.637283</td>\n",
       "      <td>-6.817379</td>\n",
       "    </tr>\n",
       "    <tr>\n",
       "      <th>4</th>\n",
       "      <td>NORTE</td>\n",
       "      <td>480.360220</td>\n",
       "      <td>-4.993942</td>\n",
       "      <td>-8.129266</td>\n",
       "    </tr>\n",
       "  </tbody>\n",
       "</table>\n",
       "</div>"
      ],
      "text/plain": [
       "         REGIAO  MEDIA_OBJETIVAS  % em relação a média do Brasil  \\\n",
       "0       SUDESTE       522.865334                        3.412756   \n",
       "1           SUL       522.774008                        3.394694   \n",
       "2  CENTRO-OESTE       509.082057                        0.686688   \n",
       "3      NORDESTE       487.219622                       -3.637283   \n",
       "4         NORTE       480.360220                       -4.993942   \n",
       "\n",
       "   % em relação a maior média das Regiões  \n",
       "0                                0.000000  \n",
       "1                               -0.017466  \n",
       "2                               -2.636105  \n",
       "3                               -6.817379  \n",
       "4                               -8.129266  "
      ]
     },
     "execution_count": 81,
     "metadata": {},
     "output_type": "execute_result"
    }
   ],
   "source": [
    "quadro_resumo['% em relação a média do Brasil'] = (quadro_resumo['MEDIA_OBJETIVAS']/media_brasil*100)-100\n",
    "quadro_resumo['% em relação a maior média das Regiões'] = (quadro_resumo['MEDIA_OBJETIVAS']/maior_media*100)-100\n",
    "quadro_resumo"
   ]
  },
  {
   "cell_type": "markdown",
   "metadata": {},
   "source": [
    "**Será que essas médias são estatisticamente diferentes a um nível de significância de 0.05?**\n",
    "\n",
    "Hipóteses\n",
    "\n",
    "H0: As médias são iguais entre as diversas regiões do país.\n",
    "\n",
    "H1: As médias são diferentes entre as diversas regiões do país.\n",
    "\n",
    "TESTE ANOVA\n",
    "\n",
    "  Assume distribuição normal na amostra e variâncias semelhantes.\n"
   ]
  },
  {
   "cell_type": "markdown",
   "metadata": {},
   "source": [
    "### Normalidade dos Dados"
   ]
  },
  {
   "cell_type": "code",
   "execution_count": 16,
   "metadata": {},
   "outputs": [
    {
     "data": {
      "text/plain": [
       "<seaborn.axisgrid.FacetGrid at 0x1393165eb50>"
      ]
     },
     "execution_count": 16,
     "metadata": {},
     "output_type": "execute_result"
    },
    {
     "data": {
      "image/png": "[encoded data removed]",
      "text/plain": [
       "<Figure size 473.875x360 with 1 Axes>"
      ]
     },
     "metadata": {
      "needs_background": "light"
     },
     "output_type": "display_data"
    }
   ],
   "source": [
    "sns.displot(df_brasil_clean, x=\"MEDIA_OBJETIVAS\", hue=\"REGIAO\", kind=\"kde\", fill=True)"
   ]
  },
  {
   "cell_type": "code",
   "execution_count": 13,
   "metadata": {},
   "outputs": [],
   "source": [
    "dados_SUDESTE = pd.DataFrame()\n",
    "dados_SUL = pd.DataFrame()\n",
    "dados_CENTRO_OESTE = pd.DataFrame()\n",
    "dados_NORDESTE = pd.DataFrame()\n",
    "dados_NORTE = pd.DataFrame()\n",
    "\n",
    "dados_SUDESTE['MEDIA_OBJETIVAS'] = df_brasil_clean['MEDIA_OBJETIVAS'].loc[df_brasil_clean.loc[:,'REGIAO']=='SUDESTE']\n",
    "dados_SUL['MEDIA_OBJETIVAS'] = df_brasil_clean['MEDIA_OBJETIVAS'].loc[df_brasil_clean.loc[:,'REGIAO']=='SUL']\n",
    "dados_CENTRO_OESTE['MEDIA_OBJETIVAS'] = df_brasil_clean['MEDIA_OBJETIVAS'].loc[df_brasil_clean.loc[:,'REGIAO']=='CENTRO-OESTE']\n",
    "dados_NORDESTE['MEDIA_OBJETIVAS'] = df_brasil_clean['MEDIA_OBJETIVAS'].loc[df_brasil_clean.loc[:,'REGIAO']=='NORDESTE']\n",
    "dados_NORTE['MEDIA_OBJETIVAS'] = df_brasil_clean['MEDIA_OBJETIVAS'].loc[df_brasil_clean.loc[:,'REGIAO']=='NORTE']"
   ]
  },
  {
   "cell_type": "code",
   "execution_count": 22,
   "metadata": {},
   "outputs": [
    {
     "data": {
      "image/png": "[encoded data removed]",
      "text/plain": [
       "<Figure size 432x288 with 1 Axes>"
      ]
     },
     "metadata": {
      "needs_background": "light"
     },
     "output_type": "display_data"
    }
   ],
   "source": [
    "fig, ax = plt.subplots()\n",
    "stats.probplot(dados_SUDESTE['MEDIA_OBJETIVAS'], fit=True,   plot=ax)\n",
    "plt.show()"
   ]
  },
  {
   "cell_type": "code",
   "execution_count": 23,
   "metadata": {},
   "outputs": [
    {
     "data": {
      "image/png": "[encoded data removed]",
      "text/plain": [
       "<Figure size 432x288 with 1 Axes>"
      ]
     },
     "metadata": {
      "needs_background": "light"
     },
     "output_type": "display_data"
    }
   ],
   "source": [
    "fig, ax = plt.subplots()\n",
    "stats.probplot(dados_SUL['MEDIA_OBJETIVAS'], fit=True,   plot=ax)\n",
    "plt.show()\n"
   ]
  },
  {
   "cell_type": "code",
   "execution_count": 24,
   "metadata": {},
   "outputs": [
    {
     "data": {
      "image/png": "[encoded data removed]",
      "text/plain": [
       "<Figure size 432x288 with 1 Axes>"
      ]
     },
     "metadata": {
      "needs_background": "light"
     },
     "output_type": "display_data"
    }
   ],
   "source": [
    "fig, ax = plt.subplots()\n",
    "stats.probplot(dados_CENTRO_OESTE['MEDIA_OBJETIVAS'], fit=True,   plot=ax)\n",
    "plt.show()"
   ]
  },
  {
   "cell_type": "code",
   "execution_count": 25,
   "metadata": {},
   "outputs": [
    {
     "data": {
      "image/png": "[encoded data removed]",
      "text/plain": [
       "<Figure size 432x288 with 1 Axes>"
      ]
     },
     "metadata": {
      "needs_background": "light"
     },
     "output_type": "display_data"
    }
   ],
   "source": [
    "fig, ax = plt.subplots()\n",
    "stats.probplot(dados_NORDESTE['MEDIA_OBJETIVAS'], fit=True,   plot=ax)\n",
    "plt.show()"
   ]
  },
  {
   "cell_type": "code",
   "execution_count": 26,
   "metadata": {},
   "outputs": [
    {
     "data": {
      "image/png": "[encoded data removed]",
      "text/plain": [
       "<Figure size 432x288 with 1 Axes>"
      ]
     },
     "metadata": {
      "needs_background": "light"
     },
     "output_type": "display_data"
    }
   ],
   "source": [
    "fig, ax = plt.subplots()\n",
    "stats.probplot(dados_NORTE['MEDIA_OBJETIVAS'], fit=True,   plot=ax)\n",
    "plt.show()"
   ]
  },
  {
   "cell_type": "markdown",
   "metadata": {},
   "source": [
    "### Variância"
   ]
  },
  {
   "cell_type": "code",
   "execution_count": 17,
   "metadata": {},
   "outputs": [],
   "source": [
    "df_var = df_brasil_clean.groupby('REGIAO')['MEDIA_OBJETIVAS'].var().reset_index()"
   ]
  },
  {
   "cell_type": "code",
   "execution_count": 18,
   "metadata": {},
   "outputs": [
    {
     "data": {
      "text/html": [
       "<div>\n",
       "<style scoped>\n",
       "    .dataframe tbody tr th:only-of-type {\n",
       "        vertical-align: middle;\n",
       "    }\n",
       "\n",
       "    .dataframe tbody tr th {\n",
       "        vertical-align: top;\n",
       "    }\n",
       "\n",
       "    .dataframe thead th {\n",
       "        text-align: right;\n",
       "    }\n",
       "</style>\n",
       "<table border=\"1\" class=\"dataframe\">\n",
       "  <thead>\n",
       "    <tr style=\"text-align: right;\">\n",
       "      <th></th>\n",
       "      <th>REGIAO</th>\n",
       "      <th>MEDIA_OBJETIVAS</th>\n",
       "    </tr>\n",
       "  </thead>\n",
       "  <tbody>\n",
       "    <tr>\n",
       "      <th>0</th>\n",
       "      <td>CENTRO-OESTE</td>\n",
       "      <td>4806.022551</td>\n",
       "    </tr>\n",
       "    <tr>\n",
       "      <th>1</th>\n",
       "      <td>NORDESTE</td>\n",
       "      <td>4613.182430</td>\n",
       "    </tr>\n",
       "    <tr>\n",
       "      <th>2</th>\n",
       "      <td>NORTE</td>\n",
       "      <td>3845.678927</td>\n",
       "    </tr>\n",
       "    <tr>\n",
       "      <th>3</th>\n",
       "      <td>SUDESTE</td>\n",
       "      <td>5028.263708</td>\n",
       "    </tr>\n",
       "    <tr>\n",
       "      <th>4</th>\n",
       "      <td>SUL</td>\n",
       "      <td>4540.578935</td>\n",
       "    </tr>\n",
       "  </tbody>\n",
       "</table>\n",
       "</div>"
      ],
      "text/plain": [
       "         REGIAO  MEDIA_OBJETIVAS\n",
       "0  CENTRO-OESTE      4806.022551\n",
       "1      NORDESTE      4613.182430\n",
       "2         NORTE      3845.678927\n",
       "3       SUDESTE      5028.263708\n",
       "4           SUL      4540.578935"
      ]
     },
     "execution_count": 18,
     "metadata": {},
     "output_type": "execute_result"
    }
   ],
   "source": [
    "df_var"
   ]
  },
  {
   "cell_type": "markdown",
   "metadata": {},
   "source": [
    "### Teste ANOVA"
   ]
  },
  {
   "cell_type": "code",
   "execution_count": 36,
   "metadata": {},
   "outputs": [],
   "source": [
    "lm = ols('MEDIA_OBJETIVAS ~ (REGIAO)', df_brasil_clean).fit()"
   ]
  },
  {
   "cell_type": "code",
   "execution_count": 39,
   "metadata": {},
   "outputs": [
    {
     "data": {
      "text/html": [
       "<div>\n",
       "<style scoped>\n",
       "    .dataframe tbody tr th:only-of-type {\n",
       "        vertical-align: middle;\n",
       "    }\n",
       "\n",
       "    .dataframe tbody tr th {\n",
       "        vertical-align: top;\n",
       "    }\n",
       "\n",
       "    .dataframe thead th {\n",
       "        text-align: right;\n",
       "    }\n",
       "</style>\n",
       "<table border=\"1\" class=\"dataframe\">\n",
       "  <thead>\n",
       "    <tr style=\"text-align: right;\">\n",
       "      <th></th>\n",
       "      <th>sum_sq</th>\n",
       "      <th>df</th>\n",
       "      <th>F</th>\n",
       "      <th>PR(&gt;F)</th>\n",
       "    </tr>\n",
       "  </thead>\n",
       "  <tbody>\n",
       "    <tr>\n",
       "      <th>REGIAO</th>\n",
       "      <td>3.051259e+08</td>\n",
       "      <td>4.0</td>\n",
       "      <td>16223.72231</td>\n",
       "      <td>0.0</td>\n",
       "    </tr>\n",
       "    <tr>\n",
       "      <th>Residual</th>\n",
       "      <td>4.485131e+09</td>\n",
       "      <td>953908.0</td>\n",
       "      <td>NaN</td>\n",
       "      <td>NaN</td>\n",
       "    </tr>\n",
       "  </tbody>\n",
       "</table>\n",
       "</div>"
      ],
      "text/plain": [
       "                sum_sq        df            F  PR(>F)\n",
       "REGIAO    3.051259e+08       4.0  16223.72231     0.0\n",
       "Residual  4.485131e+09  953908.0          NaN     NaN"
      ]
     },
     "execution_count": 39,
     "metadata": {},
     "output_type": "execute_result"
    }
   ],
   "source": [
    "sm.stats.anova_lm(lm,typ=2)"
   ]
  },
  {
   "cell_type": "markdown",
   "metadata": {},
   "source": [
    "P-value = 0.0, que é menor que alpha=0.05. Então rejeita-se H0, e aceita H1, as médias são estatisticamente diferentes."
   ]
  },
  {
   "cell_type": "code",
   "execution_count": 59,
   "metadata": {},
   "outputs": [],
   "source": [
    "df_sul_sudeste = df_brasil_clean.loc[(df_brasil_clean['REGIAO']=='SUL') | (df_brasil_clean['REGIAO']=='SUDESTE')]"
   ]
  },
  {
   "cell_type": "code",
   "execution_count": 60,
   "metadata": {},
   "outputs": [],
   "source": [
    "lm_sul_sudeste = ols('MEDIA_OBJETIVAS ~ (REGIAO)', df_sul_sudeste).fit()"
   ]
  },
  {
   "cell_type": "code",
   "execution_count": 61,
   "metadata": {},
   "outputs": [
    {
     "data": {
      "text/html": [
       "<div>\n",
       "<style scoped>\n",
       "    .dataframe tbody tr th:only-of-type {\n",
       "        vertical-align: middle;\n",
       "    }\n",
       "\n",
       "    .dataframe tbody tr th {\n",
       "        vertical-align: top;\n",
       "    }\n",
       "\n",
       "    .dataframe thead th {\n",
       "        text-align: right;\n",
       "    }\n",
       "</style>\n",
       "<table border=\"1\" class=\"dataframe\">\n",
       "  <thead>\n",
       "    <tr style=\"text-align: right;\">\n",
       "      <th></th>\n",
       "      <th>sum_sq</th>\n",
       "      <th>df</th>\n",
       "      <th>F</th>\n",
       "      <th>PR(&gt;F)</th>\n",
       "    </tr>\n",
       "  </thead>\n",
       "  <tbody>\n",
       "    <tr>\n",
       "      <th>REGIAO</th>\n",
       "      <td>6.980612e+02</td>\n",
       "      <td>1.0</td>\n",
       "      <td>0.1421</td>\n",
       "      <td>0.706202</td>\n",
       "    </tr>\n",
       "    <tr>\n",
       "      <th>Residual</th>\n",
       "      <td>2.270545e+09</td>\n",
       "      <td>462202.0</td>\n",
       "      <td>NaN</td>\n",
       "      <td>NaN</td>\n",
       "    </tr>\n",
       "  </tbody>\n",
       "</table>\n",
       "</div>"
      ],
      "text/plain": [
       "                sum_sq        df       F    PR(>F)\n",
       "REGIAO    6.980612e+02       1.0  0.1421  0.706202\n",
       "Residual  2.270545e+09  462202.0     NaN       NaN"
      ]
     },
     "execution_count": 61,
     "metadata": {},
     "output_type": "execute_result"
    }
   ],
   "source": [
    "sm.stats.anova_lm(lm_teste,typ=2)"
   ]
  },
  {
   "cell_type": "markdown",
   "metadata": {},
   "source": [
    "P-value = 0.7, que é maior que alpha=0.05. Então, aceita-se H0, as médias entre SUL e SUDESTE são estatisticamente iguais."
   ]
  },
  {
   "cell_type": "markdown",
   "metadata": {},
   "source": [
    "## Visão Geográfica"
   ]
  },
  {
   "cell_type": "code",
   "execution_count": 19,
   "metadata": {},
   "outputs": [],
   "source": [
    "medias_por_cd_escola_obj = df_brasil_clean.groupby('CO_ESCOLA')['MEDIA_OBJETIVAS'].mean().sort_values(ascending=False)"
   ]
  },
  {
   "cell_type": "code",
   "execution_count": 22,
   "metadata": {},
   "outputs": [],
   "source": [
    "escola_localizacao = pd.merge(medias_por_cd_escola_obj,escolas,how=\"left\",left_on=\"CO_ESCOLA\",right_on=\"Código INEP\")"
   ]
  },
  {
   "cell_type": "code",
   "execution_count": 23,
   "metadata": {},
   "outputs": [],
   "source": [
    "escola_localizacao.dropna(subset=['Latitude'],inplace=True)"
   ]
  },
  {
   "cell_type": "code",
   "execution_count": 24,
   "metadata": {},
   "outputs": [
    {
     "data": {
      "text/html": [
       "<div>\n",
       "<style scoped>\n",
       "    .dataframe tbody tr th:only-of-type {\n",
       "        vertical-align: middle;\n",
       "    }\n",
       "\n",
       "    .dataframe tbody tr th {\n",
       "        vertical-align: top;\n",
       "    }\n",
       "\n",
       "    .dataframe thead th {\n",
       "        text-align: right;\n",
       "    }\n",
       "</style>\n",
       "<table border=\"1\" class=\"dataframe\">\n",
       "  <thead>\n",
       "    <tr style=\"text-align: right;\">\n",
       "      <th></th>\n",
       "      <th>MEDIA_OBJETIVAS</th>\n",
       "      <th>Escola</th>\n",
       "      <th>UF</th>\n",
       "      <th>Município</th>\n",
       "      <th>Localização</th>\n",
       "      <th>Categoria Administrativa</th>\n",
       "      <th>Latitude</th>\n",
       "      <th>Longitude</th>\n",
       "    </tr>\n",
       "  </thead>\n",
       "  <tbody>\n",
       "    <tr>\n",
       "      <th>0</th>\n",
       "      <td>734.275000</td>\n",
       "      <td>ORLANDO GARCIA DA SILVEIRA COLEGIO</td>\n",
       "      <td>SP</td>\n",
       "      <td>São Paulo</td>\n",
       "      <td>Urbana</td>\n",
       "      <td>Privada</td>\n",
       "      <td>-23.495800</td>\n",
       "      <td>-46.699090</td>\n",
       "    </tr>\n",
       "    <tr>\n",
       "      <th>1</th>\n",
       "      <td>724.175000</td>\n",
       "      <td>COL PODION ENSINO FUNDAMENTAL</td>\n",
       "      <td>DF</td>\n",
       "      <td>Brasília</td>\n",
       "      <td>Urbana</td>\n",
       "      <td>Privada</td>\n",
       "      <td>-15.750122</td>\n",
       "      <td>-47.897209</td>\n",
       "    </tr>\n",
       "    <tr>\n",
       "      <th>2</th>\n",
       "      <td>716.367857</td>\n",
       "      <td>FARIAS BRITO COLEGIO DE APLICACAO</td>\n",
       "      <td>CE</td>\n",
       "      <td>Fortaleza</td>\n",
       "      <td>Urbana</td>\n",
       "      <td>Privada</td>\n",
       "      <td>-3.736603</td>\n",
       "      <td>-38.486147</td>\n",
       "    </tr>\n",
       "    <tr>\n",
       "      <th>3</th>\n",
       "      <td>715.390152</td>\n",
       "      <td>ARI DE SA CAVALCANTE SEDE MARIO MAMEDE COLEGIO</td>\n",
       "      <td>CE</td>\n",
       "      <td>Fortaleza</td>\n",
       "      <td>Urbana</td>\n",
       "      <td>Privada</td>\n",
       "      <td>-3.755333</td>\n",
       "      <td>-38.524310</td>\n",
       "    </tr>\n",
       "    <tr>\n",
       "      <th>4</th>\n",
       "      <td>713.650000</td>\n",
       "      <td>COLEGIO DOM BOSCO DE IBIUNA</td>\n",
       "      <td>SP</td>\n",
       "      <td>Ibiúna</td>\n",
       "      <td>Urbana</td>\n",
       "      <td>Privada</td>\n",
       "      <td>-23.657281</td>\n",
       "      <td>-47.221812</td>\n",
       "    </tr>\n",
       "    <tr>\n",
       "      <th>...</th>\n",
       "      <td>...</td>\n",
       "      <td>...</td>\n",
       "      <td>...</td>\n",
       "      <td>...</td>\n",
       "      <td>...</td>\n",
       "      <td>...</td>\n",
       "      <td>...</td>\n",
       "      <td>...</td>\n",
       "    </tr>\n",
       "    <tr>\n",
       "      <th>29605</th>\n",
       "      <td>333.762500</td>\n",
       "      <td>CESEC MAESTRO CARLOS RIBEIRO DA SILVA</td>\n",
       "      <td>MG</td>\n",
       "      <td>São Gonçalo do Pará</td>\n",
       "      <td>Urbana</td>\n",
       "      <td>Pública</td>\n",
       "      <td>-19.981572</td>\n",
       "      <td>-44.850264</td>\n",
       "    </tr>\n",
       "    <tr>\n",
       "      <th>29607</th>\n",
       "      <td>304.750000</td>\n",
       "      <td>U E MARIA MENDES MOURAO</td>\n",
       "      <td>PI</td>\n",
       "      <td>Pedro II</td>\n",
       "      <td>Urbana</td>\n",
       "      <td>Pública</td>\n",
       "      <td>-4.421094</td>\n",
       "      <td>-41.451041</td>\n",
       "    </tr>\n",
       "    <tr>\n",
       "      <th>29608</th>\n",
       "      <td>299.050000</td>\n",
       "      <td>ESCOLA MUNICIPAL DE EDUCACAO BASICA WALDEMAR B...</td>\n",
       "      <td>RS</td>\n",
       "      <td>Alegrete</td>\n",
       "      <td>Urbana</td>\n",
       "      <td>Pública</td>\n",
       "      <td>-29.806260</td>\n",
       "      <td>-55.750180</td>\n",
       "    </tr>\n",
       "    <tr>\n",
       "      <th>29609</th>\n",
       "      <td>264.775000</td>\n",
       "      <td>COLEGIO ESTADUAL PROFESSOR JULIO CAVALCANTI</td>\n",
       "      <td>GO</td>\n",
       "      <td>Mara Rosa</td>\n",
       "      <td>Urbana</td>\n",
       "      <td>Pública</td>\n",
       "      <td>-14.020330</td>\n",
       "      <td>-49.171384</td>\n",
       "    </tr>\n",
       "    <tr>\n",
       "      <th>29610</th>\n",
       "      <td>236.475000</td>\n",
       "      <td>1026012 ESCOLA MUNICIPAL PROFESSOR VIEIRA FAZENDA</td>\n",
       "      <td>RJ</td>\n",
       "      <td>Rio de Janeiro</td>\n",
       "      <td>Urbana</td>\n",
       "      <td>Pública</td>\n",
       "      <td>-23.061006</td>\n",
       "      <td>-43.568316</td>\n",
       "    </tr>\n",
       "  </tbody>\n",
       "</table>\n",
       "<p>26293 rows × 8 columns</p>\n",
       "</div>"
      ],
      "text/plain": [
       "       MEDIA_OBJETIVAS                                             Escola  UF  \\\n",
       "0           734.275000                 ORLANDO GARCIA DA SILVEIRA COLEGIO  SP   \n",
       "1           724.175000                      COL PODION ENSINO FUNDAMENTAL  DF   \n",
       "2           716.367857                  FARIAS BRITO COLEGIO DE APLICACAO  CE   \n",
       "3           715.390152     ARI DE SA CAVALCANTE SEDE MARIO MAMEDE COLEGIO  CE   \n",
       "4           713.650000                        COLEGIO DOM BOSCO DE IBIUNA  SP   \n",
       "...                ...                                                ...  ..   \n",
       "29605       333.762500              CESEC MAESTRO CARLOS RIBEIRO DA SILVA  MG   \n",
       "29607       304.750000                            U E MARIA MENDES MOURAO  PI   \n",
       "29608       299.050000  ESCOLA MUNICIPAL DE EDUCACAO BASICA WALDEMAR B...  RS   \n",
       "29609       264.775000        COLEGIO ESTADUAL PROFESSOR JULIO CAVALCANTI  GO   \n",
       "29610       236.475000  1026012 ESCOLA MUNICIPAL PROFESSOR VIEIRA FAZENDA  RJ   \n",
       "\n",
       "                 Município Localização Categoria Administrativa   Latitude  \\\n",
       "0                São Paulo      Urbana                  Privada -23.495800   \n",
       "1                 Brasília      Urbana                  Privada -15.750122   \n",
       "2                Fortaleza      Urbana                  Privada  -3.736603   \n",
       "3                Fortaleza      Urbana                  Privada  -3.755333   \n",
       "4                   Ibiúna      Urbana                  Privada -23.657281   \n",
       "...                    ...         ...                      ...        ...   \n",
       "29605  São Gonçalo do Pará      Urbana                  Pública -19.981572   \n",
       "29607             Pedro II      Urbana                  Pública  -4.421094   \n",
       "29608             Alegrete      Urbana                  Pública -29.806260   \n",
       "29609            Mara Rosa      Urbana                  Pública -14.020330   \n",
       "29610       Rio de Janeiro      Urbana                  Pública -23.061006   \n",
       "\n",
       "       Longitude  \n",
       "0     -46.699090  \n",
       "1     -47.897209  \n",
       "2     -38.486147  \n",
       "3     -38.524310  \n",
       "4     -47.221812  \n",
       "...          ...  \n",
       "29605 -44.850264  \n",
       "29607 -41.451041  \n",
       "29608 -55.750180  \n",
       "29609 -49.171384  \n",
       "29610 -43.568316  \n",
       "\n",
       "[26293 rows x 8 columns]"
      ]
     },
     "execution_count": 24,
     "metadata": {},
     "output_type": "execute_result"
    }
   ],
   "source": [
    "escola_localizacao[['MEDIA_OBJETIVAS','Escola','UF','Município','Localização','Categoria Administrativa','Latitude','Longitude']]"
   ]
  },
  {
   "cell_type": "markdown",
   "metadata": {},
   "source": [
    "### Onde estão as 100 escolas mais bem avaliadas pelo ENEM 2019?"
   ]
  },
  {
   "cell_type": "code",
   "execution_count": 26,
   "metadata": {},
   "outputs": [],
   "source": [
    "coordenadas_melhores=[]\n",
    "for lat,lng in zip(escola_localizacao.Latitude.values[:100],escola_localizacao.Longitude.values[:100]):\n",
    "  coordenadas_melhores.append([lat,lng])"
   ]
  },
  {
   "cell_type": "code",
   "execution_count": 27,
   "metadata": {},
   "outputs": [
    {
     "data": {
      "text/html": [
       "<div style=\"width:100%;\"><div style=\"position:relative;width:100%;height:0;padding-bottom:60%;\"><span style=\"color:#565656\">Make this Notebook Trusted to load map: File -> Trust Notebook</span><iframe src=\"about:blank\" style=\"position:absolute;width:100%;height:100%;left:0;top:0;border:none !important;\" data-html=%3C%21DOCTYPE%20html%3E%0A%3Chead%3E%20%20%20%20%0A%20%20%20%20%3Cmeta%20http-equiv%3D%22content-type%22%20content%3D%22text/html%3B%20charset%3DUTF-8%22%20/%3E%0A%20%20%20%20%0A%20%20%20%20%20%20%20%20%3Cscript%3E%0A%20%20%20%20%20%20%20%20%20%20%20%20L_NO_TOUCH%20%3D%20false%3B%0A%20%20%20%20%20%20%20%20%20%20%20%20L_DISABLE_3D%20%3D%20false%3B%0A%20%20%20%20%20%20%20%20%3C/script%3E%0A%20%20%20%20%0A%20%20%20%20%3Cstyle%3Ehtml%2C%20body%20%7Bwidth%3A%20100%25%3Bheight%3A%20100%25%3Bmargin%3A%200%3Bpadding%3A%200%3B%7D%3C/style%3E%0A%20%20%20%20%3Cstyle%3E%23map%20%7Bposition%3Aabsolute%3Btop%3A0%3Bbottom%3A0%3Bright%3A0%3Bleft%3A0%3B%7D%3C/style%3E%0A%20%20%20%20%3Cscript%20src%3D%22https%3A//cdn.jsdelivr.net/npm/leaflet%401.6.0/dist/leaflet.js%22%3E%3C/script%3E%0A%20%20%20%20%3Cscript%20src%3D%22https%3A//code.jquery.com/jquery-1.12.4.min.js%22%3E%3C/script%3E%0A%20%20%20%20%3Cscript%20src%3D%22https%3A//maxcdn.bootstrapcdn.com/bootstrap/3.2.0/js/bootstrap.min.js%22%3E%3C/script%3E%0A%20%20%20%20%3Cscript%20src%3D%22https%3A//cdnjs.cloudflare.com/ajax/libs/Leaflet.awesome-markers/2.0.2/leaflet.awesome-markers.js%22%3E%3C/script%3E%0A%20%20%20%20%3Clink%20rel%3D%22stylesheet%22%20href%3D%22https%3A//cdn.jsdelivr.net/npm/leaflet%401.6.0/dist/leaflet.css%22/%3E%0A%20%20%20%20%3Clink%20rel%3D%22stylesheet%22%20href%3D%22https%3A//maxcdn.bootstrapcdn.com/bootstrap/3.2.0/css/bootstrap.min.css%22/%3E%0A%20%20%20%20%3Clink%20rel%3D%22stylesheet%22%20href%3D%22https%3A//maxcdn.bootstrapcdn.com/bootstrap/3.2.0/css/bootstrap-theme.min.css%22/%3E%0A%20%20%20%20%3Clink%20rel%3D%22stylesheet%22%20href%3D%22https%3A//maxcdn.bootstrapcdn.com/font-awesome/4.6.3/css/font-awesome.min.css%22/%3E%0A%20%20%20%20%3Clink%20rel%3D%22stylesheet%22%20href%3D%22https%3A//cdnjs.cloudflare.com/ajax/libs/Leaflet.awesome-markers/2.0.2/leaflet.awesome-markers.css%22/%3E%0A%20%20%20%20%3Clink%20rel%3D%22stylesheet%22%20href%3D%22https%3A//cdn.jsdelivr.net/gh/python-visualization/folium/folium/templates/leaflet.awesome.rotate.min.css%22/%3E%0A%20%20%20%20%0A%20%20%20%20%20%20%20%20%20%20%20%20%3Cmeta%20name%3D%22viewport%22%20content%3D%22width%3Ddevice-width%2C%0A%20%20%20%20%20%20%20%20%20%20%20%20%20%20%20%20initial-scale%3D1.0%2C%20maximum-scale%3D1.0%2C%20user-scalable%3Dno%22%20/%3E%0A%20%20%20%20%20%20%20%20%20%20%20%20%3Cstyle%3E%0A%20%20%20%20%20%20%20%20%20%20%20%20%20%20%20%20%23map_d81f209765484b908041aaf96b547818%20%7B%0A%20%20%20%20%20%20%20%20%20%20%20%20%20%20%20%20%20%20%20%20position%3A%20relative%3B%0A%20%20%20%20%20%20%20%20%20%20%20%20%20%20%20%20%20%20%20%20width%3A%20100.0%25%3B%0A%20%20%20%20%20%20%20%20%20%20%20%20%20%20%20%20%20%20%20%20height%3A%20100.0%25%3B%0A%20%20%20%20%20%20%20%20%20%20%20%20%20%20%20%20%20%20%20%20left%3A%200.0%25%3B%0A%20%20%20%20%20%20%20%20%20%20%20%20%20%20%20%20%20%20%20%20top%3A%200.0%25%3B%0A%20%20%20%20%20%20%20%20%20%20%20%20%20%20%20%20%7D%0A%20%20%20%20%20%20%20%20%20%20%20%20%3C/style%3E%0A%20%20%20%20%20%20%20%20%0A%20%20%20%20%3Cscript%20src%3D%22https%3A//cdn.jsdelivr.net/gh/python-visualization/folium%40master/folium/templates/leaflet_heat.min.js%22%3E%3C/script%3E%0A%3C/head%3E%0A%3Cbody%3E%20%20%20%20%0A%20%20%20%20%0A%20%20%20%20%20%20%20%20%20%20%20%20%3Cdiv%20class%3D%22folium-map%22%20id%3D%22map_d81f209765484b908041aaf96b547818%22%20%3E%3C/div%3E%0A%20%20%20%20%20%20%20%20%0A%3C/body%3E%0A%3Cscript%3E%20%20%20%20%0A%20%20%20%20%0A%20%20%20%20%20%20%20%20%20%20%20%20var%20map_d81f209765484b908041aaf96b547818%20%3D%20L.map%28%0A%20%20%20%20%20%20%20%20%20%20%20%20%20%20%20%20%22map_d81f209765484b908041aaf96b547818%22%2C%0A%20%20%20%20%20%20%20%20%20%20%20%20%20%20%20%20%7B%0A%20%20%20%20%20%20%20%20%20%20%20%20%20%20%20%20%20%20%20%20center%3A%20%5B-15.788497%2C%20-47.879873%5D%2C%0A%20%20%20%20%20%20%20%20%20%20%20%20%20%20%20%20%20%20%20%20crs%3A%20L.CRS.EPSG3857%2C%0A%20%20%20%20%20%20%20%20%20%20%20%20%20%20%20%20%20%20%20%20zoom%3A%205%2C%0A%20%20%20%20%20%20%20%20%20%20%20%20%20%20%20%20%20%20%20%20zoomControl%3A%20true%2C%0A%20%20%20%20%20%20%20%20%20%20%20%20%20%20%20%20%20%20%20%20preferCanvas%3A%20false%2C%0A%20%20%20%20%20%20%20%20%20%20%20%20%20%20%20%20%7D%0A%20%20%20%20%20%20%20%20%20%20%20%20%29%3B%0A%0A%20%20%20%20%20%20%20%20%20%20%20%20%0A%0A%20%20%20%20%20%20%20%20%0A%20%20%20%20%0A%20%20%20%20%20%20%20%20%20%20%20%20var%20tile_layer_3bd5dd9e13d94702871931aff4d887a7%20%3D%20L.tileLayer%28%0A%20%20%20%20%20%20%20%20%20%20%20%20%20%20%20%20%22https%3A//stamen-tiles-%7Bs%7D.a.ssl.fastly.net/toner/%7Bz%7D/%7Bx%7D/%7By%7D.png%22%2C%0A%20%20%20%20%20%20%20%20%20%20%20%20%20%20%20%20%7B%22attribution%22%3A%20%22Map%20tiles%20by%20%5Cu003ca%20href%3D%5C%22http%3A//stamen.com%5C%22%5Cu003eStamen%20Design%5Cu003c/a%5Cu003e%2C%20under%20%5Cu003ca%20href%3D%5C%22http%3A//creativecommons.org/licenses/by/3.0%5C%22%5Cu003eCC%20BY%203.0%5Cu003c/a%5Cu003e.%20Data%20by%20%5Cu0026copy%3B%20%5Cu003ca%20href%3D%5C%22http%3A//openstreetmap.org%5C%22%5Cu003eOpenStreetMap%5Cu003c/a%5Cu003e%2C%20under%20%5Cu003ca%20href%3D%5C%22http%3A//www.openstreetmap.org/copyright%5C%22%5Cu003eODbL%5Cu003c/a%5Cu003e.%22%2C%20%22detectRetina%22%3A%20false%2C%20%22maxNativeZoom%22%3A%2018%2C%20%22maxZoom%22%3A%2018%2C%20%22minZoom%22%3A%200%2C%20%22noWrap%22%3A%20false%2C%20%22opacity%22%3A%201%2C%20%22subdomains%22%3A%20%22abc%22%2C%20%22tms%22%3A%20false%7D%0A%20%20%20%20%20%20%20%20%20%20%20%20%29.addTo%28map_d81f209765484b908041aaf96b547818%29%3B%0A%20%20%20%20%20%20%20%20%0A%20%20%20%20%0A%20%20%20%20%20%20%20%20%20%20%20%20var%20heat_map_a97ac59b619f465f9eb3b2b46326d250%20%3D%20L.heatLayer%28%0A%20%20%20%20%20%20%20%20%20%20%20%20%20%20%20%20%5B%5B-23.4958%2C%20-46.699090000000005%5D%2C%20%5B-15.750121799999999%2C%20-47.897208899999995%5D%2C%20%5B-3.7366025%2C%20-38.4861474%5D%2C%20%5B-3.7553330000000003%2C%20-38.52431%5D%2C%20%5B-23.657281100000002%2C%20-47.2218119%5D%2C%20%5B-21.273970600000002%2C%20-47.304905600000005%5D%2C%20%5B-23.281736600000002%2C%20-47.6682635%5D%2C%20%5B-23.565213%2C%20-46.6511105%5D%2C%20%5B-20.447770000000002%2C%20-54.60389%5D%2C%20%5B-23.617465%2C%20-46.67829570000001%5D%2C%20%5B-19.92887726%2C%20-43.94068085%5D%2C%20%5B-20.243449%2C%20-46.367147700000004%5D%2C%20%5B-23.5159%2C%20-46.68999%5D%2C%20%5B-12.997104499999999%2C%20-38.4615523%5D%2C%20%5B-22.65842%2C%20-43.03561%5D%2C%20%5B-19.93487%2C%20-43.93506%5D%2C%20%5B-19.8706717%2C%20-43.9835854%5D%2C%20%5B-20.583525%2C%20-46.91987720000001%5D%2C%20%5B-19.49341123%2C%20-42.53688233%5D%2C%20%5B-23.57500654%2C%20-46.68201133%5D%2C%20%5B-25.37221475%2C%20-53.00087504%5D%2C%20%5B-3.8097623%2C%20-38.4742939%5D%2C%20%5B-3.7322269999999995%2C%20-38.52906%5D%2C%20%5B-20.762220000000003%2C%20-42.86509%5D%2C%20%5B-23.616880300000002%2C%20-46.678703799999994%5D%2C%20%5B-23.6192107%2C%20-46.56305379999999%5D%2C%20%5B-19.92672533%2C%20-43.95403285%5D%2C%20%5B-22.95486852%2C%20-43.199737299999995%5D%2C%20%5B-20.283609100000003%2C%20-42.3380494%5D%2C%20%5B-23.57224508%2C%20-46.74279709%5D%2C%20%5B-22.50615%2C%20-43.17581%5D%2C%20%5B-22.8978%2C%20-43.17965%5D%2C%20%5B-23.5770096%2C%20-46.559745899999996%5D%2C%20%5B-23.646810100000003%2C%20-46.6898194%5D%2C%20%5B-19.97324%2C%20-43.932320000000004%5D%2C%20%5B-3.744298%2C%20-38.53398%5D%2C%20%5B-20.30783%2C%20-40.3014783%5D%2C%20%5B-15.7545919%2C%20-47.896834600000005%5D%2C%20%5B-19.8905840486192%2C%20-43.9317649938354%5D%2C%20%5B-23.0012186%2C%20-47.008457%5D%2C%20%5B-22.91865%2C%20-43.23042%5D%2C%20%5B-5.072277%2C%20-42.77926%5D%2C%20%5B-3.7335379%2C%20-38.4713465%5D%2C%20%5B-21.1773818%2C%20-47.8123282%5D%2C%20%5B-7.18657345817703%2C%20-48.20869376316179%5D%2C%20%5B-3.793947%2C%20-38.569309999999994%5D%2C%20%5B-3.7933526%2C%20-38.486846299999996%5D%2C%20%5B-23.598734699999998%2C%20-46.6696233%5D%2C%20%5B-5.808224%2C%20-35.202909999999996%5D%2C%20%5B-19.9260199209861%2C%20-43.9496040344648%5D%2C%20%5B-23.599034%2C%20-46.669078000000006%5D%2C%20%5B-22.8834098%2C%20-43.2629467%5D%2C%20%5B-23.57745%2C%20-46.8459926%5D%2C%20%5B-13.0033171%2C%20-38.4551039%5D%2C%20%5B-23.571703699999997%2C%20-46.7231054%5D%2C%20%5B-15.645346700000001%2C%20-47.7868108%5D%2C%20%5B-2.9053560000000003%2C%20-41.775859999999994%5D%2C%20%5B-23.2198296%2C%20-45.91841779999999%5D%2C%20%5B-22.2384164%2C%20-45.93204179999999%5D%2C%20%5B-23.579122299999998%2C%20-46.6389331%5D%2C%20%5B-19.8574963%2C%20-43.966769%5D%2C%20%5B-21.603901899999997%2C%20-48.368226299999996%5D%2C%20%5B-29.72284248%2C%20-53.71810124%5D%2C%20%5B-5.084492%2C%20-42.79793%5D%2C%20%5B-23.526077800000003%2C%20-46.2006445%5D%2C%20%5B-5.077496%2C%20-42.796690000000005%5D%2C%20%5B-23.649301%2C%20-46.689435700000004%5D%2C%20%5B-20.4363859%2C%20-44.7676764%5D%2C%20%5B-22.8506642%2C%20-47.0433513%5D%2C%20%5B-22.191759899999997%2C%20-46.7422271%5D%2C%20%5B-8.039189%2C%20-34.91749%5D%2C%20%5B-1.45165666666667%2C%20-48.4846866666667%5D%2C%20%5B-22.89837%2C%20-47.05591%5D%2C%20%5B-23.6205484%2C%20-46.7343041%5D%2C%20%5B-12.25799958%2C%20-38.93266296%5D%2C%20%5B-19.992066666666698%2C%20-43.92969%5D%2C%20%5B-23.542499%2C%20-46.5685525%5D%2C%20%5B-5.089079%2C%20-42.80923%5D%2C%20%5B-23.5158658%2C%20-47.46164520000001%5D%2C%20%5B-15.8160061528759%2C%20-47.9217421735248%5D%2C%20%5B-22.292360000000002%2C%20-42.53727%5D%2C%20%5B-7.085597%2C%20-41.47741%5D%2C%20%5B-25.45694%2C%20-49.23605%5D%2C%20%5B-20.455551800000002%2C%20-54.59660699999999%5D%2C%20%5B-22.9113898845389%2C%20-43.1895877886564%5D%2C%20%5B-25.39262037%2C%20-49.26741378%5D%2C%20%5B-23.5346412%2C%20-46.779074%5D%2C%20%5B-22.3959749%2C%20-46.945673299999996%5D%2C%20%5B-20.447726100000004%2C%20-54.6111069%5D%2C%20%5B-19.9309672490689%2C%20-43.974646765548705%5D%2C%20%5B-19.871489999999998%2C%20-43.95903%5D%2C%20%5B-23.652701699999998%2C%20-46.5451018%5D%2C%20%5B-20.45458%2C%20-54.60272%5D%2C%20%5B-23.579268799999998%2C%20-46.6393705%5D%2C%20%5B-16.409029999999998%2C%20-39.05118%5D%2C%20%5B-20.2959511323821%2C%20-40.288655922174705%5D%2C%20%5B-19.4701595%2C%20-44.24102620000001%5D%2C%20%5B-3.7457323%2C%20-38.4924914%5D%2C%20%5B-5.0961734000000005%2C%20-42.8097616%5D%2C%20%5B-23.001434699999997%2C%20-43.384524299999995%5D%5D%2C%0A%20%20%20%20%20%20%20%20%20%20%20%20%20%20%20%20%7B%22blur%22%3A%2015%2C%20%22maxZoom%22%3A%2018%2C%20%22minOpacity%22%3A%200.5%2C%20%22radius%22%3A%2025%7D%0A%20%20%20%20%20%20%20%20%20%20%20%20%29.addTo%28map_d81f209765484b908041aaf96b547818%29%3B%0A%20%20%20%20%20%20%20%20%0A%3C/script%3E onload=\"this.contentDocument.open();this.contentDocument.write(    decodeURIComponent(this.getAttribute('data-html')));this.contentDocument.close();\" allowfullscreen webkitallowfullscreen mozallowfullscreen></iframe></div></div>"
      ],
      "text/plain": [
       "<folium.folium.Map at 0x15d0dfda550>"
      ]
     },
     "execution_count": 27,
     "metadata": {},
     "output_type": "execute_result"
    }
   ],
   "source": [
    "# Renderizando o mapa com algumas personalizações:\n",
    "mapa_melhores = folium.Map(location=[-15.788497,-47.879873],zoom_start=5,tiles='Stamen Toner')\n",
    "# Adicionando os registros no mapa de calor:\n",
    "mapa_melhores.add_child(plugins.HeatMap(coordenadas_melhores))        \n",
    "mapa_melhores"
   ]
  },
  {
   "cell_type": "markdown",
   "metadata": {},
   "source": [
    "### Onde estão as 100 escolas menos bem avaliadas pelo ENEM 2019?"
   ]
  },
  {
   "cell_type": "code",
   "execution_count": 28,
   "metadata": {},
   "outputs": [],
   "source": [
    "coordenadas_piores=[]\n",
    "for lat,lng in zip(escola_localizacao.Latitude.values[-100:],escola_localizacao.Longitude.values[-100:]):\n",
    "  coordenadas_piores.append([lat,lng])"
   ]
  },
  {
   "cell_type": "code",
   "execution_count": 32,
   "metadata": {},
   "outputs": [
    {
     "data": {
      "text/html": [
       "<div style=\"width:100%;\"><div style=\"position:relative;width:100%;height:0;padding-bottom:60%;\"><span style=\"color:#565656\">Make this Notebook Trusted to load map: File -> Trust Notebook</span><iframe src=\"about:blank\" style=\"position:absolute;width:100%;height:100%;left:0;top:0;border:none !important;\" data-html=%3C%21DOCTYPE%20html%3E%0A%3Chead%3E%20%20%20%20%0A%20%20%20%20%3Cmeta%20http-equiv%3D%22content-type%22%20content%3D%22text/html%3B%20charset%3DUTF-8%22%20/%3E%0A%20%20%20%20%0A%20%20%20%20%20%20%20%20%3Cscript%3E%0A%20%20%20%20%20%20%20%20%20%20%20%20L_NO_TOUCH%20%3D%20false%3B%0A%20%20%20%20%20%20%20%20%20%20%20%20L_DISABLE_3D%20%3D%20false%3B%0A%20%20%20%20%20%20%20%20%3C/script%3E%0A%20%20%20%20%0A%20%20%20%20%3Cstyle%3Ehtml%2C%20body%20%7Bwidth%3A%20100%25%3Bheight%3A%20100%25%3Bmargin%3A%200%3Bpadding%3A%200%3B%7D%3C/style%3E%0A%20%20%20%20%3Cstyle%3E%23map%20%7Bposition%3Aabsolute%3Btop%3A0%3Bbottom%3A0%3Bright%3A0%3Bleft%3A0%3B%7D%3C/style%3E%0A%20%20%20%20%3Cscript%20src%3D%22https%3A//cdn.jsdelivr.net/npm/leaflet%401.6.0/dist/leaflet.js%22%3E%3C/script%3E%0A%20%20%20%20%3Cscript%20src%3D%22https%3A//code.jquery.com/jquery-1.12.4.min.js%22%3E%3C/script%3E%0A%20%20%20%20%3Cscript%20src%3D%22https%3A//maxcdn.bootstrapcdn.com/bootstrap/3.2.0/js/bootstrap.min.js%22%3E%3C/script%3E%0A%20%20%20%20%3Cscript%20src%3D%22https%3A//cdnjs.cloudflare.com/ajax/libs/Leaflet.awesome-markers/2.0.2/leaflet.awesome-markers.js%22%3E%3C/script%3E%0A%20%20%20%20%3Clink%20rel%3D%22stylesheet%22%20href%3D%22https%3A//cdn.jsdelivr.net/npm/leaflet%401.6.0/dist/leaflet.css%22/%3E%0A%20%20%20%20%3Clink%20rel%3D%22stylesheet%22%20href%3D%22https%3A//maxcdn.bootstrapcdn.com/bootstrap/3.2.0/css/bootstrap.min.css%22/%3E%0A%20%20%20%20%3Clink%20rel%3D%22stylesheet%22%20href%3D%22https%3A//maxcdn.bootstrapcdn.com/bootstrap/3.2.0/css/bootstrap-theme.min.css%22/%3E%0A%20%20%20%20%3Clink%20rel%3D%22stylesheet%22%20href%3D%22https%3A//maxcdn.bootstrapcdn.com/font-awesome/4.6.3/css/font-awesome.min.css%22/%3E%0A%20%20%20%20%3Clink%20rel%3D%22stylesheet%22%20href%3D%22https%3A//cdnjs.cloudflare.com/ajax/libs/Leaflet.awesome-markers/2.0.2/leaflet.awesome-markers.css%22/%3E%0A%20%20%20%20%3Clink%20rel%3D%22stylesheet%22%20href%3D%22https%3A//cdn.jsdelivr.net/gh/python-visualization/folium/folium/templates/leaflet.awesome.rotate.min.css%22/%3E%0A%20%20%20%20%0A%20%20%20%20%20%20%20%20%20%20%20%20%3Cmeta%20name%3D%22viewport%22%20content%3D%22width%3Ddevice-width%2C%0A%20%20%20%20%20%20%20%20%20%20%20%20%20%20%20%20initial-scale%3D1.0%2C%20maximum-scale%3D1.0%2C%20user-scalable%3Dno%22%20/%3E%0A%20%20%20%20%20%20%20%20%20%20%20%20%3Cstyle%3E%0A%20%20%20%20%20%20%20%20%20%20%20%20%20%20%20%20%23map_a692566f2196401789183c92783d77d2%20%7B%0A%20%20%20%20%20%20%20%20%20%20%20%20%20%20%20%20%20%20%20%20position%3A%20relative%3B%0A%20%20%20%20%20%20%20%20%20%20%20%20%20%20%20%20%20%20%20%20width%3A%20100.0%25%3B%0A%20%20%20%20%20%20%20%20%20%20%20%20%20%20%20%20%20%20%20%20height%3A%20100.0%25%3B%0A%20%20%20%20%20%20%20%20%20%20%20%20%20%20%20%20%20%20%20%20left%3A%200.0%25%3B%0A%20%20%20%20%20%20%20%20%20%20%20%20%20%20%20%20%20%20%20%20top%3A%200.0%25%3B%0A%20%20%20%20%20%20%20%20%20%20%20%20%20%20%20%20%7D%0A%20%20%20%20%20%20%20%20%20%20%20%20%3C/style%3E%0A%20%20%20%20%20%20%20%20%0A%20%20%20%20%3Cscript%20src%3D%22https%3A//cdn.jsdelivr.net/gh/python-visualization/folium%40master/folium/templates/leaflet_heat.min.js%22%3E%3C/script%3E%0A%3C/head%3E%0A%3Cbody%3E%20%20%20%20%0A%20%20%20%20%0A%20%20%20%20%20%20%20%20%20%20%20%20%3Cdiv%20class%3D%22folium-map%22%20id%3D%22map_a692566f2196401789183c92783d77d2%22%20%3E%3C/div%3E%0A%20%20%20%20%20%20%20%20%0A%3C/body%3E%0A%3Cscript%3E%20%20%20%20%0A%20%20%20%20%0A%20%20%20%20%20%20%20%20%20%20%20%20var%20map_a692566f2196401789183c92783d77d2%20%3D%20L.map%28%0A%20%20%20%20%20%20%20%20%20%20%20%20%20%20%20%20%22map_a692566f2196401789183c92783d77d2%22%2C%0A%20%20%20%20%20%20%20%20%20%20%20%20%20%20%20%20%7B%0A%20%20%20%20%20%20%20%20%20%20%20%20%20%20%20%20%20%20%20%20center%3A%20%5B-15.788497%2C%20-47.879873%5D%2C%0A%20%20%20%20%20%20%20%20%20%20%20%20%20%20%20%20%20%20%20%20crs%3A%20L.CRS.EPSG3857%2C%0A%20%20%20%20%20%20%20%20%20%20%20%20%20%20%20%20%20%20%20%20zoom%3A%205%2C%0A%20%20%20%20%20%20%20%20%20%20%20%20%20%20%20%20%20%20%20%20zoomControl%3A%20true%2C%0A%20%20%20%20%20%20%20%20%20%20%20%20%20%20%20%20%20%20%20%20preferCanvas%3A%20false%2C%0A%20%20%20%20%20%20%20%20%20%20%20%20%20%20%20%20%7D%0A%20%20%20%20%20%20%20%20%20%20%20%20%29%3B%0A%0A%20%20%20%20%20%20%20%20%20%20%20%20%0A%0A%20%20%20%20%20%20%20%20%0A%20%20%20%20%0A%20%20%20%20%20%20%20%20%20%20%20%20var%20tile_layer_b0cb12b4c10d4286945e4b66d532115c%20%3D%20L.tileLayer%28%0A%20%20%20%20%20%20%20%20%20%20%20%20%20%20%20%20%22https%3A//stamen-tiles-%7Bs%7D.a.ssl.fastly.net/toner/%7Bz%7D/%7Bx%7D/%7By%7D.png%22%2C%0A%20%20%20%20%20%20%20%20%20%20%20%20%20%20%20%20%7B%22attribution%22%3A%20%22Map%20tiles%20by%20%5Cu003ca%20href%3D%5C%22http%3A//stamen.com%5C%22%5Cu003eStamen%20Design%5Cu003c/a%5Cu003e%2C%20under%20%5Cu003ca%20href%3D%5C%22http%3A//creativecommons.org/licenses/by/3.0%5C%22%5Cu003eCC%20BY%203.0%5Cu003c/a%5Cu003e.%20Data%20by%20%5Cu0026copy%3B%20%5Cu003ca%20href%3D%5C%22http%3A//openstreetmap.org%5C%22%5Cu003eOpenStreetMap%5Cu003c/a%5Cu003e%2C%20under%20%5Cu003ca%20href%3D%5C%22http%3A//www.openstreetmap.org/copyright%5C%22%5Cu003eODbL%5Cu003c/a%5Cu003e.%22%2C%20%22detectRetina%22%3A%20false%2C%20%22maxNativeZoom%22%3A%2018%2C%20%22maxZoom%22%3A%2018%2C%20%22minZoom%22%3A%200%2C%20%22noWrap%22%3A%20false%2C%20%22opacity%22%3A%201%2C%20%22subdomains%22%3A%20%22abc%22%2C%20%22tms%22%3A%20false%7D%0A%20%20%20%20%20%20%20%20%20%20%20%20%29.addTo%28map_a692566f2196401789183c92783d77d2%29%3B%0A%20%20%20%20%20%20%20%20%0A%20%20%20%20%0A%20%20%20%20%20%20%20%20%20%20%20%20var%20heat_map_6abdec62849747f9bfb4253ed40735ce%20%3D%20L.heatLayer%28%0A%20%20%20%20%20%20%20%20%20%20%20%20%20%20%20%20%5B%5B-27.592149499999998%2C%20-50.365995299999994%5D%2C%20%5B-22.9658236%2C%20-47.1972441%5D%2C%20%5B-13.60212632%2C%20-39.69984945%5D%2C%20%5B-0.5067338%2C%20-61.7863404%5D%2C%20%5B-2.94009%2C%20-44.249035%5D%2C%20%5B-17.742734%2C%20-48.5959139%5D%2C%20%5B-27.0369182%2C%20-48.6468644%5D%2C%20%5B-27.10417933%2C%20-48.61807516%5D%2C%20%5B3.6322427999999998%2C%20-61.8603654%5D%2C%20%5B-13.44439102%2C%20-40.43543075%5D%2C%20%5B-3.7507764999999997%2C%20-38.7118227%5D%2C%20%5B-22.47737%2C%20-44.064625%5D%2C%20%5B-16.785699800000003%2C%20-47.6252015%5D%2C%20%5B-7.833445200000001%2C%20-45.212262200000005%5D%2C%20%5B-10.21859819%2C%20-36.83941178%5D%2C%20%5B-3.5846755%2C%20-45.061957799999995%5D%2C%20%5B-7.24106002%2C%20-35.87062147%5D%2C%20%5B-23.557339408434895%2C%20-49.6810054220259%5D%2C%20%5B-1.1273986675909%2C%20-47.6265173236057%5D%2C%20%5B-12.81509%2C%20-41.07201%5D%2C%20%5B-1.7386229%2C%20-48.977276399999994%5D%2C%20%5B-2.5651627%2C%20-44.201816%5D%2C%20%5B-5.0162443%2C%20-42.993821399999995%5D%2C%20%5B-3.1312264%2C%20-59.9946725%5D%2C%20%5B-22.872718600000002%2C%20-43.263070500000005%5D%2C%20%5B-3.99721166666667%2C%20-49.5096933333333%5D%2C%20%5B-2.9790201%2C%20-39.804757200000005%5D%2C%20%5B-15.8344796%2C%20-48.054799200000005%5D%2C%20%5B-18.4319842%2C%20-39.9304766%5D%2C%20%5B-30.04733%2C%20-51.1886%5D%2C%20%5B-3.09567828197032%2C%20-45.44976906850929%5D%2C%20%5B-3.83866467978805%2C%20-44.895596941933%5D%2C%20%5B-6.487446%2C%20-37.44723%5D%2C%20%5B-24.19001099%2C%20-53.02836572%5D%2C%20%5B-20.490053%2C%20-55.7981123%5D%2C%20%5B-3.045476%2C%20-59.9509993%5D%2C%20%5B-25.45315704%2C%20-52.91194785%5D%2C%20%5B-26.927068333333303%2C%20-49.0616033333333%5D%2C%20%5B-22.2279342%2C%20-50.891636600000005%5D%2C%20%5B-7.6137099%2C%20-72.90210859999999%5D%2C%20%5B-1.75937937%2C%20-55.87001423%5D%2C%20%5B-16.1608104%2C%20-47.961707200000006%5D%2C%20%5B-6.93411803%2C%20-36.40225086%5D%2C%20%5B-9.570958000000001%2C%20-35.75074%5D%2C%20%5B-23.4439734%2C%20-46.926778399999996%5D%2C%20%5B-16.3762398%2C%20-47.138915600000004%5D%2C%20%5B-1.7519732552039%2C%20-48.9502543933614%5D%2C%20%5B-8.8160597%2C%20-49.5644137%5D%2C%20%5B-19.5447%2C%20-44.025420000000004%5D%2C%20%5B-4.085179%2C%20-63.141127399999995%5D%2C%20%5B-6.7817516718059805%2C%20-43.0025203898549%5D%2C%20%5B-11.045277%2C%20-65.17528%5D%2C%20%5B-5.14389066%2C%20-45.78529798%5D%2C%20%5B-29.169790000000003%2C%20-51.15551%5D%2C%20%5B-6.3544955000000005%2C%20-39.2921713%5D%2C%20%5B-11.4326545%2C%20-61.474647999999995%5D%2C%20%5B-24.67355104%2C%20-48.90493044%5D%2C%20%5B-9.048123%2C%20-35.710334%5D%2C%20%5B-11.180815800000001%2C%20-37.9959193%5D%2C%20%5B-1.76286893368479%2C%20-55.86176523685571%5D%2C%20%5B-21.8405416%2C%20-43.791487700000005%5D%2C%20%5B-16.608725500000002%2C%20-40.574282000000004%5D%2C%20%5B-4.4059218%2C%20-69.9087681%5D%2C%20%5B-17.7978164%2C%20-50.9331409%5D%2C%20%5B-8.760638900000002%2C%20-63.9026389%5D%2C%20%5B-22.2111%2C%20-49.9538566%5D%2C%20%5B-4.3182191%2C%20-46.4562343%5D%2C%20%5B-7.236772800000001%2C%20-44.5523432%5D%2C%20%5B-6.97997724%2C%20-41.23063894%5D%2C%20%5B-6.7661879%2C%20-43.0074574%5D%2C%20%5B-3.2137366000000003%2C%20-64.8090167%5D%2C%20%5B-2.3738909%2C%20-57.5699704%5D%2C%20%5B-20.157785600000004%2C%20-40.2465455%5D%2C%20%5B-7.0868704%2C%20-45.137848999999996%5D%2C%20%5B-2.4155634921044102%2C%20-48.1529313325882%5D%2C%20%5B-23.6900925%2C%20-46.630688799999994%5D%2C%20%5B-20.9442063%2C%20-48.506681799999996%5D%2C%20%5B-8.389138%2C%20-70.1963023%5D%2C%20%5B-1.65416778585077%2C%20-48.914720862863206%5D%2C%20%5B-25.97511721%2C%20-52.55949023%5D%2C%20%5B-2.0612288%2C%20-46.677031799999995%5D%2C%20%5B-9.16433153503691%2C%20-42.872811929045206%5D%2C%20%5B-3.70169333333333%2C%20-45.961523333333304%5D%2C%20%5B-23.44323%2C%20-46.46229%5D%2C%20%5B-5.78823%2C%20-35.336690000000004%5D%2C%20%5B-22.5161168%2C%20-52.0365061%5D%2C%20%5B-6.45024808%2C%20-41.92644605%5D%2C%20%5B-25.852752132341298%2C%20-52.5260943453759%5D%2C%20%5B-22.870286%2C%20-43.439044700000004%5D%2C%20%5B-6.958369917579289%2C%20-43.0777221528366%5D%2C%20%5B-20.8745682%2C%20-55.2083956%5D%2C%20%5B-5.04337332082855%2C%20-42.447570005063%5D%2C%20%5B-10.9629204780571%2C%20-37.080413055717294%5D%2C%20%5B-24.0143758%2C%20-46.4685243%5D%2C%20%5B-21.755489025144502%2C%20-43.356050191752004%5D%2C%20%5B-19.981571600000002%2C%20-44.8502644%5D%2C%20%5B-4.42109398%2C%20-41.45104127%5D%2C%20%5B-29.806259999999998%2C%20-55.75018000000001%5D%2C%20%5B-14.0203296%2C%20-49.1713842%5D%2C%20%5B-23.0610063%2C%20-43.5683164%5D%5D%2C%0A%20%20%20%20%20%20%20%20%20%20%20%20%20%20%20%20%7B%22blur%22%3A%2015%2C%20%22maxZoom%22%3A%2018%2C%20%22minOpacity%22%3A%200.5%2C%20%22radius%22%3A%2025%7D%0A%20%20%20%20%20%20%20%20%20%20%20%20%29.addTo%28map_a692566f2196401789183c92783d77d2%29%3B%0A%20%20%20%20%20%20%20%20%0A%3C/script%3E onload=\"this.contentDocument.open();this.contentDocument.write(    decodeURIComponent(this.getAttribute('data-html')));this.contentDocument.close();\" allowfullscreen webkitallowfullscreen mozallowfullscreen></iframe></div></div>"
      ],
      "text/plain": [
       "<folium.folium.Map at 0x15c82d292e0>"
      ]
     },
     "execution_count": 32,
     "metadata": {},
     "output_type": "execute_result"
    }
   ],
   "source": [
    "# Renderizando o mapa com algumas personalizações:\n",
    "mapa_piores = folium.Map(location=[-15.788497,-47.879873],zoom_start=5,tiles='Stamen Toner')\n",
    "# Adicionando os registros no mapa de calor:\n",
    "mapa_piores.add_child(plugins.HeatMap(coordenadas_piores))        \n",
    "mapa_piores"
   ]
  },
  {
   "cell_type": "markdown",
   "metadata": {},
   "source": [
    "## **Será que o nível de aprendizado em escolas públicas se difere quanto as zonas de Manaus(Norte, Sul, Leste, Oeste, Centro)?**"
   ]
  },
  {
   "cell_type": "code",
   "execution_count": null,
   "metadata": {},
   "outputs": [],
   "source": []
  },
  {
   "cell_type": "code",
   "execution_count": null,
   "metadata": {},
   "outputs": [],
   "source": []
  },
  {
   "cell_type": "code",
   "execution_count": null,
   "metadata": {},
   "outputs": [],
   "source": []
  },
  {
   "cell_type": "code",
   "execution_count": null,
   "metadata": {},
   "outputs": [],
   "source": []
  },
  {
   "cell_type": "code",
   "execution_count": null,
   "metadata": {},
   "outputs": [],
   "source": []
  },
  {
   "cell_type": "code",
   "execution_count": null,
   "metadata": {},
   "outputs": [],
   "source": []
  },
  {
   "cell_type": "code",
   "execution_count": null,
   "metadata": {},
   "outputs": [],
   "source": []
  },
  {
   "cell_type": "code",
   "execution_count": null,
   "metadata": {},
   "outputs": [],
   "source": []
  },
  {
   "cell_type": "code",
   "execution_count": null,
   "metadata": {},
   "outputs": [],
   "source": []
  },
  {
   "cell_type": "code",
   "execution_count": null,
   "metadata": {},
   "outputs": [],
   "source": []
  },
  {
   "cell_type": "code",
   "execution_count": null,
   "metadata": {},
   "outputs": [],
   "source": []
  },
  {
   "cell_type": "code",
   "execution_count": null,
   "metadata": {},
   "outputs": [],
   "source": []
  },
  {
   "cell_type": "code",
   "execution_count": null,
   "metadata": {},
   "outputs": [],
   "source": []
  },
  {
   "cell_type": "code",
   "execution_count": null,
   "metadata": {},
   "outputs": [],
   "source": []
  },
  {
   "cell_type": "code",
   "execution_count": null,
   "metadata": {},
   "outputs": [],
   "source": []
  },
  {
   "cell_type": "code",
   "execution_count": null,
   "metadata": {},
   "outputs": [],
   "source": []
  },
  {
   "cell_type": "code",
   "execution_count": null,
   "metadata": {},
   "outputs": [],
   "source": []
  },
  {
   "cell_type": "code",
   "execution_count": null,
   "metadata": {},
   "outputs": [],
   "source": []
  },
  {
   "cell_type": "code",
   "execution_count": null,
   "metadata": {},
   "outputs": [],
   "source": []
  },
  {
   "cell_type": "code",
   "execution_count": null,
   "metadata": {},
   "outputs": [],
   "source": []
  },
  {
   "cell_type": "code",
   "execution_count": null,
   "metadata": {},
   "outputs": [],
   "source": []
  },
  {
   "cell_type": "code",
   "execution_count": null,
   "metadata": {},
   "outputs": [],
   "source": []
  },
  {
   "cell_type": "code",
   "execution_count": null,
   "metadata": {},
   "outputs": [],
   "source": []
  },
  {
   "cell_type": "code",
   "execution_count": null,
   "metadata": {},
   "outputs": [],
   "source": []
  },
  {
   "cell_type": "code",
   "execution_count": null,
   "metadata": {},
   "outputs": [],
   "source": []
  },
  {
   "cell_type": "code",
   "execution_count": null,
   "metadata": {},
   "outputs": [],
   "source": []
  },
  {
   "cell_type": "markdown",
   "metadata": {},
   "source": [
    "## **A renda familiar influencia nas notas dos alunos de Manaus?**"
   ]
  },
  {
   "cell_type": "code",
   "execution_count": 14,
   "metadata": {},
   "outputs": [],
   "source": [
    "def media_manaus(row):\n",
    "    return (row['NU_NOTA_CN'] + row['NU_NOTA_CH'] + row['NU_NOTA_LC'] + row['NU_NOTA_MT'])/4\n",
    "\n",
    "def renda_familiar(row):\n",
    "    if row['Q006'][0] == 'A':\n",
    "        return 'RENDA_INFERIOR'\n",
    "    elif row['Q006'][0] == 'B':\n",
    "        return 'RENDA_INFERIOR'\n",
    "    elif row['Q006'][0] == 'C':\n",
    "        return 'RENDA_INFERIOR'\n",
    "    else:\n",
    "        return 'RENDA_SUPERIOR'"
   ]
  },
  {
   "cell_type": "code",
   "execution_count": 15,
   "metadata": {},
   "outputs": [
    {
     "name": "stderr",
     "output_type": "stream",
     "text": [
      "/home/pcorrea/anaconda3/lib/python3.7/site-packages/ipykernel_launcher.py:1: SettingWithCopyWarning: \n",
      "A value is trying to be set on a copy of a slice from a DataFrame.\n",
      "Try using .loc[row_indexer,col_indexer] = value instead\n",
      "\n",
      "See the caveats in the documentation: https://pandas.pydata.org/pandas-docs/stable/user_guide/indexing.html#returning-a-view-versus-a-copy\n",
      "  \"\"\"Entry point for launching an IPython kernel.\n",
      "/home/pcorrea/anaconda3/lib/python3.7/site-packages/ipykernel_launcher.py:2: SettingWithCopyWarning: \n",
      "A value is trying to be set on a copy of a slice from a DataFrame.\n",
      "Try using .loc[row_indexer,col_indexer] = value instead\n",
      "\n",
      "See the caveats in the documentation: https://pandas.pydata.org/pandas-docs/stable/user_guide/indexing.html#returning-a-view-versus-a-copy\n",
      "  \n"
     ]
    }
   ],
   "source": [
    "df_manaus['MEDIA_OBJETIVAS_MANAUS'] = df_manaus.apply(media_manaus, axis=1)\n",
    "df_manaus['RENDA_FAMILIAR'] = df_manaus.apply(renda_familiar, axis=1)"
   ]
  },
  {
   "cell_type": "code",
   "execution_count": 48,
   "metadata": {},
   "outputs": [
    {
     "data": {
      "text/html": [
       "<div>\n",
       "<style scoped>\n",
       "    .dataframe tbody tr th:only-of-type {\n",
       "        vertical-align: middle;\n",
       "    }\n",
       "\n",
       "    .dataframe tbody tr th {\n",
       "        vertical-align: top;\n",
       "    }\n",
       "\n",
       "    .dataframe thead th {\n",
       "        text-align: right;\n",
       "    }\n",
       "</style>\n",
       "<table border=\"1\" class=\"dataframe\">\n",
       "  <thead>\n",
       "    <tr style=\"text-align: right;\">\n",
       "      <th></th>\n",
       "      <th>NU_INSCRICAO</th>\n",
       "      <th>NO_MUNICIPIO_ESC</th>\n",
       "      <th>NU_NOTA_CN</th>\n",
       "      <th>NU_NOTA_CH</th>\n",
       "      <th>NU_NOTA_LC</th>\n",
       "      <th>NU_NOTA_MT</th>\n",
       "      <th>NU_NOTA_REDACAO</th>\n",
       "      <th>Q006</th>\n",
       "      <th>MEDIA_OBJETIVAS_MANAUS</th>\n",
       "      <th>RENDA_FAMILIAR</th>\n",
       "    </tr>\n",
       "  </thead>\n",
       "  <tbody>\n",
       "    <tr>\n",
       "      <th>61</th>\n",
       "      <td>190001005023</td>\n",
       "      <td>Manaus</td>\n",
       "      <td>400.7</td>\n",
       "      <td>350.9</td>\n",
       "      <td>440.7</td>\n",
       "      <td>444.1</td>\n",
       "      <td>420.0</td>\n",
       "      <td>A</td>\n",
       "      <td>409.100</td>\n",
       "      <td>RENDA_INFERIOR</td>\n",
       "    </tr>\n",
       "    <tr>\n",
       "      <th>1508</th>\n",
       "      <td>190001013052</td>\n",
       "      <td>Manaus</td>\n",
       "      <td>343.7</td>\n",
       "      <td>456.0</td>\n",
       "      <td>530.1</td>\n",
       "      <td>445.9</td>\n",
       "      <td>400.0</td>\n",
       "      <td>B</td>\n",
       "      <td>443.925</td>\n",
       "      <td>RENDA_INFERIOR</td>\n",
       "    </tr>\n",
       "    <tr>\n",
       "      <th>4472</th>\n",
       "      <td>190001027976</td>\n",
       "      <td>Manaus</td>\n",
       "      <td>376.6</td>\n",
       "      <td>457.3</td>\n",
       "      <td>414.8</td>\n",
       "      <td>397.5</td>\n",
       "      <td>400.0</td>\n",
       "      <td>B</td>\n",
       "      <td>411.550</td>\n",
       "      <td>RENDA_INFERIOR</td>\n",
       "    </tr>\n",
       "    <tr>\n",
       "      <th>4473</th>\n",
       "      <td>190001027979</td>\n",
       "      <td>Manaus</td>\n",
       "      <td>436.3</td>\n",
       "      <td>495.3</td>\n",
       "      <td>511.4</td>\n",
       "      <td>414.5</td>\n",
       "      <td>560.0</td>\n",
       "      <td>B</td>\n",
       "      <td>464.375</td>\n",
       "      <td>RENDA_INFERIOR</td>\n",
       "    </tr>\n",
       "    <tr>\n",
       "      <th>4474</th>\n",
       "      <td>190001027985</td>\n",
       "      <td>Manaus</td>\n",
       "      <td>454.8</td>\n",
       "      <td>371.7</td>\n",
       "      <td>560.2</td>\n",
       "      <td>419.2</td>\n",
       "      <td>340.0</td>\n",
       "      <td>B</td>\n",
       "      <td>451.475</td>\n",
       "      <td>RENDA_INFERIOR</td>\n",
       "    </tr>\n",
       "    <tr>\n",
       "      <th>...</th>\n",
       "      <td>...</td>\n",
       "      <td>...</td>\n",
       "      <td>...</td>\n",
       "      <td>...</td>\n",
       "      <td>...</td>\n",
       "      <td>...</td>\n",
       "      <td>...</td>\n",
       "      <td>...</td>\n",
       "      <td>...</td>\n",
       "      <td>...</td>\n",
       "    </tr>\n",
       "    <tr>\n",
       "      <th>953789</th>\n",
       "      <td>190006119530</td>\n",
       "      <td>Manaus</td>\n",
       "      <td>550.4</td>\n",
       "      <td>614.1</td>\n",
       "      <td>571.0</td>\n",
       "      <td>808.9</td>\n",
       "      <td>480.0</td>\n",
       "      <td>C</td>\n",
       "      <td>636.100</td>\n",
       "      <td>RENDA_INFERIOR</td>\n",
       "    </tr>\n",
       "    <tr>\n",
       "      <th>953790</th>\n",
       "      <td>190006119541</td>\n",
       "      <td>Manaus</td>\n",
       "      <td>480.9</td>\n",
       "      <td>447.2</td>\n",
       "      <td>507.4</td>\n",
       "      <td>397.2</td>\n",
       "      <td>480.0</td>\n",
       "      <td>B</td>\n",
       "      <td>458.175</td>\n",
       "      <td>RENDA_INFERIOR</td>\n",
       "    </tr>\n",
       "    <tr>\n",
       "      <th>953792</th>\n",
       "      <td>190006119563</td>\n",
       "      <td>Manaus</td>\n",
       "      <td>576.9</td>\n",
       "      <td>588.9</td>\n",
       "      <td>594.4</td>\n",
       "      <td>671.6</td>\n",
       "      <td>880.0</td>\n",
       "      <td>C</td>\n",
       "      <td>607.950</td>\n",
       "      <td>RENDA_INFERIOR</td>\n",
       "    </tr>\n",
       "    <tr>\n",
       "      <th>953793</th>\n",
       "      <td>190006119564</td>\n",
       "      <td>Manaus</td>\n",
       "      <td>593.7</td>\n",
       "      <td>592.4</td>\n",
       "      <td>614.0</td>\n",
       "      <td>642.0</td>\n",
       "      <td>760.0</td>\n",
       "      <td>D</td>\n",
       "      <td>610.525</td>\n",
       "      <td>RENDA_SUPERIOR</td>\n",
       "    </tr>\n",
       "    <tr>\n",
       "      <th>953794</th>\n",
       "      <td>190006119566</td>\n",
       "      <td>Manaus</td>\n",
       "      <td>367.1</td>\n",
       "      <td>378.5</td>\n",
       "      <td>432.7</td>\n",
       "      <td>376.6</td>\n",
       "      <td>200.0</td>\n",
       "      <td>C</td>\n",
       "      <td>388.725</td>\n",
       "      <td>RENDA_INFERIOR</td>\n",
       "    </tr>\n",
       "  </tbody>\n",
       "</table>\n",
       "<p>13139 rows × 10 columns</p>\n",
       "</div>"
      ],
      "text/plain": [
       "        NU_INSCRICAO NO_MUNICIPIO_ESC  NU_NOTA_CN  NU_NOTA_CH  NU_NOTA_LC  \\\n",
       "61      190001005023           Manaus       400.7       350.9       440.7   \n",
       "1508    190001013052           Manaus       343.7       456.0       530.1   \n",
       "4472    190001027976           Manaus       376.6       457.3       414.8   \n",
       "4473    190001027979           Manaus       436.3       495.3       511.4   \n",
       "4474    190001027985           Manaus       454.8       371.7       560.2   \n",
       "...              ...              ...         ...         ...         ...   \n",
       "953789  190006119530           Manaus       550.4       614.1       571.0   \n",
       "953790  190006119541           Manaus       480.9       447.2       507.4   \n",
       "953792  190006119563           Manaus       576.9       588.9       594.4   \n",
       "953793  190006119564           Manaus       593.7       592.4       614.0   \n",
       "953794  190006119566           Manaus       367.1       378.5       432.7   \n",
       "\n",
       "        NU_NOTA_MT  NU_NOTA_REDACAO Q006  MEDIA_OBJETIVAS_MANAUS  \\\n",
       "61           444.1            420.0    A                 409.100   \n",
       "1508         445.9            400.0    B                 443.925   \n",
       "4472         397.5            400.0    B                 411.550   \n",
       "4473         414.5            560.0    B                 464.375   \n",
       "4474         419.2            340.0    B                 451.475   \n",
       "...            ...              ...  ...                     ...   \n",
       "953789       808.9            480.0    C                 636.100   \n",
       "953790       397.2            480.0    B                 458.175   \n",
       "953792       671.6            880.0    C                 607.950   \n",
       "953793       642.0            760.0    D                 610.525   \n",
       "953794       376.6            200.0    C                 388.725   \n",
       "\n",
       "        RENDA_FAMILIAR  \n",
       "61      RENDA_INFERIOR  \n",
       "1508    RENDA_INFERIOR  \n",
       "4472    RENDA_INFERIOR  \n",
       "4473    RENDA_INFERIOR  \n",
       "4474    RENDA_INFERIOR  \n",
       "...                ...  \n",
       "953789  RENDA_INFERIOR  \n",
       "953790  RENDA_INFERIOR  \n",
       "953792  RENDA_INFERIOR  \n",
       "953793  RENDA_SUPERIOR  \n",
       "953794  RENDA_INFERIOR  \n",
       "\n",
       "[13139 rows x 10 columns]"
      ]
     },
     "execution_count": 48,
     "metadata": {},
     "output_type": "execute_result"
    }
   ],
   "source": [
    "df_manaus"
   ]
  },
  {
   "cell_type": "code",
   "execution_count": 19,
   "metadata": {},
   "outputs": [],
   "source": [
    "lm = ols('MEDIA_OBJETIVAS_MANAUS ~ (RENDA_FAMILIAR)', df_manaus).fit()"
   ]
  },
  {
   "cell_type": "code",
   "execution_count": 20,
   "metadata": {},
   "outputs": [
    {
     "data": {
      "text/html": [
       "<div>\n",
       "<style scoped>\n",
       "    .dataframe tbody tr th:only-of-type {\n",
       "        vertical-align: middle;\n",
       "    }\n",
       "\n",
       "    .dataframe tbody tr th {\n",
       "        vertical-align: top;\n",
       "    }\n",
       "\n",
       "    .dataframe thead th {\n",
       "        text-align: right;\n",
       "    }\n",
       "</style>\n",
       "<table border=\"1\" class=\"dataframe\">\n",
       "  <thead>\n",
       "    <tr style=\"text-align: right;\">\n",
       "      <th></th>\n",
       "      <th>sum_sq</th>\n",
       "      <th>df</th>\n",
       "      <th>F</th>\n",
       "      <th>PR(&gt;F)</th>\n",
       "    </tr>\n",
       "  </thead>\n",
       "  <tbody>\n",
       "    <tr>\n",
       "      <th>RENDA_FAMILIAR</th>\n",
       "      <td>7.650906e+06</td>\n",
       "      <td>1.0</td>\n",
       "      <td>2224.538691</td>\n",
       "      <td>0.0</td>\n",
       "    </tr>\n",
       "    <tr>\n",
       "      <th>Residual</th>\n",
       "      <td>4.518238e+07</td>\n",
       "      <td>13137.0</td>\n",
       "      <td>NaN</td>\n",
       "      <td>NaN</td>\n",
       "    </tr>\n",
       "  </tbody>\n",
       "</table>\n",
       "</div>"
      ],
      "text/plain": [
       "                      sum_sq       df            F  PR(>F)\n",
       "RENDA_FAMILIAR  7.650906e+06      1.0  2224.538691     0.0\n",
       "Residual        4.518238e+07  13137.0          NaN     NaN"
      ]
     },
     "execution_count": 20,
     "metadata": {},
     "output_type": "execute_result"
    }
   ],
   "source": [
    "sm.stats.anova_lm(lm,typ=2)"
   ]
  },
  {
   "cell_type": "code",
   "execution_count": 24,
   "metadata": {},
   "outputs": [],
   "source": [
    "def grafNormalized(df,txt):\n",
    "    sns.distplot(df).set_title(txt)"
   ]
  },
  {
   "cell_type": "code",
   "execution_count": 25,
   "metadata": {},
   "outputs": [],
   "source": [
    "def checkNormalDistribution(var):\n",
    "    fig, ax = plt.subplots()\n",
    "    stats.probplot(var, fit=True,   plot=ax)\n",
    "    plt.show()"
   ]
  },
  {
   "cell_type": "code",
   "execution_count": 29,
   "metadata": {},
   "outputs": [],
   "source": [
    "def intervConfianca(x):\n",
    "    print(\"Intervalo de Confiança ao nível de 95% para média quando a variância é desconhecida\")\n",
    "    inf,sup = norm.interval(0.95, st.mean(x), st.stdev(x)/np.sqrt(len(x)))\n",
    "    print ('Limite inferior 95%:', round(inf,3))\n",
    "    print ('Limite superior 95%:', round(sup,3))\n"
   ]
  },
  {
   "cell_type": "code",
   "execution_count": 30,
   "metadata": {},
   "outputs": [
    {
     "data": {
      "image/png": "[encoded data removed]",
      "text/plain": [
       "<Figure size 432x288 with 1 Axes>"
      ]
     },
     "metadata": {
      "needs_background": "light"
     },
     "output_type": "display_data"
    }
   ],
   "source": [
    "grafNormalized(df_manaus_A_B_C[\"NOTA TOTAL\"],\"nota final classe A, B e C\")\n"
   ]
  },
  {
   "cell_type": "code",
   "execution_count": 31,
   "metadata": {},
   "outputs": [
    {
     "data": {
      "image/png": "[encoded data removed]",
      "text/plain": [
       "<Figure size 432x288 with 1 Axes>"
      ]
     },
     "metadata": {
      "needs_background": "light"
     },
     "output_type": "display_data"
    }
   ],
   "source": [
    "checkNormalDistribution(df_manaus_A_B_C[\"NOTA TOTAL\"])"
   ]
  },
  {
   "cell_type": "code",
   "execution_count": 32,
   "metadata": {},
   "outputs": [
    {
     "name": "stdout",
     "output_type": "stream",
     "text": [
      "Intervalo de Confiança ao nível de 95% para média quando a variância é desconhecida\n",
      "Limite inferior 95%: 1461.951\n",
      "Limite superior 95%: 1472.703\n"
     ]
    }
   ],
   "source": [
    "intervConfianca(df_manaus_A_B_C[\"NOTA TOTAL\"])"
   ]
  },
  {
   "cell_type": "code",
   "execution_count": 33,
   "metadata": {},
   "outputs": [
    {
     "data": {
      "image/png": "[encoded data removed]",
      "text/plain": [
       "<Figure size 432x288 with 1 Axes>"
      ]
     },
     "metadata": {
      "needs_background": "light"
     },
     "output_type": "display_data"
    }
   ],
   "source": [
    "grafNormalized(df_manaus_acima[\"SOMA TOTAL\"], \"com renda acima\")"
   ]
  },
  {
   "cell_type": "code",
   "execution_count": 34,
   "metadata": {},
   "outputs": [
    {
     "data": {
      "image/png": "[encoded data removed]",
      "text/plain": [
       "<Figure size 432x288 with 1 Axes>"
      ]
     },
     "metadata": {
      "needs_background": "light"
     },
     "output_type": "display_data"
    }
   ],
   "source": [
    "checkNormalDistribution(df_manaus_acima[\"SOMA TOTAL\"])"
   ]
  },
  {
   "cell_type": "code",
   "execution_count": 35,
   "metadata": {},
   "outputs": [
    {
     "name": "stdout",
     "output_type": "stream",
     "text": [
      "Intervalo de Confiança ao nível de 95% para média quando a variância é desconhecida\n",
      "Limite inferior 95%: 1672.045\n",
      "Limite superior 95%: 1689.269\n"
     ]
    }
   ],
   "source": [
    "intervConfianca(arr_acima)"
   ]
  },
  {
   "cell_type": "code",
   "execution_count": 36,
   "metadata": {},
   "outputs": [],
   "source": [
    "from scipy.stats import f_oneway"
   ]
  },
  {
   "cell_type": "code",
   "execution_count": 37,
   "metadata": {},
   "outputs": [
    {
     "data": {
      "text/plain": [
       "0.0"
      ]
     },
     "execution_count": 37,
     "metadata": {},
     "output_type": "execute_result"
    }
   ],
   "source": [
    "_, p = f_oneway(arr_A_B_C, arr_acima)\n",
    "p"
   ]
  },
  {
   "cell_type": "code",
   "execution_count": 39,
   "metadata": {},
   "outputs": [
    {
     "name": "stdout",
     "output_type": "stream",
     "text": [
      "Hipótese nula rejeitada\n"
     ]
    }
   ],
   "source": [
    "alpha = 0.05\n",
    "if p <= alpha:\n",
    "    print('Hipótese nula rejeitada')\n",
    "else:\n",
    "    print('Hipótese alternativa rejeitada')"
   ]
  },
  {
   "cell_type": "code",
   "execution_count": 50,
   "metadata": {},
   "outputs": [
    {
     "name": "stdout",
     "output_type": "stream",
     "text": [
      "<class 'numpy.ndarray'>\n",
      "<class 'numpy.ndarray'>\n"
     ]
    },
    {
     "name": "stderr",
     "output_type": "stream",
     "text": [
      "/home/pcorrea/anaconda3/lib/python3.7/site-packages/ipykernel_launcher.py:2: SettingWithCopyWarning: \n",
      "A value is trying to be set on a copy of a slice from a DataFrame.\n",
      "Try using .loc[row_indexer,col_indexer] = value instead\n",
      "\n",
      "See the caveats in the documentation: https://pandas.pydata.org/pandas-docs/stable/user_guide/indexing.html#returning-a-view-versus-a-copy\n",
      "  \n",
      "/home/pcorrea/anaconda3/lib/python3.7/site-packages/ipykernel_launcher.py:10: SettingWithCopyWarning: \n",
      "A value is trying to be set on a copy of a slice from a DataFrame.\n",
      "Try using .loc[row_indexer,col_indexer] = value instead\n",
      "\n",
      "See the caveats in the documentation: https://pandas.pydata.org/pandas-docs/stable/user_guide/indexing.html#returning-a-view-versus-a-copy\n",
      "  # Remove the CWD from sys.path while we load stuff.\n"
     ]
    }
   ],
   "source": [
    "df_manaus_A = df_manaus.loc[(df_manaus[\"Q006\"]==\"A\")]\n",
    "df_manaus_A[\"NOTA TOTAL A\"] = df_manaus_A.iloc[:,4:10].sum(axis=1)\n",
    "save_A = []\n",
    "for x in df_manaus_A[\"NOTA TOTAL A\"]:\n",
    "    save_A.append(x)\n",
    "arr_A = np.array(save_A)\n",
    "print(type(arr_A))\n",
    "\n",
    "df_manaus_Q = df_manaus.loc[(df_manaus[\"Q006\"]==\"Q\")]\n",
    "df_manaus_Q[\"SOMA TOTAL Q\"] = df_manaus_Q.iloc[:,4:10].sum(axis=1)\n",
    "\n",
    "save_Q = []\n",
    "for x in df_manaus_Q[\"SOMA TOTAL Q\"]:\n",
    "    save_Q.append(x)\n",
    "arr_Q = np.array(save_Q)\n",
    "print(type(arr_Q))"
   ]
  },
  {
   "cell_type": "code",
   "execution_count": 51,
   "metadata": {},
   "outputs": [
    {
     "data": {
      "text/plain": [
       "5.318358222215116e-125"
      ]
     },
     "execution_count": 51,
     "metadata": {},
     "output_type": "execute_result"
    }
   ],
   "source": [
    "_, p_value = f_oneway(arr_A, arr_Q)\n",
    "p_value"
   ]
  },
  {
   "cell_type": "code",
   "execution_count": 53,
   "metadata": {},
   "outputs": [
    {
     "name": "stdout",
     "output_type": "stream",
     "text": [
      "Hipótese nula rejeitada\n"
     ]
    }
   ],
   "source": [
    "alpha = 0.05\n",
    "if p_value <= alpha:\n",
    "    print('Hipótese nula rejeitada')\n",
    "else:\n",
    "    print('Hipótese alternativa rejeitada')"
   ]
  },
  {
   "cell_type": "code",
   "execution_count": null,
   "metadata": {},
   "outputs": [],
   "source": []
  },
  {
   "cell_type": "markdown",
   "metadata": {},
   "source": [
    "## **O nível de escolaridade da mãe influencia nas notas da Redação dos alunos de Manaus?**"
   ]
  },
  {
   "cell_type": "markdown",
   "metadata": {},
   "source": [
    "# Criando um Dataset novo"
   ]
  },
  {
   "cell_type": "markdown",
   "metadata": {},
   "source": [
    "## Adicionando os campos "
   ]
  },
  {
   "cell_type": "code",
   "execution_count": null,
   "metadata": {
    "scrolled": true
   },
   "outputs": [],
   "source": [
    "enem_manaus = microdados_enem2019 [['NU_IDADE', 'TP_SEXO', 'TP_COR_RACA', 'SG_UF_RESIDENCIA','TP_ESCOLA','NU_NOTA_CN','NU_NOTA_CH','NU_NOTA_LC','NU_NOTA_MT','NU_NOTA_REDACAO','Q002']]"
   ]
  },
  {
   "cell_type": "code",
   "execution_count": null,
   "metadata": {
    "scrolled": true
   },
   "outputs": [],
   "source": [
    "enem_manaus.head()"
   ]
  },
  {
   "cell_type": "markdown",
   "metadata": {},
   "source": [
    "## Quem mora em outros Estados do brasil"
   ]
  },
  {
   "cell_type": "code",
   "execution_count": null,
   "metadata": {
    "scrolled": true
   },
   "outputs": [],
   "source": [
    "enem_brasil = enem_manaus.loc[lambda enem_manaus: enem_manaus['SG_UF_RESIDENCIA'] != 'AM']"
   ]
  },
  {
   "cell_type": "code",
   "execution_count": null,
   "metadata": {
    "scrolled": true
   },
   "outputs": [],
   "source": [
    "enem_brasil.info()"
   ]
  },
  {
   "cell_type": "markdown",
   "metadata": {},
   "source": [
    "## Apenas quem mora em Manaus"
   ]
  },
  {
   "cell_type": "code",
   "execution_count": null,
   "metadata": {
    "scrolled": false
   },
   "outputs": [],
   "source": [
    "#enem.loc[enem['TP_DEPENDENCIA_ADM_ESC'] == 'AM']\n",
    "enem_manaus = enem_manaus.loc[lambda enem_manaus: enem_manaus['SG_UF_RESIDENCIA'] == 'AM']"
   ]
  },
  {
   "cell_type": "code",
   "execution_count": null,
   "metadata": {
    "scrolled": true
   },
   "outputs": [],
   "source": [
    "enem_manaus.head()"
   ]
  },
  {
   "cell_type": "markdown",
   "metadata": {},
   "source": [
    "## Verificando a quantidade de campos NaN"
   ]
  },
  {
   "cell_type": "code",
   "execution_count": null,
   "metadata": {
    "scrolled": true
   },
   "outputs": [],
   "source": [
    "# Para Manaus\n",
    "NaN_manaus = pd.DataFrame({'tipos':enem_manaus.dtypes, 'missing':enem_manaus.isna().sum()})"
   ]
  },
  {
   "cell_type": "code",
   "execution_count": null,
   "metadata": {
    "scrolled": true
   },
   "outputs": [],
   "source": [
    "NaN_manaus"
   ]
  },
  {
   "cell_type": "code",
   "execution_count": null,
   "metadata": {
    "scrolled": true
   },
   "outputs": [],
   "source": [
    "# Para outros Estados\n",
    "NaN_brasil = pd.DataFrame({'tipos':enem_brasil.dtypes, 'missing':enem_brasil.isna().sum()})"
   ]
  },
  {
   "cell_type": "code",
   "execution_count": null,
   "metadata": {
    "scrolled": true
   },
   "outputs": [],
   "source": [
    "NaN_brasil"
   ]
  },
  {
   "cell_type": "code",
   "execution_count": null,
   "metadata": {
    "scrolled": true
   },
   "outputs": [],
   "source": [
    "enem_manaus.head()"
   ]
  },
  {
   "cell_type": "markdown",
   "metadata": {},
   "source": [
    "## Removendo valores vazios"
   ]
  },
  {
   "cell_type": "code",
   "execution_count": null,
   "metadata": {
    "scrolled": true
   },
   "outputs": [],
   "source": [
    "enem_manaus = enem_manaus.dropna()\n",
    "enem_brasil = enem_brasil.dropna()"
   ]
  },
  {
   "cell_type": "code",
   "execution_count": null,
   "metadata": {
    "scrolled": true
   },
   "outputs": [],
   "source": [
    "#enem_manaus.head()\n",
    "enem_brasil.head()"
   ]
  },
  {
   "cell_type": "code",
   "execution_count": null,
   "metadata": {
    "scrolled": true
   },
   "outputs": [],
   "source": [
    "enem_brasil.info()"
   ]
  },
  {
   "cell_type": "code",
   "execution_count": null,
   "metadata": {
    "scrolled": true
   },
   "outputs": [],
   "source": [
    "enem_manaus.info()"
   ]
  },
  {
   "cell_type": "markdown",
   "metadata": {},
   "source": [
    "## Mapeando tipo de sexo de acordo com a planilha"
   ]
  },
  {
   "cell_type": "code",
   "execution_count": null,
   "metadata": {
    "scrolled": true
   },
   "outputs": [],
   "source": [
    "#Precisa limpar os NaN \n",
    "enem_manaus['TP_SEXO'] = enem_manaus['TP_SEXO'].map({'M':'Masculino','F':'Femenino'})"
   ]
  },
  {
   "cell_type": "code",
   "execution_count": null,
   "metadata": {
    "scrolled": true
   },
   "outputs": [],
   "source": [
    "enem_brasil['TP_SEXO'] = enem_brasil['TP_SEXO'].map({'M':'Masculino','F':'Femenino'})"
   ]
  },
  {
   "cell_type": "code",
   "execution_count": null,
   "metadata": {
    "scrolled": true
   },
   "outputs": [],
   "source": [
    "enem_manaus.head(10)"
   ]
  },
  {
   "cell_type": "markdown",
   "metadata": {},
   "source": [
    "## Mapeando Tipo de raça com o dataset de acordo com a planilha"
   ]
  },
  {
   "cell_type": "code",
   "execution_count": null,
   "metadata": {
    "scrolled": false
   },
   "outputs": [],
   "source": [
    "enem_brasil.head(10)"
   ]
  },
  {
   "cell_type": "code",
   "execution_count": null,
   "metadata": {
    "scrolled": true
   },
   "outputs": [],
   "source": [
    "# Procurando valores divergentes\n",
    "enem_manaus.loc[lambda enem_manaus: enem_manaus['TP_COR_RACA'] == 6]"
   ]
  },
  {
   "cell_type": "code",
   "execution_count": null,
   "metadata": {
    "scrolled": true
   },
   "outputs": [],
   "source": [
    "# Listando\n",
    "enem_manaus['TP_COR_RACA'].map({0:'Não Declarado', 1:'Branca', 2:'Preta', 3:'Parda', 4:'Amarela', 5:'Indígena'})"
   ]
  },
  {
   "cell_type": "code",
   "execution_count": null,
   "metadata": {
    "scrolled": true
   },
   "outputs": [],
   "source": [
    "# Listando\n",
    "enem_brasil['TP_COR_RACA'].map({0:'Não Declarado', 1:'Branca', 2:'Preta', 3:'Parda', 4:'Amarela', 5:'Indígena'})"
   ]
  },
  {
   "cell_type": "code",
   "execution_count": null,
   "metadata": {
    "scrolled": true
   },
   "outputs": [],
   "source": [
    "enem_manaus['TP_COR_RACA'] = enem_manaus['TP_COR_RACA'].map({0:'Não Declarado', 1:'Branca', 2:'Preta', 3:'Parda', 4:'Amarela', 5:'Indígena'})\n",
    "enem_brasil['TP_COR_RACA'] = enem_brasil['TP_COR_RACA'].map({0:'Não Declarado', 1:'Branca', 2:'Preta', 3:'Parda', 4:'Amarela', 5:'Indígena'})"
   ]
  },
  {
   "cell_type": "code",
   "execution_count": null,
   "metadata": {
    "scrolled": true
   },
   "outputs": [],
   "source": [
    "enem_manaus.head()"
   ]
  },
  {
   "cell_type": "code",
   "execution_count": null,
   "metadata": {
    "scrolled": true
   },
   "outputs": [],
   "source": [
    "enem_brasil.head()"
   ]
  },
  {
   "cell_type": "markdown",
   "metadata": {},
   "source": [
    "## Tipo de Escola"
   ]
  },
  {
   "cell_type": "markdown",
   "metadata": {},
   "source": [
    "1 - Não Respondeu.\n",
    "2 - Pública.\n",
    "3 - Privada.\n",
    "4 - Exterior."
   ]
  },
  {
   "cell_type": "code",
   "execution_count": null,
   "metadata": {
    "scrolled": true
   },
   "outputs": [],
   "source": [
    "enem_manaus.loc[lambda enem_manaus: enem_manaus['TP_ESCOLA'] == 4]"
   ]
  },
  {
   "cell_type": "code",
   "execution_count": null,
   "metadata": {
    "scrolled": true
   },
   "outputs": [],
   "source": [
    "enem_manaus['TP_ESCOLA'] = enem_manaus['TP_ESCOLA'].map({1: 'Não Respondeu', 2: 'Pública', 3: 'Privada', 4: 'Exterior'})\n",
    "enem_brasil['TP_ESCOLA'] = enem_brasil['TP_ESCOLA'].map({1: 'Não Respondeu', 2: 'Pública', 3: 'Privada', 4: 'Exterior'})"
   ]
  },
  {
   "cell_type": "code",
   "execution_count": null,
   "metadata": {
    "scrolled": true
   },
   "outputs": [],
   "source": [
    "enem_manaus.head()"
   ]
  },
  {
   "cell_type": "markdown",
   "metadata": {},
   "source": [
    "## Até que serie a mãe, ou a mulher responsável pelo aluno estudou."
   ]
  },
  {
   "cell_type": "markdown",
   "metadata": {},
   "source": [
    "A\tNunca estudou.\n",
    "B\tNão completou a 4ª série/5º ano do Ensino Fundamental.\n",
    "C\tCompletou a 4ª série/5º ano, mas não completou a 8ª série/9º ano do Ensino Fundamental.\n",
    "D\tCompletou a 8ª série/9º ano do Ensino Fundamental, mas não completou o Ensino Médio.\n",
    "E\tCompletou o Ensino Médio, mas não completou a Faculdade.\n",
    "F\tCompletou a Faculdade, mas não completou a Pós-graduação.\n",
    "G\tCompletou a Pós-graduação.\n",
    "H\tNão sei.\n"
   ]
  },
  {
   "cell_type": "code",
   "execution_count": null,
   "metadata": {
    "scrolled": true
   },
   "outputs": [],
   "source": [
    "enem_manaus['Q002'] = enem_manaus['Q002'].map({'A': 'Nunca estudou.',\n",
    "                        'B':'Não completou a 4ª série/5º ano do Ensino Fundamental.',\n",
    "                        'C':'Completou a 4ª série/5º ano, mas não completou a 8ª série/9º ano do Ensino Fundamental.',\n",
    "                        'D':'Completou a 8ª série/9º ano do Ensino Fundamental, mas não completou o Ensino Médio.',\n",
    "                        'E':'Completou o Ensino Médio, mas não completou a Faculdade.',\n",
    "                        'F':'Completou a Faculdade, mas não completou a Pós-graduação.',\n",
    "                        'G':'Completou a Pós-graduação.',\n",
    "                        'H':'Não sei.'\n",
    "                        })"
   ]
  },
  {
   "cell_type": "code",
   "execution_count": null,
   "metadata": {
    "scrolled": true
   },
   "outputs": [],
   "source": [
    "enem_brasil['Q002'] = enem_brasil['Q002'].map({'A': 'Nunca estudou.',\n",
    "                        'B':'Não completou a 4ª série/5º ano do Ensino Fundamental.',\n",
    "                        'C':'Completou a 4ª série/5º ano, mas não completou a 8ª série/9º ano do Ensino Fundamental.',\n",
    "                        'D':'Completou a 8ª série/9º ano do Ensino Fundamental, mas não completou o Ensino Médio.',\n",
    "                        'E':'Completou o Ensino Médio, mas não completou a Faculdade.',\n",
    "                        'F':'Completou a Faculdade, mas não completou a Pós-graduação.',\n",
    "                        'G':'Completou a Pós-graduação.',\n",
    "                        'H':'Não sei.'\n",
    "                        })"
   ]
  },
  {
   "cell_type": "code",
   "execution_count": null,
   "metadata": {
    "scrolled": true
   },
   "outputs": [],
   "source": [
    "enem_manaus.head()"
   ]
  },
  {
   "cell_type": "code",
   "execution_count": 72,
   "metadata": {},
   "outputs": [
    {
     "data": {
      "text/plain": [
       "Text(0.5, 1.0, 'Comparação entre médias(Redação) por nível de escolaridade da Mãe em Manaus')"
      ]
     },
     "execution_count": 72,
     "metadata": {},
     "output_type": "execute_result"
    },
    {
     "data": {
      "image/png": "[encoded data removed]",
      "text/plain": [
       "<Figure size 432x288 with 1 Axes>"
      ]
     },
     "metadata": {
      "needs_background": "light"
     },
     "output_type": "display_data"
    }
   ],
   "source": [
    "quadro_resumo_escolar_manaus = enem_manaus[['TP_ESCOLA', 'NU_NOTA_REDACAO']].groupby(['TP_ESCOLA']).mean().sort_values(by='NU_NOTA_REDACAO', ascending=False).reset_index()\n",
    "\n",
    "ax = sns.barplot(x=\"NU_NOTA_REDACAO\", y=\"TP_ESCOLA\", data=quadro_resumo_escolar_manaus)\n",
    "ax.set_xlabel('Média Redação')\n",
    "ax.set_ylabel('Nível de Escolaridade da Mãe')\n",
    "ax.set_title('Comparação entre médias(Redação) por nível de escolaridade da Mãe em Manaus')"
   ]
  },
  {
   "cell_type": "code",
   "execution_count": 79,
   "metadata": {
    "collapsed": true
   },
   "outputs": [
    {
     "data": {
      "text/plain": [
       "TP_ESCOLA\n",
       "Privada          680.013063\n",
       "Não Respondeu    519.065258\n",
       "Pública          506.114747\n",
       "Name: NU_NOTA_REDACAO, dtype: float64"
      ]
     },
     "execution_count": 79,
     "metadata": {},
     "output_type": "execute_result"
    }
   ],
   "source": [
    "quadro_resumo_tipo_escola_manaus = enem_manaus[['TP_ESCOLA','NU_NOTA_REDACAO']].groupby('TP_ESCOLA')['NU_NOTA_REDACAO'].mean().sort_values(ascending=False)\n",
    "quadro_resumo_tipo_escola_manaus"
   ]
  },
  {
   "cell_type": "code",
   "execution_count": 69,
   "metadata": {
    "collapsed": true
   },
   "outputs": [
    {
     "ename": "KeyError",
     "evalue": "\"None of [Index(['TP_ESCOLA', 'NU_NOTA_REDACAO'], dtype='object', name='TP_ESCOLA')] are in the [index]\"",
     "output_type": "error",
     "traceback": [
      "\u001b[1;31m---------------------------------------------------------------------------\u001b[0m",
      "\u001b[1;31mKeyError\u001b[0m                                  Traceback (most recent call last)",
      "\u001b[1;32m<ipython-input-69-d09f33329024>\u001b[0m in \u001b[0;36m<module>\u001b[1;34m\u001b[0m\n\u001b[1;32m----> 1\u001b[1;33m \u001b[0mteste\u001b[0m \u001b[1;33m=\u001b[0m \u001b[0mquadro_resumo_tipo_escola_manaus\u001b[0m\u001b[1;33m[\u001b[0m\u001b[1;33m[\u001b[0m\u001b[1;34m'TP_ESCOLA'\u001b[0m\u001b[1;33m,\u001b[0m \u001b[1;34m'NU_NOTA_REDACAO'\u001b[0m\u001b[1;33m]\u001b[0m\u001b[1;33m]\u001b[0m\u001b[1;33m.\u001b[0m\u001b[0mgroupby\u001b[0m\u001b[1;33m(\u001b[0m\u001b[1;33m[\u001b[0m\u001b[1;34m'TP_ESCOLA'\u001b[0m\u001b[1;33m]\u001b[0m\u001b[1;33m)\u001b[0m\u001b[1;33m.\u001b[0m\u001b[0mmean\u001b[0m\u001b[1;33m(\u001b[0m\u001b[1;33m)\u001b[0m\u001b[1;33m.\u001b[0m\u001b[0msort_values\u001b[0m\u001b[1;33m(\u001b[0m\u001b[0mby\u001b[0m\u001b[1;33m=\u001b[0m\u001b[1;34m'NU_NOTA_REDACAO'\u001b[0m\u001b[1;33m,\u001b[0m \u001b[0mascending\u001b[0m\u001b[1;33m=\u001b[0m\u001b[1;32mFalse\u001b[0m\u001b[1;33m)\u001b[0m\u001b[1;33m.\u001b[0m\u001b[0mreset_index\u001b[0m\u001b[1;33m(\u001b[0m\u001b[1;33m)\u001b[0m\u001b[1;33m\u001b[0m\u001b[1;33m\u001b[0m\u001b[0m\n\u001b[0m\u001b[0;32m      2\u001b[0m \u001b[0max\u001b[0m \u001b[1;33m=\u001b[0m \u001b[0msns\u001b[0m\u001b[1;33m.\u001b[0m\u001b[0mbarplot\u001b[0m\u001b[1;33m(\u001b[0m\u001b[0mx\u001b[0m\u001b[1;33m=\u001b[0m\u001b[1;34m\"NU_NOTA_REDACAO\"\u001b[0m\u001b[1;33m,\u001b[0m \u001b[0my\u001b[0m\u001b[1;33m=\u001b[0m\u001b[1;34m\"TP_ESCOLA\"\u001b[0m\u001b[1;33m,\u001b[0m \u001b[0mdata\u001b[0m\u001b[1;33m=\u001b[0m\u001b[0mteste\u001b[0m\u001b[1;33m)\u001b[0m\u001b[1;33m\u001b[0m\u001b[1;33m\u001b[0m\u001b[0m\n\u001b[0;32m      3\u001b[0m \u001b[0max\u001b[0m\u001b[1;33m.\u001b[0m\u001b[0mset_xlabel\u001b[0m\u001b[1;33m(\u001b[0m\u001b[1;34m'Média Redação'\u001b[0m\u001b[1;33m)\u001b[0m\u001b[1;33m\u001b[0m\u001b[1;33m\u001b[0m\u001b[0m\n\u001b[0;32m      4\u001b[0m \u001b[0max\u001b[0m\u001b[1;33m.\u001b[0m\u001b[0mset_ylabel\u001b[0m\u001b[1;33m(\u001b[0m\u001b[1;34m'Nível de Escolaridade da Mãe'\u001b[0m\u001b[1;33m)\u001b[0m\u001b[1;33m\u001b[0m\u001b[1;33m\u001b[0m\u001b[0m\n\u001b[0;32m      5\u001b[0m \u001b[0max\u001b[0m\u001b[1;33m.\u001b[0m\u001b[0mset_title\u001b[0m\u001b[1;33m(\u001b[0m\u001b[1;34m'Comparação entre médias(Redação) por nível de escolaridade da Mãe em Manaus'\u001b[0m\u001b[1;33m)\u001b[0m\u001b[1;33m\u001b[0m\u001b[1;33m\u001b[0m\u001b[0m\n",
      "\u001b[1;32m~\\anaconda3\\lib\\site-packages\\pandas\\core\\series.py\u001b[0m in \u001b[0;36m__getitem__\u001b[1;34m(self, key)\u001b[0m\n\u001b[0;32m    908\u001b[0m             \u001b[0mkey\u001b[0m \u001b[1;33m=\u001b[0m \u001b[0mcheck_bool_indexer\u001b[0m\u001b[1;33m(\u001b[0m\u001b[0mself\u001b[0m\u001b[1;33m.\u001b[0m\u001b[0mindex\u001b[0m\u001b[1;33m,\u001b[0m \u001b[0mkey\u001b[0m\u001b[1;33m)\u001b[0m\u001b[1;33m\u001b[0m\u001b[1;33m\u001b[0m\u001b[0m\n\u001b[0;32m    909\u001b[0m \u001b[1;33m\u001b[0m\u001b[0m\n\u001b[1;32m--> 910\u001b[1;33m         \u001b[1;32mreturn\u001b[0m \u001b[0mself\u001b[0m\u001b[1;33m.\u001b[0m\u001b[0m_get_with\u001b[0m\u001b[1;33m(\u001b[0m\u001b[0mkey\u001b[0m\u001b[1;33m)\u001b[0m\u001b[1;33m\u001b[0m\u001b[1;33m\u001b[0m\u001b[0m\n\u001b[0m\u001b[0;32m    911\u001b[0m \u001b[1;33m\u001b[0m\u001b[0m\n\u001b[0;32m    912\u001b[0m     \u001b[1;32mdef\u001b[0m \u001b[0m_get_with\u001b[0m\u001b[1;33m(\u001b[0m\u001b[0mself\u001b[0m\u001b[1;33m,\u001b[0m \u001b[0mkey\u001b[0m\u001b[1;33m)\u001b[0m\u001b[1;33m:\u001b[0m\u001b[1;33m\u001b[0m\u001b[1;33m\u001b[0m\u001b[0m\n",
      "\u001b[1;32m~\\anaconda3\\lib\\site-packages\\pandas\\core\\series.py\u001b[0m in \u001b[0;36m_get_with\u001b[1;34m(self, key)\u001b[0m\n\u001b[0;32m    956\u001b[0m                 \u001b[1;32mreturn\u001b[0m \u001b[0mself\u001b[0m\u001b[1;33m.\u001b[0m\u001b[0m_get_values\u001b[0m\u001b[1;33m(\u001b[0m\u001b[0mkey\u001b[0m\u001b[1;33m)\u001b[0m\u001b[1;33m\u001b[0m\u001b[1;33m\u001b[0m\u001b[0m\n\u001b[0;32m    957\u001b[0m \u001b[1;33m\u001b[0m\u001b[0m\n\u001b[1;32m--> 958\u001b[1;33m             \u001b[1;32mreturn\u001b[0m \u001b[0mself\u001b[0m\u001b[1;33m.\u001b[0m\u001b[0mloc\u001b[0m\u001b[1;33m[\u001b[0m\u001b[0mkey\u001b[0m\u001b[1;33m]\u001b[0m\u001b[1;33m\u001b[0m\u001b[1;33m\u001b[0m\u001b[0m\n\u001b[0m\u001b[0;32m    959\u001b[0m \u001b[1;33m\u001b[0m\u001b[0m\n\u001b[0;32m    960\u001b[0m         \u001b[1;32mreturn\u001b[0m \u001b[0mself\u001b[0m\u001b[1;33m.\u001b[0m\u001b[0mreindex\u001b[0m\u001b[1;33m(\u001b[0m\u001b[0mkey\u001b[0m\u001b[1;33m)\u001b[0m\u001b[1;33m\u001b[0m\u001b[1;33m\u001b[0m\u001b[0m\n",
      "\u001b[1;32m~\\anaconda3\\lib\\site-packages\\pandas\\core\\indexing.py\u001b[0m in \u001b[0;36m__getitem__\u001b[1;34m(self, key)\u001b[0m\n\u001b[0;32m   1766\u001b[0m \u001b[1;33m\u001b[0m\u001b[0m\n\u001b[0;32m   1767\u001b[0m             \u001b[0mmaybe_callable\u001b[0m \u001b[1;33m=\u001b[0m \u001b[0mcom\u001b[0m\u001b[1;33m.\u001b[0m\u001b[0mapply_if_callable\u001b[0m\u001b[1;33m(\u001b[0m\u001b[0mkey\u001b[0m\u001b[1;33m,\u001b[0m \u001b[0mself\u001b[0m\u001b[1;33m.\u001b[0m\u001b[0mobj\u001b[0m\u001b[1;33m)\u001b[0m\u001b[1;33m\u001b[0m\u001b[1;33m\u001b[0m\u001b[0m\n\u001b[1;32m-> 1768\u001b[1;33m             \u001b[1;32mreturn\u001b[0m \u001b[0mself\u001b[0m\u001b[1;33m.\u001b[0m\u001b[0m_getitem_axis\u001b[0m\u001b[1;33m(\u001b[0m\u001b[0mmaybe_callable\u001b[0m\u001b[1;33m,\u001b[0m \u001b[0maxis\u001b[0m\u001b[1;33m=\u001b[0m\u001b[0maxis\u001b[0m\u001b[1;33m)\u001b[0m\u001b[1;33m\u001b[0m\u001b[1;33m\u001b[0m\u001b[0m\n\u001b[0m\u001b[0;32m   1769\u001b[0m \u001b[1;33m\u001b[0m\u001b[0m\n\u001b[0;32m   1770\u001b[0m     \u001b[1;32mdef\u001b[0m \u001b[0m_is_scalar_access\u001b[0m\u001b[1;33m(\u001b[0m\u001b[0mself\u001b[0m\u001b[1;33m,\u001b[0m \u001b[0mkey\u001b[0m\u001b[1;33m:\u001b[0m \u001b[0mTuple\u001b[0m\u001b[1;33m)\u001b[0m\u001b[1;33m:\u001b[0m\u001b[1;33m\u001b[0m\u001b[1;33m\u001b[0m\u001b[0m\n",
      "\u001b[1;32m~\\anaconda3\\lib\\site-packages\\pandas\\core\\indexing.py\u001b[0m in \u001b[0;36m_getitem_axis\u001b[1;34m(self, key, axis)\u001b[0m\n\u001b[0;32m   1952\u001b[0m                     \u001b[1;32mraise\u001b[0m \u001b[0mValueError\u001b[0m\u001b[1;33m(\u001b[0m\u001b[1;34m\"Cannot index with multidimensional key\"\u001b[0m\u001b[1;33m)\u001b[0m\u001b[1;33m\u001b[0m\u001b[1;33m\u001b[0m\u001b[0m\n\u001b[0;32m   1953\u001b[0m \u001b[1;33m\u001b[0m\u001b[0m\n\u001b[1;32m-> 1954\u001b[1;33m                 \u001b[1;32mreturn\u001b[0m \u001b[0mself\u001b[0m\u001b[1;33m.\u001b[0m\u001b[0m_getitem_iterable\u001b[0m\u001b[1;33m(\u001b[0m\u001b[0mkey\u001b[0m\u001b[1;33m,\u001b[0m \u001b[0maxis\u001b[0m\u001b[1;33m=\u001b[0m\u001b[0maxis\u001b[0m\u001b[1;33m)\u001b[0m\u001b[1;33m\u001b[0m\u001b[1;33m\u001b[0m\u001b[0m\n\u001b[0m\u001b[0;32m   1955\u001b[0m \u001b[1;33m\u001b[0m\u001b[0m\n\u001b[0;32m   1956\u001b[0m             \u001b[1;31m# nested tuple slicing\u001b[0m\u001b[1;33m\u001b[0m\u001b[1;33m\u001b[0m\u001b[1;33m\u001b[0m\u001b[0m\n",
      "\u001b[1;32m~\\anaconda3\\lib\\site-packages\\pandas\\core\\indexing.py\u001b[0m in \u001b[0;36m_getitem_iterable\u001b[1;34m(self, key, axis)\u001b[0m\n\u001b[0;32m   1593\u001b[0m         \u001b[1;32melse\u001b[0m\u001b[1;33m:\u001b[0m\u001b[1;33m\u001b[0m\u001b[1;33m\u001b[0m\u001b[0m\n\u001b[0;32m   1594\u001b[0m             \u001b[1;31m# A collection of keys\u001b[0m\u001b[1;33m\u001b[0m\u001b[1;33m\u001b[0m\u001b[1;33m\u001b[0m\u001b[0m\n\u001b[1;32m-> 1595\u001b[1;33m             \u001b[0mkeyarr\u001b[0m\u001b[1;33m,\u001b[0m \u001b[0mindexer\u001b[0m \u001b[1;33m=\u001b[0m \u001b[0mself\u001b[0m\u001b[1;33m.\u001b[0m\u001b[0m_get_listlike_indexer\u001b[0m\u001b[1;33m(\u001b[0m\u001b[0mkey\u001b[0m\u001b[1;33m,\u001b[0m \u001b[0maxis\u001b[0m\u001b[1;33m,\u001b[0m \u001b[0mraise_missing\u001b[0m\u001b[1;33m=\u001b[0m\u001b[1;32mFalse\u001b[0m\u001b[1;33m)\u001b[0m\u001b[1;33m\u001b[0m\u001b[1;33m\u001b[0m\u001b[0m\n\u001b[0m\u001b[0;32m   1596\u001b[0m             return self.obj._reindex_with_indexers(\n\u001b[0;32m   1597\u001b[0m                 \u001b[1;33m{\u001b[0m\u001b[0maxis\u001b[0m\u001b[1;33m:\u001b[0m \u001b[1;33m[\u001b[0m\u001b[0mkeyarr\u001b[0m\u001b[1;33m,\u001b[0m \u001b[0mindexer\u001b[0m\u001b[1;33m]\u001b[0m\u001b[1;33m}\u001b[0m\u001b[1;33m,\u001b[0m \u001b[0mcopy\u001b[0m\u001b[1;33m=\u001b[0m\u001b[1;32mTrue\u001b[0m\u001b[1;33m,\u001b[0m \u001b[0mallow_dups\u001b[0m\u001b[1;33m=\u001b[0m\u001b[1;32mTrue\u001b[0m\u001b[1;33m\u001b[0m\u001b[1;33m\u001b[0m\u001b[0m\n",
      "\u001b[1;32m~\\anaconda3\\lib\\site-packages\\pandas\\core\\indexing.py\u001b[0m in \u001b[0;36m_get_listlike_indexer\u001b[1;34m(self, key, axis, raise_missing)\u001b[0m\n\u001b[0;32m   1550\u001b[0m             \u001b[0mkeyarr\u001b[0m\u001b[1;33m,\u001b[0m \u001b[0mindexer\u001b[0m\u001b[1;33m,\u001b[0m \u001b[0mnew_indexer\u001b[0m \u001b[1;33m=\u001b[0m \u001b[0max\u001b[0m\u001b[1;33m.\u001b[0m\u001b[0m_reindex_non_unique\u001b[0m\u001b[1;33m(\u001b[0m\u001b[0mkeyarr\u001b[0m\u001b[1;33m)\u001b[0m\u001b[1;33m\u001b[0m\u001b[1;33m\u001b[0m\u001b[0m\n\u001b[0;32m   1551\u001b[0m \u001b[1;33m\u001b[0m\u001b[0m\n\u001b[1;32m-> 1552\u001b[1;33m         self._validate_read_indexer(\n\u001b[0m\u001b[0;32m   1553\u001b[0m             \u001b[0mkeyarr\u001b[0m\u001b[1;33m,\u001b[0m \u001b[0mindexer\u001b[0m\u001b[1;33m,\u001b[0m \u001b[0mo\u001b[0m\u001b[1;33m.\u001b[0m\u001b[0m_get_axis_number\u001b[0m\u001b[1;33m(\u001b[0m\u001b[0maxis\u001b[0m\u001b[1;33m)\u001b[0m\u001b[1;33m,\u001b[0m \u001b[0mraise_missing\u001b[0m\u001b[1;33m=\u001b[0m\u001b[0mraise_missing\u001b[0m\u001b[1;33m\u001b[0m\u001b[1;33m\u001b[0m\u001b[0m\n\u001b[0;32m   1554\u001b[0m         )\n",
      "\u001b[1;32m~\\anaconda3\\lib\\site-packages\\pandas\\core\\indexing.py\u001b[0m in \u001b[0;36m_validate_read_indexer\u001b[1;34m(self, key, indexer, axis, raise_missing)\u001b[0m\n\u001b[0;32m   1638\u001b[0m             \u001b[1;32mif\u001b[0m \u001b[0mmissing\u001b[0m \u001b[1;33m==\u001b[0m \u001b[0mlen\u001b[0m\u001b[1;33m(\u001b[0m\u001b[0mindexer\u001b[0m\u001b[1;33m)\u001b[0m\u001b[1;33m:\u001b[0m\u001b[1;33m\u001b[0m\u001b[1;33m\u001b[0m\u001b[0m\n\u001b[0;32m   1639\u001b[0m                 \u001b[0maxis_name\u001b[0m \u001b[1;33m=\u001b[0m \u001b[0mself\u001b[0m\u001b[1;33m.\u001b[0m\u001b[0mobj\u001b[0m\u001b[1;33m.\u001b[0m\u001b[0m_get_axis_name\u001b[0m\u001b[1;33m(\u001b[0m\u001b[0maxis\u001b[0m\u001b[1;33m)\u001b[0m\u001b[1;33m\u001b[0m\u001b[1;33m\u001b[0m\u001b[0m\n\u001b[1;32m-> 1640\u001b[1;33m                 \u001b[1;32mraise\u001b[0m \u001b[0mKeyError\u001b[0m\u001b[1;33m(\u001b[0m\u001b[1;34mf\"None of [{key}] are in the [{axis_name}]\"\u001b[0m\u001b[1;33m)\u001b[0m\u001b[1;33m\u001b[0m\u001b[1;33m\u001b[0m\u001b[0m\n\u001b[0m\u001b[0;32m   1641\u001b[0m \u001b[1;33m\u001b[0m\u001b[0m\n\u001b[0;32m   1642\u001b[0m             \u001b[1;31m# We (temporarily) allow for some missing keys with .loc, except in\u001b[0m\u001b[1;33m\u001b[0m\u001b[1;33m\u001b[0m\u001b[1;33m\u001b[0m\u001b[0m\n",
      "\u001b[1;31mKeyError\u001b[0m: \"None of [Index(['TP_ESCOLA', 'NU_NOTA_REDACAO'], dtype='object', name='TP_ESCOLA')] are in the [index]\""
     ]
    }
   ],
   "source": [
    "teste = quadro_resumo_tipo_escola_manaus[['TP_ESCOLA', 'NU_NOTA_REDACAO']].groupby(['TP_ESCOLA']).mean().sort_values(by='NU_NOTA_REDACAO', ascending=False).reset_index()\n",
    "ax = sns.barplot(x=\"NU_NOTA_REDACAO\", y=\"TP_ESCOLA\", data=teste)\n",
    "ax.set_xlabel('Média Redação')\n",
    "ax.set_ylabel('Nível de Escolaridade da Mãe')\n",
    "ax.set_title('Comparação entre médias(Redação) por nível de escolaridade da Mãe em Manaus')"
   ]
  },
  {
   "cell_type": "code",
   "execution_count": null,
   "metadata": {},
   "outputs": [],
   "source": [
    "quadro_resumo_escolaridade_mae_manaus = enem_manaus[['Q002', 'NU_NOTA_REDACAO']].groupby(['Q002']).mean().sort_values(by='NU_NOTA_REDACAO', ascending=False).reset_index()\n",
    "ax = sns.barplot(x=\"NU_NOTA_REDACAO\", y=\"Q002\", data=quadro_resumo_escolaridade_mae_manaus)\n",
    "ax.set_xlabel('Média Redação')\n",
    "ax.set_ylabel('Nível de Escolaridade da Mãe')\n",
    "ax.set_title('Comparação entre médias(Redação) por nível de escolaridade da Mãe em Manaus')"
   ]
  },
  {
   "cell_type": "markdown",
   "metadata": {},
   "source": [
    "## Graficos "
   ]
  },
  {
   "cell_type": "markdown",
   "metadata": {},
   "source": [
    "### O nível de escolaridade da mãe influencia na nota da Redação dos alunos Manaus"
   ]
  },
  {
   "cell_type": "code",
   "execution_count": null,
   "metadata": {
    "scrolled": true
   },
   "outputs": [],
   "source": [
    "medias_redacao_por_escolaridade_mae = enem_manaus.groupby('Q002')['NU_NOTA_REDACAO'].mean().sort_values(ascending=False)"
   ]
  },
  {
   "cell_type": "code",
   "execution_count": 43,
   "metadata": {
    "collapsed": true
   },
   "outputs": [
    {
     "data": {
      "text/plain": [
       "Q002\n",
       "Completou a Pós-graduação.                                                                 606.231884\n",
       "Completou a Faculdade, mas não completou a Pós-graduação.                                  578.654160\n",
       "Completou o Ensino Médio, mas não completou a Faculdade.                                   527.091768\n",
       "Completou a 8ª série/9º ano do Ensino Fundamental, mas não completou o Ensino Médio.       500.694766\n",
       "Completou a 4ª série/5º ano, mas não completou a 8ª série/9º ano do Ensino Fundamental.    490.840210\n",
       "Não completou a 4ª série/5º ano do Ensino Fundamental.                                     479.503289\n",
       "Não sei.                                                                                   474.749141\n",
       "Nunca estudou.                                                                             438.530716\n",
       "Name: NU_NOTA_REDACAO, dtype: float64"
      ]
     },
     "execution_count": 43,
     "metadata": {},
     "output_type": "execute_result"
    }
   ],
   "source": [
    "medias_redacao_por_escolaridade_mae"
   ]
  },
  {
   "cell_type": "code",
   "execution_count": 68,
   "metadata": {
    "scrolled": true
   },
   "outputs": [
    {
     "data": {
      "text/plain": [
       "Text(0.5, 1.0, 'Comparação entre médias(Redação) por nível de escolaridade da Mãe em Manaus')"
      ]
     },
     "execution_count": 68,
     "metadata": {},
     "output_type": "execute_result"
    },
    {
     "data": {
      "image/png": "[encoded data removed]",
      "text/plain": [
       "<Figure size 432x288 with 1 Axes>"
      ]
     },
     "metadata": {
      "needs_background": "light"
     },
     "output_type": "display_data"
    }
   ],
   "source": [
    "quadro_resumo_escolaridade_mae_manaus = enem_manaus[['Q002', 'NU_NOTA_REDACAO']].groupby(['Q002']).mean().sort_values(by='NU_NOTA_REDACAO', ascending=False).reset_index()\n",
    "\n",
    "ax = sns.barplot(x=\"NU_NOTA_REDACAO\", y=\"Q002\", data=quadro_resumo_escolaridade_mae_manaus)\n",
    "ax.set_xlabel('Média Redação')\n",
    "ax.set_ylabel('Nível de Escolaridade da Mãe')\n",
    "ax.set_title('Comparação entre médias(Redação) por nível de escolaridade da Mãe em Manaus')"
   ]
  },
  {
   "cell_type": "markdown",
   "metadata": {},
   "source": [
    "### O nível de escolaridade da mãe influencia na nota da Redação dos alunos de outros Estados"
   ]
  },
  {
   "cell_type": "code",
   "execution_count": 80,
   "metadata": {
    "scrolled": true
   },
   "outputs": [
    {
     "data": {
      "text/plain": [
       "Text(0.5, 1.0, 'Comparação entre médias(Redação) por nível de escolaridade da Mãe em outros Estados')"
      ]
     },
     "execution_count": 80,
     "metadata": {},
     "output_type": "execute_result"
    },
    {
     "data": {
      "image/png": "[encoded data removed]",
      "text/plain": [
       "<Figure size 432x288 with 1 Axes>"
      ]
     },
     "metadata": {
      "needs_background": "light"
     },
     "output_type": "display_data"
    }
   ],
   "source": [
    "quadro_resumo_escolaridade_mae_brasil = enem_brasil[['Q002', 'NU_NOTA_REDACAO']].groupby(['Q002']).mean().sort_values(by='NU_NOTA_REDACAO', ascending=False).reset_index()\n",
    "ax = sns.barplot(x=\"NU_NOTA_REDACAO\", y=\"Q002\", data=quadro_resumo_escolaridade_mae_brasil)\n",
    "ax.set_xlabel('Média Redação')\n",
    "ax.set_ylabel('Nível de Escolaridade da Mãe')\n",
    "ax.set_title('Comparação entre médias(Redação) por nível de escolaridade da Mãe em outros Estados')"
   ]
  },
  {
   "cell_type": "markdown",
   "metadata": {},
   "source": [
    "# Considerações Finais"
   ]
  },
  {
   "cell_type": "markdown",
   "metadata": {},
   "source": []
  }
 ],
 "metadata": {
  "kernelspec": {
   "display_name": "Python 3",
   "language": "python",
   "name": "python3"
  },
  "language_info": {
   "codemirror_mode": {
    "name": "ipython",
    "version": 3
   },
   "file_extension": ".py",
   "mimetype": "text/x-python",
   "name": "python",
   "nbconvert_exporter": "python",
   "pygments_lexer": "ipython3",
   "version": "3.7.6"
  }
 },
 "nbformat": 4,
 "nbformat_minor": 4
}
